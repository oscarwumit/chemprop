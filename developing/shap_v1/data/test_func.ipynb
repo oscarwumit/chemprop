{
 "cells": [
  {
   "cell_type": "code",
   "execution_count": 3,
   "metadata": {},
   "outputs": [],
   "source": [
    "from typing import List, Tuple, Union\n",
    "from itertools import zip_longest\n",
    "import logging\n",
    "\n",
    "from rdkit import Chem\n",
    "import torch\n",
    "import numpy as np\n",
    "\n",
    "from chemprop.rdkit import make_mol\n",
    "\n",
    "class Featurization_parameters:\n",
    "    \"\"\"\n",
    "    A class holding molecule featurization parameters as attributes.\n",
    "    \"\"\"\n",
    "    def __init__(self) -> None:\n",
    "\n",
    "        # Atom feature sizes\n",
    "        self.MAX_ATOMIC_NUM = 100\n",
    "        self.ATOM_FEATURES = {\n",
    "            'atomic_num': list(range(self.MAX_ATOMIC_NUM)),\n",
    "            'degree': [0, 1, 2, 3, 4, 5],\n",
    "            'formal_charge': [-1, -2, 1, 2, 0],\n",
    "            'chiral_tag': [0, 1, 2, 3],\n",
    "            'num_Hs': [0, 1, 2, 3, 4],\n",
    "            'hybridization': [\n",
    "                Chem.rdchem.HybridizationType.SP,\n",
    "                Chem.rdchem.HybridizationType.SP2,\n",
    "                Chem.rdchem.HybridizationType.SP3,\n",
    "                Chem.rdchem.HybridizationType.SP3D,\n",
    "                Chem.rdchem.HybridizationType.SP3D2\n",
    "            ],\n",
    "        }\n",
    "\n",
    "        # Distance feature sizes\n",
    "        self.PATH_DISTANCE_BINS = list(range(10))\n",
    "        self.THREE_D_DISTANCE_MAX = 20\n",
    "        self.THREE_D_DISTANCE_STEP = 1\n",
    "        self.THREE_D_DISTANCE_BINS = list(range(0, self.THREE_D_DISTANCE_MAX + 1, self.THREE_D_DISTANCE_STEP))\n",
    "\n",
    "        # len(choices) + 1 to include room for uncommon values; + 2 at end for IsAromatic and mass\n",
    "        self.ATOM_FDIM = sum(len(choices) + 1 for choices in self.ATOM_FEATURES.values()) + 2\n",
    "        self.EXTRA_ATOM_FDIM = 0\n",
    "        self.BOND_FDIM = 14\n",
    "        self.EXTRA_BOND_FDIM = 0\n",
    "        self.REACTION_MODE = None\n",
    "        self.EXPLICIT_H = False\n",
    "        self.REACTION = False\n",
    "        self.ADDING_H = False\n",
    "        self.KEEP_ATOM_MAP = False\n",
    "\n",
    "# Create a global parameter object for reference throughout this module\n",
    "PARAMS = Featurization_parameters()\n",
    "\n",
    "\n",
    "def reset_featurization_parameters(logger: logging.Logger = None) -> None:\n",
    "    \"\"\"\n",
    "    Function resets feature parameter values to defaults by replacing the parameters instance.\n",
    "    \"\"\"\n",
    "    if logger is not None:\n",
    "        debug = logger.debug\n",
    "    else:\n",
    "        debug = print\n",
    "    debug('Setting molecule featurization parameters to default.')\n",
    "    global PARAMS\n",
    "    PARAMS = Featurization_parameters()\n",
    "\n",
    "\n",
    "def get_atom_fdim(overwrite_default_atom: bool = False, is_reaction: bool = False) -> int:\n",
    "    \"\"\"\n",
    "    Gets the dimensionality of the atom feature vector.\n",
    "\n",
    "    :param overwrite_default_atom: Whether to overwrite the default atom descriptors.\n",
    "    :param is_reaction: Whether to add :code:`EXTRA_ATOM_FDIM` for reaction input when :code:`REACTION_MODE` is not None.\n",
    "    :return: The dimensionality of the atom feature vector.\n",
    "    \"\"\"\n",
    "    if PARAMS.REACTION_MODE:\n",
    "        return (not overwrite_default_atom) * PARAMS.ATOM_FDIM + is_reaction * PARAMS.EXTRA_ATOM_FDIM\n",
    "    else:\n",
    "        return (not overwrite_default_atom) * PARAMS.ATOM_FDIM + PARAMS.EXTRA_ATOM_FDIM\n",
    "\n",
    "\n",
    "def set_explicit_h(explicit_h: bool) -> None:\n",
    "    \"\"\"\n",
    "    Sets whether RDKit molecules will be constructed with explicit Hs.\n",
    "\n",
    "    :param explicit_h: Boolean whether to keep explicit Hs from input.\n",
    "    \"\"\"\n",
    "    PARAMS.EXPLICIT_H = explicit_h\n",
    "\n",
    "def set_adding_hs(adding_hs: bool) -> None:\n",
    "    \"\"\"\n",
    "    Sets whether RDKit molecules will be constructed with adding the Hs to them.\n",
    "\n",
    "    :param adding_hs: Boolean whether to add Hs to the molecule.\n",
    "    \"\"\"\n",
    "    PARAMS.ADDING_H = adding_hs\n",
    "\n",
    "def set_keeping_atom_map(keeping_atom_map: bool) -> None:\n",
    "    \"\"\"\n",
    "    Sets whether RDKit molecules keep the original atom mapping.\n",
    "\n",
    "    :param keeping_atom_map: Boolean whether to keep the original atom mapping.\n",
    "    \"\"\"\n",
    "    PARAMS.KEEP_ATOM_MAP = keeping_atom_map\n",
    "\n",
    "def set_reaction(reaction: bool, mode: str) -> None:\n",
    "    \"\"\"\n",
    "    Sets whether to use a reaction or molecule as input and adapts feature dimensions.\n",
    " \n",
    "    :param reaction: Boolean whether to except reactions as input.\n",
    "    :param mode: Reaction mode to construct atom and bond feature vectors.\n",
    "\n",
    "    \"\"\"\n",
    "    PARAMS.REACTION = reaction\n",
    "    if reaction:\n",
    "        PARAMS.EXTRA_ATOM_FDIM = PARAMS.ATOM_FDIM - PARAMS.MAX_ATOMIC_NUM - 1\n",
    "        PARAMS.EXTRA_BOND_FDIM = PARAMS.BOND_FDIM\n",
    "        PARAMS.REACTION_MODE = mode\n",
    "        \n",
    "def is_explicit_h(is_mol: bool = True) -> bool:\n",
    "    r\"\"\"Returns whether to retain explicit Hs (for reactions only)\"\"\"\n",
    "    if not is_mol:\n",
    "        return PARAMS.EXPLICIT_H\n",
    "    return False\n",
    "\n",
    "\n",
    "def is_adding_hs(is_mol: bool = True) -> bool:\n",
    "    r\"\"\"Returns whether to add explicit Hs to the mol (not for reactions)\"\"\"\n",
    "    if is_mol:\n",
    "        return PARAMS.ADDING_H\n",
    "    return False\n",
    "\n",
    "\n",
    "def is_keeping_atom_map(is_mol: bool = True) -> bool:\n",
    "    r\"\"\"Returns whether to keep the original atom mapping (not for reactions)\"\"\"\n",
    "    if is_mol:\n",
    "        return PARAMS.KEEP_ATOM_MAP\n",
    "    return True\n",
    "\n",
    "\n",
    "def is_reaction(is_mol: bool = True) -> bool:\n",
    "    r\"\"\"Returns whether to use reactions as input\"\"\"\n",
    "    if is_mol:\n",
    "        return False\n",
    "    if PARAMS.REACTION: #(and not is_mol, checked above)\n",
    "        return True\n",
    "    return False\n",
    "\n",
    "\n",
    "def reaction_mode() -> str:\n",
    "    r\"\"\"Returns the reaction mode\"\"\"\n",
    "    return PARAMS.REACTION_MODE\n",
    "\n",
    "\n",
    "def set_extra_atom_fdim(extra):\n",
    "    \"\"\"Change the dimensionality of the atom feature vector.\"\"\"\n",
    "    PARAMS.EXTRA_ATOM_FDIM = extra\n",
    "\n",
    "\n",
    "def get_bond_fdim(atom_messages: bool = False,\n",
    "                  overwrite_default_bond: bool = False,\n",
    "                  overwrite_default_atom: bool = False,\n",
    "                  is_reaction: bool = False) -> int:\n",
    "    \"\"\"\n",
    "    Gets the dimensionality of the bond feature vector.\n",
    "\n",
    "    :param atom_messages: Whether atom messages are being used. If atom messages are used,\n",
    "                          then the bond feature vector only contains bond features.\n",
    "                          Otherwise it contains both atom and bond features.\n",
    "    :param overwrite_default_bond: Whether to overwrite the default bond descriptors.\n",
    "    :param overwrite_default_atom: Whether to overwrite the default atom descriptors.\n",
    "    :param is_reaction: Whether to add :code:`EXTRA_BOND_FDIM` for reaction input when :code:`REACTION_MODE:` is not None\n",
    "    :return: The dimensionality of the bond feature vector.\n",
    "    \"\"\"\n",
    "\n",
    "    if PARAMS.REACTION_MODE:\n",
    "        return (not overwrite_default_bond) * PARAMS.BOND_FDIM + is_reaction * PARAMS.EXTRA_BOND_FDIM + \\\n",
    "            (not atom_messages) * get_atom_fdim(overwrite_default_atom=overwrite_default_atom, is_reaction=is_reaction)\n",
    "    else:\n",
    "        return (not overwrite_default_bond) * PARAMS.BOND_FDIM + PARAMS.EXTRA_BOND_FDIM + \\\n",
    "            (not atom_messages) * get_atom_fdim(overwrite_default_atom=overwrite_default_atom, is_reaction=is_reaction)\n",
    "\n",
    "\n",
    "def set_extra_bond_fdim(extra):\n",
    "    \"\"\"Change the dimensionality of the bond feature vector.\"\"\"\n",
    "    PARAMS.EXTRA_BOND_FDIM = extra\n",
    "\n",
    "\n",
    "def onek_encoding_unk(value: int, choices: List[int]) -> List[int]:\n",
    "    \"\"\"\n",
    "    Creates a one-hot encoding with an extra category for uncommon values.\n",
    "\n",
    "    :param value: The value for which the encoding should be one.\n",
    "    :param choices: A list of possible values.\n",
    "    :return: A one-hot encoding of the :code:`value` in a list of length :code:`len(choices) + 1`.\n",
    "             If :code:`value` is not in :code:`choices`, then the final element in the encoding is 1.\n",
    "    \"\"\"\n",
    "    encoding = [0] * (len(choices) + 1)\n",
    "    index = choices.index(value) if value in choices else -1\n",
    "    encoding[index] = 1\n",
    "\n",
    "    return encoding\n",
    "\n",
    "\n",
    "def atom_features(atom: Chem.rdchem.Atom, functional_groups: List[int] = None) -> List[Union[bool, int, float]]:\n",
    "    \"\"\"\n",
    "    Builds a feature vector for an atom.\n",
    "\n",
    "    :param atom: An RDKit atom.\n",
    "    :param functional_groups: A k-hot vector indicating the functional groups the atom belongs to.\n",
    "    :return: A list containing the atom features.\n",
    "    \"\"\"\n",
    "    if atom is None:\n",
    "        features = [0] * PARAMS.ATOM_FDIM\n",
    "    else:\n",
    "        features = onek_encoding_unk(atom.GetAtomicNum() - 1, PARAMS.ATOM_FEATURES['atomic_num']) + \\\n",
    "            onek_encoding_unk(atom.GetTotalDegree(), PARAMS.ATOM_FEATURES['degree']) + \\\n",
    "            onek_encoding_unk(atom.GetFormalCharge(), PARAMS.ATOM_FEATURES['formal_charge']) + \\\n",
    "            onek_encoding_unk(int(atom.GetChiralTag()), PARAMS.ATOM_FEATURES['chiral_tag']) + \\\n",
    "            onek_encoding_unk(int(atom.GetTotalNumHs()), PARAMS.ATOM_FEATURES['num_Hs']) + \\\n",
    "            onek_encoding_unk(int(atom.GetHybridization()), PARAMS.ATOM_FEATURES['hybridization']) + \\\n",
    "            [1 if atom.GetIsAromatic() else 0] + \\\n",
    "            [atom.GetMass() * 0.01]  # scaled to about the same range as other features\n",
    "        if functional_groups is not None:\n",
    "            features += functional_groups\n",
    "    return features\n",
    "\n",
    "def atom_features_new(atom: Chem.rdchem.Atom, keep_features: List[bool] = [True]*8, functional_groups: List[int] = None) -> List[Union[bool, int, float]]:\n",
    "    \"\"\"\n",
    "    Builds a feature vector for an atom.\n",
    "\n",
    "    :param atom: An RDKit atom.\n",
    "    :param keep_features: A boolean vector indicating which features to keep.\n",
    "    :param functional_groups: A k-hot vector indicating the functional groups the atom belongs to.\n",
    "    :return: A list containing the atom features.\n",
    "    \"\"\"\n",
    "    if atom is None:\n",
    "        return [0] * PARAMS.ATOM_FDIM\n",
    "\n",
    "    # Define features and their corresponding keep flags\n",
    "    feature_constructors = [\n",
    "        (lambda atom: onek_encoding_unk(atom.GetAtomicNum() - 1, PARAMS.ATOM_FEATURES['atomic_num']), 0),\n",
    "        (lambda atom: onek_encoding_unk(atom.GetTotalDegree(), PARAMS.ATOM_FEATURES['degree']), 1),\n",
    "        (lambda atom: onek_encoding_unk(atom.GetFormalCharge(), PARAMS.ATOM_FEATURES['formal_charge']), 2),\n",
    "        (lambda atom: onek_encoding_unk(int(atom.GetChiralTag()), PARAMS.ATOM_FEATURES['chiral_tag']), 3),\n",
    "        (lambda atom: onek_encoding_unk(int(atom.GetTotalNumHs()), PARAMS.ATOM_FEATURES['num_Hs']), 4),\n",
    "        (lambda atom: onek_encoding_unk(int(atom.GetHybridization()), PARAMS.ATOM_FEATURES['hybridization']), 5),\n",
    "        (lambda atom: [1 if atom.GetIsAromatic() else 0], 6),\n",
    "        (lambda atom: [atom.GetMass() * 0.01], 7)\n",
    "    ]\n",
    "\n",
    "    # Build features based on keep_features\n",
    "    features = []\n",
    "    for constructor, flag_index in feature_constructors:\n",
    "        feature = constructor(atom)\n",
    "        if not keep_features[flag_index]:\n",
    "            feature = [0] * len(feature)\n",
    "        features.extend(feature)\n",
    "\n",
    "    if functional_groups is not None:\n",
    "        features.extend(functional_groups)\n",
    "\n",
    "    return features\n",
    "\n",
    "def bond_features(bond: Chem.rdchem.Bond) -> List[Union[bool, int, float]]:\n",
    "    \"\"\"\n",
    "    Builds a feature vector for a bond.\n",
    "\n",
    "    :param bond: An RDKit bond.\n",
    "    :return: A list containing the bond features.\n",
    "    \"\"\"\n",
    "    if bond is None:\n",
    "        fbond = [1] + [0] * (PARAMS.BOND_FDIM - 1)\n",
    "    else:\n",
    "        bt = bond.GetBondType()\n",
    "        fbond = [\n",
    "            0,  # bond is not None\n",
    "            bt == Chem.rdchem.BondType.SINGLE,\n",
    "            bt == Chem.rdchem.BondType.DOUBLE,\n",
    "            bt == Chem.rdchem.BondType.TRIPLE,\n",
    "            bt == Chem.rdchem.BondType.AROMATIC,\n",
    "            (bond.GetIsConjugated() if bt is not None else 0),\n",
    "            (bond.IsInRing() if bt is not None else 0)\n",
    "        ]\n",
    "        fbond += onek_encoding_unk(int(bond.GetStereo()), list(range(6)))\n",
    "    return fbond\n",
    "\n",
    "def bond_features_new(bond: Chem.rdchem.Bond, keep_features: List[bool] = [True]*4) -> List[Union[bool, int, float]]:\n",
    "    \"\"\"\n",
    "    Builds a feature vector for a bond.\n",
    "\n",
    "    :param bond: An RDKit bond.\n",
    "    :param keep_features: A boolean vector indicating which features to keep.\n",
    "    :return: A list containing the bond features.\n",
    "    \"\"\"\n",
    "    if bond is None:\n",
    "        fbond = [1] + [0] * (PARAMS.BOND_FDIM - 1)\n",
    "    else:\n",
    "        bt = bond.GetBondType()\n",
    "        fbond = [0] # bond is not None\n",
    "        bond_features_list = [\n",
    "            (lambda bond: [bt == Chem.rdchem.BondType.SINGLE], 0),\n",
    "            (lambda bond: [bt == Chem.rdchem.BondType.DOUBLE], 0),\n",
    "            (lambda bond: [bt == Chem.rdchem.BondType.TRIPLE], 0),\n",
    "            (lambda bond: [bt == Chem.rdchem.BondType.AROMATIC], 0),\n",
    "            (lambda bond: [(bond.GetIsConjugated() if bt is not None else 0)], 1),\n",
    "            (lambda bond: [(bond.IsInRing() if bt is not None else 0)], 2),\n",
    "            (lambda bond: onek_encoding_unk(int(bond.GetStereo()), list(range(6))), 3)\n",
    "        ]\n",
    "        for constructor, flag_index in bond_features_list:\n",
    "            feature = constructor(bond)\n",
    "            if not keep_features[flag_index]:\n",
    "                feature = [0] * len(feature)\n",
    "            fbond.extend(feature)\n",
    "\n",
    "    return fbond"
   ]
  },
  {
   "cell_type": "code",
   "execution_count": 4,
   "metadata": {},
   "outputs": [],
   "source": [
    "from pprint import pprint"
   ]
  },
  {
   "cell_type": "code",
   "execution_count": 5,
   "metadata": {},
   "outputs": [],
   "source": [
    "# test bond feature fuction"
   ]
  },
  {
   "cell_type": "code",
   "execution_count": 6,
   "metadata": {},
   "outputs": [],
   "source": [
    "smiles = 'CCO'\n",
    "mol = Chem.MolFromSmiles(smiles)\n",
    "bond = mol.GetBondWithIdx(0)"
   ]
  },
  {
   "cell_type": "code",
   "execution_count": 7,
   "metadata": {},
   "outputs": [],
   "source": [
    "bond_feat_1 = bond_features(bond)"
   ]
  },
  {
   "cell_type": "code",
   "execution_count": 8,
   "metadata": {},
   "outputs": [
    {
     "data": {
      "text/plain": [
       "[0, True, False, False, False, False, False, 1, 0, 0, 0, 0, 0, 0]"
      ]
     },
     "execution_count": 8,
     "metadata": {},
     "output_type": "execute_result"
    }
   ],
   "source": [
    "bond_feat_1"
   ]
  },
  {
   "cell_type": "code",
   "execution_count": 9,
   "metadata": {},
   "outputs": [],
   "source": [
    "bond_feat_2 = bond_features_new(bond)"
   ]
  },
  {
   "cell_type": "code",
   "execution_count": 10,
   "metadata": {},
   "outputs": [
    {
     "data": {
      "text/plain": [
       "[0, True, False, False, False, False, False, 1, 0, 0, 0, 0, 0, 0]"
      ]
     },
     "execution_count": 10,
     "metadata": {},
     "output_type": "execute_result"
    }
   ],
   "source": [
    "bond_feat_2"
   ]
  },
  {
   "cell_type": "code",
   "execution_count": 11,
   "metadata": {},
   "outputs": [
    {
     "data": {
      "text/plain": [
       "True"
      ]
     },
     "execution_count": 11,
     "metadata": {},
     "output_type": "execute_result"
    }
   ],
   "source": [
    "bond_feat_1 == bond_feat_2"
   ]
  },
  {
   "cell_type": "code",
   "execution_count": 12,
   "metadata": {},
   "outputs": [],
   "source": [
    "# test atom feature function"
   ]
  },
  {
   "cell_type": "code",
   "execution_count": 13,
   "metadata": {},
   "outputs": [],
   "source": [
    "smiles = 'CCO'\n",
    "mol = Chem.MolFromSmiles(smiles)\n",
    "atom = mol.GetAtomWithIdx(0)"
   ]
  },
  {
   "cell_type": "code",
   "execution_count": 14,
   "metadata": {},
   "outputs": [],
   "source": [
    "new_features = atom_features_new(atom)"
   ]
  },
  {
   "cell_type": "code",
   "execution_count": 15,
   "metadata": {},
   "outputs": [
    {
     "data": {
      "text/plain": [
       "133"
      ]
     },
     "execution_count": 15,
     "metadata": {},
     "output_type": "execute_result"
    }
   ],
   "source": [
    "len(new_features)"
   ]
  },
  {
   "cell_type": "code",
   "execution_count": 16,
   "metadata": {},
   "outputs": [
    {
     "ename": "NameError",
     "evalue": "name 'features' is not defined",
     "output_type": "error",
     "traceback": [
      "\u001b[0;31m---------------------------------------------------------------------------\u001b[0m",
      "\u001b[0;31mNameError\u001b[0m                                 Traceback (most recent call last)",
      "Cell \u001b[0;32mIn[16], line 1\u001b[0m\n\u001b[0;32m----> 1\u001b[0m new_features \u001b[38;5;241m==\u001b[39m \u001b[43mfeatures\u001b[49m\n",
      "\u001b[0;31mNameError\u001b[0m: name 'features' is not defined"
     ]
    }
   ],
   "source": [
    "new_features == features"
   ]
  },
  {
   "cell_type": "code",
   "execution_count": 96,
   "metadata": {},
   "outputs": [],
   "source": [
    "new_features_reduced = atom_features_new(atom, keep_features=[1]*8)"
   ]
  },
  {
   "cell_type": "code",
   "execution_count": 97,
   "metadata": {},
   "outputs": [
    {
     "data": {
      "text/plain": [
       "[0,\n",
       " 0,\n",
       " 0,\n",
       " 0,\n",
       " 0,\n",
       " 1,\n",
       " 0,\n",
       " 0,\n",
       " 0,\n",
       " 0,\n",
       " 0,\n",
       " 0,\n",
       " 0,\n",
       " 0,\n",
       " 0,\n",
       " 0,\n",
       " 0,\n",
       " 0,\n",
       " 0,\n",
       " 0,\n",
       " 0,\n",
       " 0,\n",
       " 0,\n",
       " 0,\n",
       " 0,\n",
       " 0,\n",
       " 0,\n",
       " 0,\n",
       " 0,\n",
       " 0,\n",
       " 0,\n",
       " 0,\n",
       " 0,\n",
       " 0,\n",
       " 0,\n",
       " 0,\n",
       " 0,\n",
       " 0,\n",
       " 0,\n",
       " 0,\n",
       " 0,\n",
       " 0,\n",
       " 0,\n",
       " 0,\n",
       " 0,\n",
       " 0,\n",
       " 0,\n",
       " 0,\n",
       " 0,\n",
       " 0,\n",
       " 0,\n",
       " 0,\n",
       " 0,\n",
       " 0,\n",
       " 0,\n",
       " 0,\n",
       " 0,\n",
       " 0,\n",
       " 0,\n",
       " 0,\n",
       " 0,\n",
       " 0,\n",
       " 0,\n",
       " 0,\n",
       " 0,\n",
       " 0,\n",
       " 0,\n",
       " 0,\n",
       " 0,\n",
       " 0,\n",
       " 0,\n",
       " 0,\n",
       " 0,\n",
       " 0,\n",
       " 0,\n",
       " 0,\n",
       " 0,\n",
       " 0,\n",
       " 0,\n",
       " 0,\n",
       " 0,\n",
       " 0,\n",
       " 0,\n",
       " 0,\n",
       " 0,\n",
       " 0,\n",
       " 0,\n",
       " 0,\n",
       " 0,\n",
       " 0,\n",
       " 0,\n",
       " 0,\n",
       " 0,\n",
       " 0,\n",
       " 0,\n",
       " 0,\n",
       " 0,\n",
       " 0,\n",
       " 0,\n",
       " 0,\n",
       " 0,\n",
       " 0,\n",
       " 0,\n",
       " 0,\n",
       " 0,\n",
       " 1,\n",
       " 0,\n",
       " 0,\n",
       " 0,\n",
       " 0,\n",
       " 0,\n",
       " 0,\n",
       " 1,\n",
       " 0,\n",
       " 1,\n",
       " 0,\n",
       " 0,\n",
       " 0,\n",
       " 0,\n",
       " 0,\n",
       " 0,\n",
       " 0,\n",
       " 1,\n",
       " 0,\n",
       " 0,\n",
       " 0,\n",
       " 0,\n",
       " 1,\n",
       " 0,\n",
       " 0,\n",
       " 0,\n",
       " 0,\n",
       " 0.12011]"
      ]
     },
     "execution_count": 97,
     "metadata": {},
     "output_type": "execute_result"
    }
   ],
   "source": [
    "new_features_reduced"
   ]
  },
  {
   "cell_type": "code",
   "execution_count": 3,
   "metadata": {},
   "outputs": [],
   "source": [
    "features = atom_features(atom)"
   ]
  },
  {
   "cell_type": "code",
   "execution_count": 7,
   "metadata": {},
   "outputs": [
    {
     "data": {
      "text/plain": [
       "133"
      ]
     },
     "execution_count": 7,
     "metadata": {},
     "output_type": "execute_result"
    }
   ],
   "source": [
    "len(features)"
   ]
  },
  {
   "cell_type": "code",
   "execution_count": 6,
   "metadata": {},
   "outputs": [
    {
     "name": "stdout",
     "output_type": "stream",
     "text": [
      "[0,\n",
      " 0,\n",
      " 0,\n",
      " 0,\n",
      " 0,\n",
      " 1,\n",
      " 0,\n",
      " 0,\n",
      " 0,\n",
      " 0,\n",
      " 0,\n",
      " 0,\n",
      " 0,\n",
      " 0,\n",
      " 0,\n",
      " 0,\n",
      " 0,\n",
      " 0,\n",
      " 0,\n",
      " 0,\n",
      " 0,\n",
      " 0,\n",
      " 0,\n",
      " 0,\n",
      " 0,\n",
      " 0,\n",
      " 0,\n",
      " 0,\n",
      " 0,\n",
      " 0,\n",
      " 0,\n",
      " 0,\n",
      " 0,\n",
      " 0,\n",
      " 0,\n",
      " 0,\n",
      " 0,\n",
      " 0,\n",
      " 0,\n",
      " 0,\n",
      " 0,\n",
      " 0,\n",
      " 0,\n",
      " 0,\n",
      " 0,\n",
      " 0,\n",
      " 0,\n",
      " 0,\n",
      " 0,\n",
      " 0,\n",
      " 0,\n",
      " 0,\n",
      " 0,\n",
      " 0,\n",
      " 0,\n",
      " 0,\n",
      " 0,\n",
      " 0,\n",
      " 0,\n",
      " 0,\n",
      " 0,\n",
      " 0,\n",
      " 0,\n",
      " 0,\n",
      " 0,\n",
      " 0,\n",
      " 0,\n",
      " 0,\n",
      " 0,\n",
      " 0,\n",
      " 0,\n",
      " 0,\n",
      " 0,\n",
      " 0,\n",
      " 0,\n",
      " 0,\n",
      " 0,\n",
      " 0,\n",
      " 0,\n",
      " 0,\n",
      " 0,\n",
      " 0,\n",
      " 0,\n",
      " 0,\n",
      " 0,\n",
      " 0,\n",
      " 0,\n",
      " 0,\n",
      " 0,\n",
      " 0,\n",
      " 0,\n",
      " 0,\n",
      " 0,\n",
      " 0,\n",
      " 0,\n",
      " 0,\n",
      " 0,\n",
      " 0,\n",
      " 0,\n",
      " 0,\n",
      " 0,\n",
      " 0,\n",
      " 0,\n",
      " 0,\n",
      " 0,\n",
      " 1,\n",
      " 0,\n",
      " 0,\n",
      " 0,\n",
      " 0,\n",
      " 0,\n",
      " 0,\n",
      " 1,\n",
      " 0,\n",
      " 1,\n",
      " 0,\n",
      " 0,\n",
      " 0,\n",
      " 0,\n",
      " 0,\n",
      " 0,\n",
      " 0,\n",
      " 1,\n",
      " 0,\n",
      " 0,\n",
      " 0,\n",
      " 0,\n",
      " 1,\n",
      " 0,\n",
      " 0,\n",
      " 0,\n",
      " 0,\n",
      " 0.12011]\n"
     ]
    }
   ],
   "source": [
    "pprint(features)"
   ]
  },
  {
   "cell_type": "code",
   "execution_count": 17,
   "metadata": {},
   "outputs": [],
   "source": [
    "import pandas as pd"
   ]
  },
  {
   "cell_type": "code",
   "execution_count": 12,
   "metadata": {},
   "outputs": [],
   "source": [
    "atom_features= pd.read_csv(\"atom_types_hc.csv\").values[:, 1:]"
   ]
  },
  {
   "cell_type": "code",
   "execution_count": 13,
   "metadata": {},
   "outputs": [
    {
     "data": {
      "text/plain": [
       "9"
      ]
     },
     "execution_count": 13,
     "metadata": {},
     "output_type": "execute_result"
    }
   ],
   "source": [
    "int(atom_features.shape[0]-1)"
   ]
  },
  {
   "cell_type": "code",
   "execution_count": 15,
   "metadata": {},
   "outputs": [
    {
     "data": {
      "text/plain": [
       "[9, 9, 9, 9, 9, 9, 9, 9, 9, 9, 9, 9, 9, 9, 9, 9, 9, 9, 9, 9]"
      ]
     },
     "execution_count": 15,
     "metadata": {},
     "output_type": "execute_result"
    }
   ],
   "source": [
    "[9] * 20"
   ]
  },
  {
   "cell_type": "code",
   "execution_count": 21,
   "metadata": {},
   "outputs": [],
   "source": [
    "bond_list = []\n",
    "for i in range(5):\n",
    "    for k in range(3):\n",
    "        if i == k:\n",
    "            bond_list.append(k)"
   ]
  },
  {
   "cell_type": "code",
   "execution_count": 22,
   "metadata": {},
   "outputs": [
    {
     "data": {
      "text/plain": [
       "[0, 1, 2]"
      ]
     },
     "execution_count": 22,
     "metadata": {},
     "output_type": "execute_result"
    }
   ],
   "source": [
    "bond_list"
   ]
  },
  {
   "cell_type": "code",
   "execution_count": 20,
   "metadata": {},
   "outputs": [
    {
     "data": {
      "text/plain": [
       "array([[0, 1, 2, 0, 1, 2, 0, 1, 2, 0, 1, 2, 0, 1, 2]])"
      ]
     },
     "execution_count": 20,
     "metadata": {},
     "output_type": "execute_result"
    }
   ],
   "source": [
    "np.array(bond_list).reshape(1, -1)"
   ]
  },
  {
   "cell_type": "code",
   "execution_count": 1,
   "metadata": {},
   "outputs": [
    {
     "name": "stderr",
     "output_type": "stream",
     "text": [
      "IProgress not found. Please update jupyter and ipywidgets. See https://ipywidgets.readthedocs.io/en/stable/user_install.html\n"
     ]
    },
    {
     "name": "stdout",
     "output_type": "stream",
     "text": [
      "SHAP values: [[ 10. -15.   0.   0.   0.]\n",
      " [  5.  -3.   0.   0.   0.]]\n"
     ]
    }
   ],
   "source": [
    "import numpy as np\n",
    "from shap import links, PermutationExplainer\n",
    "from copy import deepcopy\n",
    "\n",
    "# Simple binary masker function\n",
    "def binary_masker(binary_mask, x):\n",
    "    masked_x = deepcopy(x)\n",
    "    masked_x[binary_mask == 0] = 0\n",
    "    return np.array([masked_x])\n",
    "\n",
    "# Dummy model for illustration purposes\n",
    "class DummyModel:\n",
    "    def __call__(self, data):\n",
    "        # Simple model that sums the input data and times the fisrt element by 2\n",
    "        # return np.sum(data, axis=1, keepdims=True) + data[:, 0:1] * 2\n",
    "        return data[:, 0:1] * 5 + data[:, 1:2] * 3\n",
    "\n",
    "# Create the dummy model\n",
    "model = DummyModel()\n",
    "\n",
    "# Create the PermutationExplainer\n",
    "explainer = PermutationExplainer(model=model, masker=binary_masker)\n",
    "\n",
    "# Generate an example input to explain\n",
    "example_input = np.array([[2, -5, 0, 1, 1], [1, -1, 0, 3, 4]])\n",
    "\n",
    "# Explain the example input\n",
    "# explanation = explainer(np.array([example_input]), max_evals=200)\n",
    "explanation = explainer(example_input, max_evals=200)\n",
    "\n",
    "\n",
    "print(\"SHAP values:\", explanation.values)\n"
   ]
  },
  {
   "cell_type": "code",
   "execution_count": 7,
   "metadata": {},
   "outputs": [
    {
     "ename": "IndexError",
     "evalue": "too many indices for array: array is 1-dimensional, but 2 were indexed",
     "output_type": "error",
     "traceback": [
      "\u001b[0;31m---------------------------------------------------------------------------\u001b[0m",
      "\u001b[0;31mIndexError\u001b[0m                                Traceback (most recent call last)",
      "\u001b[1;32m/home/oscarwu/code/chemprop_developing/developing/shap_v1/data/test_func.ipynb Cell 28\u001b[0m line \u001b[0;36m1\n\u001b[0;32m----> <a href='vscode-notebook-cell://ssh-remote%2Bestes.mit.edu/home/oscarwu/code/chemprop_developing/developing/shap_v1/data/test_func.ipynb#Y114sdnNjb2RlLXJlbW90ZQ%3D%3D?line=0'>1</a>\u001b[0m DummyModel()(np\u001b[39m.\u001b[39;49marray([\u001b[39m1\u001b[39;49m, \u001b[39m-\u001b[39;49m\u001b[39m1\u001b[39;49m, \u001b[39m0\u001b[39;49m, \u001b[39m3\u001b[39;49m, \u001b[39m4\u001b[39;49m]))\n",
      "\u001b[1;32m/home/oscarwu/code/chemprop_developing/developing/shap_v1/data/test_func.ipynb Cell 28\u001b[0m line \u001b[0;36m1\n\u001b[1;32m     <a href='vscode-notebook-cell://ssh-remote%2Bestes.mit.edu/home/oscarwu/code/chemprop_developing/developing/shap_v1/data/test_func.ipynb#Y114sdnNjb2RlLXJlbW90ZQ%3D%3D?line=12'>13</a>\u001b[0m \u001b[39mdef\u001b[39;00m \u001b[39m__call__\u001b[39m(\u001b[39mself\u001b[39m, data):\n\u001b[1;32m     <a href='vscode-notebook-cell://ssh-remote%2Bestes.mit.edu/home/oscarwu/code/chemprop_developing/developing/shap_v1/data/test_func.ipynb#Y114sdnNjb2RlLXJlbW90ZQ%3D%3D?line=13'>14</a>\u001b[0m     \u001b[39m# Simple model that sums the input data and times the fisrt element by 2\u001b[39;00m\n\u001b[1;32m     <a href='vscode-notebook-cell://ssh-remote%2Bestes.mit.edu/home/oscarwu/code/chemprop_developing/developing/shap_v1/data/test_func.ipynb#Y114sdnNjb2RlLXJlbW90ZQ%3D%3D?line=14'>15</a>\u001b[0m     \u001b[39m# return np.sum(data, axis=1, keepdims=True) + data[:, 0:1] * 2\u001b[39;00m\n\u001b[0;32m---> <a href='vscode-notebook-cell://ssh-remote%2Bestes.mit.edu/home/oscarwu/code/chemprop_developing/developing/shap_v1/data/test_func.ipynb#Y114sdnNjb2RlLXJlbW90ZQ%3D%3D?line=15'>16</a>\u001b[0m     \u001b[39mreturn\u001b[39;00m data[:, \u001b[39m0\u001b[39;49m:\u001b[39m1\u001b[39;49m] \u001b[39m*\u001b[39m \u001b[39m5\u001b[39m \u001b[39m+\u001b[39m data[:, \u001b[39m1\u001b[39m:\u001b[39m2\u001b[39m] \u001b[39m*\u001b[39m \u001b[39m3\u001b[39m\n",
      "\u001b[0;31mIndexError\u001b[0m: too many indices for array: array is 1-dimensional, but 2 were indexed"
     ]
    }
   ],
   "source": [
    "DummyModel()(np.array([[1, -1, 0, 3, 4]))"
   ]
  },
  {
   "cell_type": "code",
   "execution_count": 5,
   "metadata": {},
   "outputs": [
    {
     "data": {
      "text/plain": [
       "(1, 1)"
      ]
     },
     "execution_count": 5,
     "metadata": {},
     "output_type": "execute_result"
    }
   ],
   "source": [
    "DummyModel()(np.array([[1, -1, 0, 3, 4]])).shape"
   ]
  },
  {
   "cell_type": "code",
   "execution_count": 2,
   "metadata": {},
   "outputs": [
    {
     "data": {
      "text/plain": [
       "array([[-5],\n",
       "       [ 2]])"
      ]
     },
     "execution_count": 2,
     "metadata": {},
     "output_type": "execute_result"
    }
   ],
   "source": [
    "DummyModel()(np.array([[2, -5, 0, 1, 1], [1, -1, 0, 3, 4]]))"
   ]
  },
  {
   "cell_type": "code",
   "execution_count": 6,
   "metadata": {},
   "outputs": [
    {
     "data": {
      "text/plain": [
       "(2, 1)"
      ]
     },
     "execution_count": 6,
     "metadata": {},
     "output_type": "execute_result"
    }
   ],
   "source": [
    "DummyModel()(np.array([[2, -5, 0, 1, 1], [1, -1, 0, 3, 4]])).shape"
   ]
  },
  {
   "cell_type": "code",
   "execution_count": 81,
   "metadata": {},
   "outputs": [
    {
     "data": {
      "text/plain": [
       "array([[[ 2, -5,  0,  1,  1],\n",
       "        [ 1, -1,  0,  3,  4]]])"
      ]
     },
     "execution_count": 81,
     "metadata": {},
     "output_type": "execute_result"
    }
   ],
   "source": [
    "np.array([example_input])"
   ]
  },
  {
   "cell_type": "code",
   "execution_count": 63,
   "metadata": {},
   "outputs": [
    {
     "data": {
      "text/plain": [
       "array([[ 2, -5,  0,  1,  1]])"
      ]
     },
     "execution_count": 63,
     "metadata": {},
     "output_type": "execute_result"
    }
   ],
   "source": [
    "np.array([example_input])"
   ]
  },
  {
   "cell_type": "code",
   "execution_count": 69,
   "metadata": {},
   "outputs": [
    {
     "data": {
      "text/plain": [
       "array([[ 2, -5,  0,  1,  1],\n",
       "       [ 1, -1,  0,  3,  4]])"
      ]
     },
     "execution_count": 69,
     "metadata": {},
     "output_type": "execute_result"
    }
   ],
   "source": [
    "example_input"
   ]
  },
  {
   "cell_type": "code",
   "execution_count": 72,
   "metadata": {},
   "outputs": [
    {
     "data": {
      "text/plain": [
       "(2, 5)"
      ]
     },
     "execution_count": 72,
     "metadata": {},
     "output_type": "execute_result"
    }
   ],
   "source": [
    "example_input.shape"
   ]
  },
  {
   "cell_type": "code",
   "execution_count": 74,
   "metadata": {},
   "outputs": [
    {
     "data": {
      "text/plain": [
       "(5,)"
      ]
     },
     "execution_count": 74,
     "metadata": {},
     "output_type": "execute_result"
    }
   ],
   "source": [
    "np.array([2, -5, 0, 1, 1]).shape"
   ]
  },
  {
   "cell_type": "code",
   "execution_count": 76,
   "metadata": {},
   "outputs": [
    {
     "data": {
      "text/plain": [
       "(1, 5)"
      ]
     },
     "execution_count": 76,
     "metadata": {},
     "output_type": "execute_result"
    }
   ],
   "source": [
    "np.array([np.array([2, -5, 0, 1, 1])]).shape"
   ]
  },
  {
   "cell_type": "code",
   "execution_count": 20,
   "metadata": {},
   "outputs": [],
   "source": [
    "# test mask out extra features\n",
    "def mask_atom_features_extra(atom_features_extra: np.ndarray, keep_features: List[bool]) -> np.ndarray:\n",
    "    \"\"\"\n",
    "    Masks certain features in atom_features_extra based on the keep_features boolean vector.\n",
    "\n",
    "    :param atom_features_extra: A 2D numpy array with shape (num_atoms, feature_length) where feature_length is a multiple of 50.\n",
    "    :param keep_features: A boolean vector indicating which features to keep. Each feature has a length of 50.\n",
    "    :return: A masked 2D numpy array with the same shape as atom_features_extra.\n",
    "    \"\"\"\n",
    "    num_atoms, feature_length = atom_features_extra.shape\n",
    "    num_features = feature_length // 50  # Each feature has length 50\n",
    "\n",
    "    if len(keep_features) != num_features:\n",
    "        raise ValueError(\"Length of keep_features does not match the number of features in atom_features_extra.\")\n",
    "\n",
    "    # Create a mask to apply to atom_features_extra\n",
    "    mask = np.ones_like(atom_features_extra)\n",
    "\n",
    "    for i, keep in enumerate(keep_features):\n",
    "        if not keep:\n",
    "            mask[:, i*50:(i+1)*50] = 0\n",
    "\n",
    "    # Apply the mask to atom_features_extra\n",
    "    masked_features = atom_features_extra * mask\n",
    "\n",
    "    return masked_features"
   ]
  },
  {
   "cell_type": "code",
   "execution_count": 47,
   "metadata": {},
   "outputs": [
    {
     "ename": "TypeError",
     "evalue": "'numpy.float64' object cannot be interpreted as an integer",
     "output_type": "error",
     "traceback": [
      "\u001b[0;31m---------------------------------------------------------------------------\u001b[0m",
      "\u001b[0;31mTypeError\u001b[0m                                 Traceback (most recent call last)",
      "Cell \u001b[0;32mIn[47], line 62\u001b[0m\n\u001b[1;32m     59\u001b[0m example_input \u001b[38;5;241m=\u001b[39m np\u001b[38;5;241m.\u001b[39marray(smiles_list)\n\u001b[1;32m     61\u001b[0m \u001b[38;5;66;03m# Explain the example input\u001b[39;00m\n\u001b[0;32m---> 62\u001b[0m explanation \u001b[38;5;241m=\u001b[39m \u001b[43mexplainer\u001b[49m\u001b[43m(\u001b[49m\u001b[43mexample_input\u001b[49m\u001b[43m,\u001b[49m\u001b[43m \u001b[49m\u001b[43mmax_evals\u001b[49m\u001b[38;5;241;43m=\u001b[39;49m\u001b[38;5;241;43m200\u001b[39;49m\u001b[43m)\u001b[49m\n\u001b[1;32m     64\u001b[0m \u001b[38;5;28mprint\u001b[39m(\u001b[38;5;124m\"\u001b[39m\u001b[38;5;124mSHAP values:\u001b[39m\u001b[38;5;124m\"\u001b[39m, explanation\u001b[38;5;241m.\u001b[39mvalues)\n",
      "File \u001b[0;32m~/mambaforge/envs/chemprop_dev/lib/python3.8/site-packages/shap/explainers/_permutation.py:79\u001b[0m, in \u001b[0;36mPermutationExplainer.__call__\u001b[0;34m(self, max_evals, main_effects, error_bounds, batch_size, outputs, silent, *args)\u001b[0m\n\u001b[1;32m     75\u001b[0m \u001b[38;5;28;01mdef\u001b[39;00m \u001b[38;5;21m__call__\u001b[39m(\u001b[38;5;28mself\u001b[39m, \u001b[38;5;241m*\u001b[39margs, max_evals\u001b[38;5;241m=\u001b[39m\u001b[38;5;241m500\u001b[39m, main_effects\u001b[38;5;241m=\u001b[39m\u001b[38;5;28;01mFalse\u001b[39;00m, error_bounds\u001b[38;5;241m=\u001b[39m\u001b[38;5;28;01mFalse\u001b[39;00m, batch_size\u001b[38;5;241m=\u001b[39m\u001b[38;5;124m\"\u001b[39m\u001b[38;5;124mauto\u001b[39m\u001b[38;5;124m\"\u001b[39m,\n\u001b[1;32m     76\u001b[0m              outputs\u001b[38;5;241m=\u001b[39m\u001b[38;5;28;01mNone\u001b[39;00m, silent\u001b[38;5;241m=\u001b[39m\u001b[38;5;28;01mFalse\u001b[39;00m):\n\u001b[1;32m     77\u001b[0m \u001b[38;5;250m    \u001b[39m\u001b[38;5;124;03m\"\"\" Explain the output of the model on the given arguments.\u001b[39;00m\n\u001b[1;32m     78\u001b[0m \u001b[38;5;124;03m    \"\"\"\u001b[39;00m\n\u001b[0;32m---> 79\u001b[0m     \u001b[38;5;28;01mreturn\u001b[39;00m \u001b[38;5;28;43msuper\u001b[39;49m\u001b[43m(\u001b[49m\u001b[43m)\u001b[49m\u001b[38;5;241;43m.\u001b[39;49m\u001b[38;5;21;43m__call__\u001b[39;49m\u001b[43m(\u001b[49m\n\u001b[1;32m     80\u001b[0m \u001b[43m        \u001b[49m\u001b[38;5;241;43m*\u001b[39;49m\u001b[43margs\u001b[49m\u001b[43m,\u001b[49m\u001b[43m \u001b[49m\u001b[43mmax_evals\u001b[49m\u001b[38;5;241;43m=\u001b[39;49m\u001b[43mmax_evals\u001b[49m\u001b[43m,\u001b[49m\u001b[43m \u001b[49m\u001b[43mmain_effects\u001b[49m\u001b[38;5;241;43m=\u001b[39;49m\u001b[43mmain_effects\u001b[49m\u001b[43m,\u001b[49m\u001b[43m \u001b[49m\u001b[43merror_bounds\u001b[49m\u001b[38;5;241;43m=\u001b[39;49m\u001b[43merror_bounds\u001b[49m\u001b[43m,\u001b[49m\u001b[43m \u001b[49m\u001b[43mbatch_size\u001b[49m\u001b[38;5;241;43m=\u001b[39;49m\u001b[43mbatch_size\u001b[49m\u001b[43m,\u001b[49m\n\u001b[1;32m     81\u001b[0m \u001b[43m        \u001b[49m\u001b[43moutputs\u001b[49m\u001b[38;5;241;43m=\u001b[39;49m\u001b[43moutputs\u001b[49m\u001b[43m,\u001b[49m\u001b[43m \u001b[49m\u001b[43msilent\u001b[49m\u001b[38;5;241;43m=\u001b[39;49m\u001b[43msilent\u001b[49m\n\u001b[1;32m     82\u001b[0m \u001b[43m    \u001b[49m\u001b[43m)\u001b[49m\n",
      "File \u001b[0;32m~/mambaforge/envs/chemprop_dev/lib/python3.8/site-packages/shap/explainers/_explainer.py:267\u001b[0m, in \u001b[0;36mExplainer.__call__\u001b[0;34m(self, max_evals, main_effects, error_bounds, batch_size, outputs, silent, *args, **kwargs)\u001b[0m\n\u001b[1;32m    265\u001b[0m     feature_names \u001b[38;5;241m=\u001b[39m [[] \u001b[38;5;28;01mfor\u001b[39;00m _ \u001b[38;5;129;01min\u001b[39;00m \u001b[38;5;28mrange\u001b[39m(\u001b[38;5;28mlen\u001b[39m(args))]\n\u001b[1;32m    266\u001b[0m \u001b[38;5;28;01mfor\u001b[39;00m row_args \u001b[38;5;129;01min\u001b[39;00m show_progress(\u001b[38;5;28mzip\u001b[39m(\u001b[38;5;241m*\u001b[39margs), num_rows, \u001b[38;5;28mself\u001b[39m\u001b[38;5;241m.\u001b[39m\u001b[38;5;18m__class__\u001b[39m\u001b[38;5;241m.\u001b[39m\u001b[38;5;18m__name__\u001b[39m\u001b[38;5;241m+\u001b[39m\u001b[38;5;124m\"\u001b[39m\u001b[38;5;124m explainer\u001b[39m\u001b[38;5;124m\"\u001b[39m, silent):\n\u001b[0;32m--> 267\u001b[0m     row_result \u001b[38;5;241m=\u001b[39m \u001b[38;5;28;43mself\u001b[39;49m\u001b[38;5;241;43m.\u001b[39;49m\u001b[43mexplain_row\u001b[49m\u001b[43m(\u001b[49m\n\u001b[1;32m    268\u001b[0m \u001b[43m        \u001b[49m\u001b[38;5;241;43m*\u001b[39;49m\u001b[43mrow_args\u001b[49m\u001b[43m,\u001b[49m\u001b[43m \u001b[49m\u001b[43mmax_evals\u001b[49m\u001b[38;5;241;43m=\u001b[39;49m\u001b[43mmax_evals\u001b[49m\u001b[43m,\u001b[49m\u001b[43m \u001b[49m\u001b[43mmain_effects\u001b[49m\u001b[38;5;241;43m=\u001b[39;49m\u001b[43mmain_effects\u001b[49m\u001b[43m,\u001b[49m\u001b[43m \u001b[49m\u001b[43merror_bounds\u001b[49m\u001b[38;5;241;43m=\u001b[39;49m\u001b[43merror_bounds\u001b[49m\u001b[43m,\u001b[49m\n\u001b[1;32m    269\u001b[0m \u001b[43m        \u001b[49m\u001b[43mbatch_size\u001b[49m\u001b[38;5;241;43m=\u001b[39;49m\u001b[43mbatch_size\u001b[49m\u001b[43m,\u001b[49m\u001b[43m \u001b[49m\u001b[43moutputs\u001b[49m\u001b[38;5;241;43m=\u001b[39;49m\u001b[43moutputs\u001b[49m\u001b[43m,\u001b[49m\u001b[43m \u001b[49m\u001b[43msilent\u001b[49m\u001b[38;5;241;43m=\u001b[39;49m\u001b[43msilent\u001b[49m\u001b[43m,\u001b[49m\u001b[43m \u001b[49m\u001b[38;5;241;43m*\u001b[39;49m\u001b[38;5;241;43m*\u001b[39;49m\u001b[43mkwargs\u001b[49m\n\u001b[1;32m    270\u001b[0m \u001b[43m    \u001b[49m\u001b[43m)\u001b[49m\n\u001b[1;32m    271\u001b[0m     values\u001b[38;5;241m.\u001b[39mappend(row_result\u001b[38;5;241m.\u001b[39mget(\u001b[38;5;124m\"\u001b[39m\u001b[38;5;124mvalues\u001b[39m\u001b[38;5;124m\"\u001b[39m, \u001b[38;5;28;01mNone\u001b[39;00m))\n\u001b[1;32m    272\u001b[0m     output_indices\u001b[38;5;241m.\u001b[39mappend(row_result\u001b[38;5;241m.\u001b[39mget(\u001b[38;5;124m\"\u001b[39m\u001b[38;5;124moutput_indices\u001b[39m\u001b[38;5;124m\"\u001b[39m, \u001b[38;5;28;01mNone\u001b[39;00m))\n",
      "File \u001b[0;32m~/mambaforge/envs/chemprop_dev/lib/python3.8/site-packages/shap/explainers/_permutation.py:107\u001b[0m, in \u001b[0;36mPermutationExplainer.explain_row\u001b[0;34m(self, max_evals, main_effects, error_bounds, batch_size, outputs, silent, *row_args)\u001b[0m\n\u001b[1;32m    105\u001b[0m \u001b[38;5;66;03m# loop over many permutations\u001b[39;00m\n\u001b[1;32m    106\u001b[0m inds \u001b[38;5;241m=\u001b[39m fm\u001b[38;5;241m.\u001b[39mvarying_inputs()\n\u001b[0;32m--> 107\u001b[0m inds_mask \u001b[38;5;241m=\u001b[39m np\u001b[38;5;241m.\u001b[39mzeros(\u001b[38;5;28;43mlen\u001b[39;49m\u001b[43m(\u001b[49m\u001b[43mfm\u001b[49m\u001b[43m)\u001b[49m, dtype\u001b[38;5;241m=\u001b[39m\u001b[38;5;28mbool\u001b[39m)\n\u001b[1;32m    108\u001b[0m inds_mask[inds] \u001b[38;5;241m=\u001b[39m \u001b[38;5;28;01mTrue\u001b[39;00m\n\u001b[1;32m    109\u001b[0m masks \u001b[38;5;241m=\u001b[39m np\u001b[38;5;241m.\u001b[39mzeros(\u001b[38;5;241m2\u001b[39m\u001b[38;5;241m*\u001b[39m\u001b[38;5;28mlen\u001b[39m(inds)\u001b[38;5;241m+\u001b[39m\u001b[38;5;241m1\u001b[39m, dtype\u001b[38;5;241m=\u001b[39m\u001b[38;5;28mint\u001b[39m)\n",
      "\u001b[0;31mTypeError\u001b[0m: 'numpy.float64' object cannot be interpreted as an integer"
     ]
    }
   ],
   "source": [
    "# Dummy TrainArgs class for illustration\n",
    "import sys\n",
    "sys.path.insert(0, '/home/oscarwu/code/chemprop_developing')\n",
    "from chemprop.args import TrainArgs\n",
    "\n",
    "# Example SHAP Analysis with MPN\n",
    "\n",
    "# Define the TrainArgs\n",
    "args = TrainArgs()\n",
    "\n",
    "# Create the MPN model\n",
    "from chemprop.models.mpn import MPN\n",
    "mpn_model = MPN(args)\n",
    "\n",
    "# Example molecule (SMILES string)\n",
    "smiles_list = ['CCO']\n",
    "\n",
    "# Define dummy features batch, atom descriptors batch, and bond descriptors batch\n",
    "# features_batch = [np.random.rand(1, 100) for _ in range(len(smiles_list))]  # Example feature length of 100\n",
    "# atom_descriptors_batch = [np.random.rand(1, 100) for _ in range(len(smiles_list))]\n",
    "# bond_descriptors_batch = [np.random.rand(1, 50) for _ in range(len(smiles_list))]\n",
    "\n",
    "# Define keep_features batches\n",
    "# extra_keep_features_batch = [[True] * 100 for _ in range(len(smiles_list))]  # Keep all features\n",
    "# extra_atom_keep_descriptors_batch = [[True] * 100 for _ in range(len(smiles_list))]\n",
    "# extra_bond_keep_descriptors_batch = [[True] * 50 for _ in range(len(smiles_list))]\n",
    "\n",
    "# Create a SHAP explainer\n",
    "def binary_masker(binary_mask, x):\n",
    "    masked_x = deepcopy(x)\n",
    "    masked_x[binary_mask == 0] = 0\n",
    "    return np.array([masked_x])\n",
    "\n",
    "# Define a wrapper for the model to match SHAP's expected input format\n",
    "class MPNWrapper:\n",
    "    def __init__(self, model):\n",
    "        self.model = model\n",
    "\n",
    "    def __call__(self, data):\n",
    "        # Convert data to the expected input format for the MPN model\n",
    "        batch = [[Chem.MolFromSmiles(smiles) for smiles in data]]\n",
    "        features_batch = [np.random.rand(1, 100) for _ in data]\n",
    "        extra_keep_features_batch = [[True] * 100 for _ in data]\n",
    "        output = self.model(batch, features_batch=features_batch, shap=True,\n",
    "                    extra_keep_features_batch=extra_keep_features_batch,)\n",
    "        # output = self.model(batch, features_batch=features_batch, shap=True,\n",
    "        #                     extra_keep_features_batch=extra_keep_features_batch,\n",
    "        #                     extra_atom_keep_descriptors_batch=extra_atom_keep_descriptors_batch,\n",
    "        #                     extra_bond_keep_descriptors_batch=extra_bond_keep_descriptors_batch)\n",
    "        return output.detach().cpu().numpy()\n",
    "\n",
    "# Create the MPN wrapper\n",
    "model_wrapper = MPNWrapper(mpn_model)\n",
    "\n",
    "# Create the PermutationExplainer\n",
    "explainer = PermutationExplainer(model=model_wrapper, masker=binary_masker)\n",
    "\n",
    "# Generate example input to explain\n",
    "example_input = np.array(smiles_list)\n",
    "\n",
    "# Explain the example input\n",
    "explanation = explainer(example_input, max_evals=200)\n",
    "\n",
    "print(\"SHAP values:\", explanation.values)\n"
   ]
  },
  {
   "cell_type": "code",
   "execution_count": 48,
   "metadata": {},
   "outputs": [
    {
     "data": {
      "text/plain": [
       "['CCO']"
      ]
     },
     "execution_count": 48,
     "metadata": {},
     "output_type": "execute_result"
    }
   ],
   "source": [
    "smiles_list"
   ]
  },
  {
   "cell_type": "code",
   "execution_count": 49,
   "metadata": {},
   "outputs": [
    {
     "data": {
      "text/plain": [
       "array([[0.02869339, 0.        , 0.        , 0.08539114, 0.01695965,\n",
       "        0.17654537, 0.08226229, 0.01316568, 0.01456605, 0.04406174,\n",
       "        0.01382583, 0.07931754, 0.        , 0.00845726, 0.03411956,\n",
       "        0.        , 0.        , 0.06085997, 0.04044246, 0.14077239,\n",
       "        0.        , 0.        , 0.        , 0.05221221, 0.03106297,\n",
       "        0.0462199 , 0.01961821, 0.06123255, 0.03978665, 0.00291387,\n",
       "        0.        , 0.0524957 , 0.11667792, 0.        , 0.        ,\n",
       "        0.05406984, 0.14364138, 0.04035055, 0.00610798, 0.        ,\n",
       "        0.05862929, 0.        , 0.07890157, 0.02106198, 0.03567052,\n",
       "        0.0988366 , 0.136213  , 0.0193952 , 0.0699313 , 0.04332287,\n",
       "        0.        , 0.15324824, 0.01307643, 0.02672162, 0.        ,\n",
       "        0.0221462 , 0.08094481, 0.00088978, 0.06145951, 0.00661707,\n",
       "        0.00606289, 0.11338267, 0.        , 0.        , 0.00782273,\n",
       "        0.        , 0.03817214, 0.02425379, 0.        , 0.13113678,\n",
       "        0.14146711, 0.01410575, 0.        , 0.01956663, 0.04077714,\n",
       "        0.16989642, 0.02247597, 0.09630033, 0.01596535, 0.12886791,\n",
       "        0.        , 0.14472021, 0.        , 0.01803159, 0.10759932,\n",
       "        0.01521139, 0.        , 0.04659207, 0.        , 0.08191331,\n",
       "        0.        , 0.        , 0.        , 0.        , 0.03170814,\n",
       "        0.10211191, 0.09697857, 0.        , 0.04549963, 0.03326632,\n",
       "        0.        , 0.        , 0.07349282, 0.04041031, 0.03796829,\n",
       "        0.03344287, 0.        , 0.        , 0.        , 0.        ,\n",
       "        0.11737021, 0.19202717, 0.        , 0.        , 0.18131943,\n",
       "        0.        , 0.19692619, 0.06450968, 0.06590473, 0.16357046,\n",
       "        0.        , 0.07153374, 0.00616286, 0.        , 0.05589259,\n",
       "        0.03899668, 0.        , 0.03029304, 0.05357127, 0.0671813 ,\n",
       "        0.00071377, 0.01926532, 0.01350331, 0.05546237, 0.03758903,\n",
       "        0.03910483, 0.05814325, 0.        , 0.        , 0.        ,\n",
       "        0.02239006, 0.02539266, 0.00303247, 0.00781111, 0.04164984,\n",
       "        0.06724416, 0.07132778, 0.00327297, 0.00119788, 0.03473319,\n",
       "        0.        , 0.00456071, 0.00886554, 0.        , 0.08642667,\n",
       "        0.02715001, 0.11141329, 0.09997988, 0.00454541, 0.        ,\n",
       "        0.07538943, 0.        , 0.        , 0.        , 0.        ,\n",
       "        0.14527623, 0.16016959, 0.00672035, 0.14468385, 0.00107227,\n",
       "        0.01356738, 0.00603135, 0.02735359, 0.1490071 , 0.1641837 ,\n",
       "        0.12290194, 0.        , 0.08062949, 0.18726154, 0.04737353,\n",
       "        0.01708271, 0.        , 0.12471682, 0.        , 0.00859459,\n",
       "        0.02808116, 0.01607836, 0.        , 0.        , 0.08465963,\n",
       "        0.05809039, 0.03283615, 0.03768834, 0.        , 0.09853349,\n",
       "        0.0553402 , 0.08256063, 0.00825739, 0.        , 0.        ,\n",
       "        0.        , 0.03689324, 0.07150614, 0.03265296, 0.07075565,\n",
       "        0.05923019, 0.04876938, 0.        , 0.        , 0.06760138,\n",
       "        0.03302928, 0.05762287, 0.11561386, 0.00407274, 0.        ,\n",
       "        0.        , 0.01565782, 0.09829668, 0.1242815 , 0.        ,\n",
       "        0.12134656, 0.08068214, 0.16794156, 0.        , 0.00347253,\n",
       "        0.05244545, 0.05000408, 0.14378458, 0.02661254, 0.02982567,\n",
       "        0.00979198, 0.01470738, 0.        , 0.02454975, 0.        ,\n",
       "        0.03988307, 0.02536377, 0.04303744, 0.0343823 , 0.12457442,\n",
       "        0.07609528, 0.        , 0.00422564, 0.0095152 , 0.00741182,\n",
       "        0.00664308, 0.00207795, 0.00782526, 0.12175841, 0.0925383 ,\n",
       "        0.00562183, 0.01566601, 0.04251062, 0.16822864, 0.0012612 ,\n",
       "        0.07283654, 0.08632616, 0.04758599, 0.        , 0.04487785,\n",
       "        0.05704749, 0.00865905, 0.        , 0.        , 0.12006585,\n",
       "        0.00491708, 0.        , 0.20424378, 0.00510048, 0.        ,\n",
       "        0.01772373, 0.        , 0.00562174, 0.        , 0.00119951,\n",
       "        0.03901908, 0.08055815, 0.        , 0.01628107, 0.        ,\n",
       "        0.02974743, 0.03403105, 0.17051192, 0.        , 0.04530676,\n",
       "        0.04949076, 0.18958329, 0.        , 0.00098202, 0.13610272,\n",
       "        0.        , 0.10002752, 0.        , 0.        , 0.        ,\n",
       "        0.        , 0.        , 0.        , 0.        , 0.03331685]],\n",
       "      dtype=float32)"
      ]
     },
     "execution_count": 49,
     "metadata": {},
     "output_type": "execute_result"
    }
   ],
   "source": [
    "model_wrapper(smiles_list)"
   ]
  },
  {
   "cell_type": "code",
   "execution_count": 50,
   "metadata": {},
   "outputs": [
    {
     "data": {
      "text/plain": [
       "(1, 300)"
      ]
     },
     "execution_count": 50,
     "metadata": {},
     "output_type": "execute_result"
    }
   ],
   "source": [
    "model_wrapper(smiles_list).shape"
   ]
  },
  {
   "cell_type": "code",
   "execution_count": null,
   "metadata": {},
   "outputs": [],
   "source": []
  },
  {
   "cell_type": "code",
   "execution_count": null,
   "metadata": {},
   "outputs": [],
   "source": []
  },
  {
   "cell_type": "code",
   "execution_count": 38,
   "metadata": {},
   "outputs": [],
   "source": [
    "smiles_list = [\"CCO\"]"
   ]
  },
  {
   "cell_type": "code",
   "execution_count": 39,
   "metadata": {},
   "outputs": [
    {
     "data": {
      "text/plain": [
       "['CCO']"
      ]
     },
     "execution_count": 39,
     "metadata": {},
     "output_type": "execute_result"
    }
   ],
   "source": [
    "smiles_list"
   ]
  },
  {
   "cell_type": "code",
   "execution_count": 40,
   "metadata": {},
   "outputs": [
    {
     "data": {
      "text/plain": [
       "array([[0.00000000e+00, 5.63246310e-02, 8.63388181e-04, 0.00000000e+00,\n",
       "        6.29064888e-02, 1.17112815e-01, 0.00000000e+00, 9.38053895e-03,\n",
       "        1.38919607e-01, 0.00000000e+00, 1.44390529e-02, 1.25650868e-01,\n",
       "        4.69912998e-02, 2.02104468e-02, 6.12197332e-02, 1.72461465e-01,\n",
       "        7.48388693e-02, 6.07380383e-02, 3.43471766e-04, 8.01870897e-02,\n",
       "        0.00000000e+00, 0.00000000e+00, 8.22735280e-02, 0.00000000e+00,\n",
       "        6.35521039e-02, 9.88672953e-03, 4.74283705e-03, 2.70644072e-02,\n",
       "        0.00000000e+00, 0.00000000e+00, 3.14490497e-02, 1.26274765e-01,\n",
       "        6.74669677e-03, 8.63672420e-02, 1.04836263e-01, 2.83235144e-02,\n",
       "        3.67188677e-02, 1.96339726e-01, 3.72810960e-02, 1.80077422e-02,\n",
       "        5.52019989e-03, 8.28011855e-02, 0.00000000e+00, 1.19934343e-01,\n",
       "        1.74677949e-02, 0.00000000e+00, 2.29149610e-02, 2.11068001e-02,\n",
       "        0.00000000e+00, 2.58211941e-02, 0.00000000e+00, 1.70654431e-03,\n",
       "        5.64640649e-02, 9.87240486e-03, 3.78186479e-02, 0.00000000e+00,\n",
       "        1.45867243e-01, 1.38104573e-01, 4.95127253e-02, 3.43813151e-02,\n",
       "        0.00000000e+00, 8.21128562e-02, 7.00829132e-03, 0.00000000e+00,\n",
       "        0.00000000e+00, 0.00000000e+00, 1.01692053e-02, 7.83996657e-02,\n",
       "        6.08005226e-02, 2.11761314e-02, 1.62314057e-01, 5.58513738e-02,\n",
       "        3.59615237e-02, 0.00000000e+00, 5.33620501e-03, 4.81050499e-02,\n",
       "        2.84556299e-05, 1.09717129e-02, 1.32462293e-01, 1.52760474e-02,\n",
       "        0.00000000e+00, 0.00000000e+00, 0.00000000e+00, 0.00000000e+00,\n",
       "        3.36560719e-02, 1.01101108e-01, 1.14997149e-01, 8.72509778e-02,\n",
       "        0.00000000e+00, 4.18239832e-02, 0.00000000e+00, 0.00000000e+00,\n",
       "        1.06152035e-01, 0.00000000e+00, 6.08745823e-03, 3.97895463e-02,\n",
       "        0.00000000e+00, 0.00000000e+00, 3.45437862e-02, 0.00000000e+00,\n",
       "        8.34048018e-02, 5.23671992e-02, 3.90090980e-02, 2.99075484e-01,\n",
       "        4.15314995e-02, 3.98932472e-02, 5.99261932e-02, 3.75437108e-03,\n",
       "        1.85433887e-02, 1.18035777e-02, 9.36247502e-03, 1.56915098e-01,\n",
       "        0.00000000e+00, 2.96670143e-02, 2.03082085e-01, 0.00000000e+00,\n",
       "        9.10150073e-03, 9.38183814e-03, 0.00000000e+00, 3.35509852e-02,\n",
       "        3.58863361e-03, 3.93548720e-02, 0.00000000e+00, 1.74641758e-02,\n",
       "        4.08268208e-03, 6.00213371e-02, 0.00000000e+00, 0.00000000e+00,\n",
       "        1.00924991e-01, 0.00000000e+00, 3.39087658e-02, 1.14782182e-02,\n",
       "        3.88116688e-02, 1.80782620e-02, 6.89443499e-02, 0.00000000e+00,\n",
       "        0.00000000e+00, 1.48055956e-01, 0.00000000e+00, 1.58944145e-01,\n",
       "        0.00000000e+00, 1.80230234e-02, 0.00000000e+00, 1.61524042e-02,\n",
       "        2.07049828e-02, 7.66099244e-03, 1.48832858e-01, 0.00000000e+00,\n",
       "        3.34376208e-02, 4.74428013e-03, 9.23399329e-02, 1.64000258e-01,\n",
       "        1.25328293e-02, 3.43252532e-02, 1.55002726e-02, 0.00000000e+00,\n",
       "        2.26922128e-02, 0.00000000e+00, 3.53735941e-03, 8.63607749e-02,\n",
       "        1.29897511e-02, 1.16847232e-02, 0.00000000e+00, 2.14981493e-02,\n",
       "        0.00000000e+00, 6.10921681e-02, 0.00000000e+00, 0.00000000e+00,\n",
       "        0.00000000e+00, 7.23535046e-02, 1.32995406e-02, 0.00000000e+00,\n",
       "        1.10659776e-02, 1.08351231e-01, 6.29679346e-03, 5.54886349e-02,\n",
       "        0.00000000e+00, 1.56829823e-02, 9.43162218e-02, 7.78403357e-02,\n",
       "        6.30217493e-02, 0.00000000e+00, 3.64374258e-02, 1.26149699e-01,\n",
       "        0.00000000e+00, 0.00000000e+00, 5.64576983e-02, 0.00000000e+00,\n",
       "        7.84354359e-02, 1.23945124e-01, 4.05906998e-02, 4.83974926e-02,\n",
       "        0.00000000e+00, 8.20882805e-03, 6.50429502e-05, 6.01387434e-02,\n",
       "        2.92968820e-03, 0.00000000e+00, 8.80947933e-02, 0.00000000e+00,\n",
       "        0.00000000e+00, 3.79344933e-02, 6.29768297e-02, 0.00000000e+00,\n",
       "        2.32943464e-02, 5.20661706e-03, 4.03726399e-02, 1.12671770e-01,\n",
       "        7.67937675e-02, 1.32569730e-01, 6.48853034e-02, 1.89108834e-01,\n",
       "        7.72834430e-03, 0.00000000e+00, 1.30991846e-01, 5.80972731e-02,\n",
       "        1.55470625e-01, 7.59958662e-03, 0.00000000e+00, 1.22259380e-02,\n",
       "        3.47089581e-02, 4.94298078e-02, 1.26984355e-03, 6.93182945e-02,\n",
       "        0.00000000e+00, 1.14556635e-02, 3.14922929e-02, 5.70818000e-02,\n",
       "        7.01661455e-03, 0.00000000e+00, 1.01913035e-01, 2.64958795e-02,\n",
       "        0.00000000e+00, 0.00000000e+00, 3.17724869e-02, 6.68701828e-02,\n",
       "        0.00000000e+00, 9.40617844e-02, 9.29004420e-03, 1.25486339e-02,\n",
       "        5.07668359e-03, 9.74086747e-02, 5.21604717e-02, 0.00000000e+00,\n",
       "        2.96943616e-02, 5.50144315e-02, 3.94616835e-02, 7.08746687e-02,\n",
       "        3.56185585e-02, 7.34241307e-02, 3.75071727e-02, 6.98295087e-02,\n",
       "        1.38656050e-02, 1.50356628e-02, 9.30548049e-05, 1.94080040e-01,\n",
       "        0.00000000e+00, 1.46495402e-02, 0.00000000e+00, 3.53649221e-02,\n",
       "        7.01383650e-02, 1.39001012e-02, 5.19129634e-03, 5.34701459e-02,\n",
       "        3.61157916e-02, 7.15422258e-03, 3.88981141e-02, 0.00000000e+00,\n",
       "        5.85064478e-02, 0.00000000e+00, 0.00000000e+00, 3.90967615e-02,\n",
       "        0.00000000e+00, 8.57466087e-02, 1.02526704e-02, 0.00000000e+00,\n",
       "        0.00000000e+00, 1.01781018e-01, 1.62340365e-02, 0.00000000e+00,\n",
       "        2.91143474e-03, 2.31472286e-03, 1.06238425e-02, 8.30032453e-02,\n",
       "        0.00000000e+00, 3.68021019e-02, 0.00000000e+00, 1.55038700e-01,\n",
       "        4.25527096e-02, 4.07883665e-03, 1.23666497e-02, 0.00000000e+00,\n",
       "        0.00000000e+00, 4.71489616e-02, 7.98237845e-02, 7.58201256e-02,\n",
       "        4.79832292e-02, 0.00000000e+00, 6.34605289e-02, 2.93258857e-02]],\n",
       "      dtype=float32)"
      ]
     },
     "execution_count": 40,
     "metadata": {},
     "output_type": "execute_result"
    }
   ],
   "source": [
    "MPNWrapper(mpn_model)(smiles_list)"
   ]
  },
  {
   "cell_type": "code",
   "execution_count": null,
   "metadata": {},
   "outputs": [],
   "source": [
    "smiles_list"
   ]
  },
  {
   "cell_type": "code",
   "execution_count": 41,
   "metadata": {},
   "outputs": [
    {
     "data": {
      "text/plain": [
       "(1, 300)"
      ]
     },
     "execution_count": 41,
     "metadata": {},
     "output_type": "execute_result"
    }
   ],
   "source": [
    "MPNWrapper(mpn_model)(smiles_list).shape"
   ]
  },
  {
   "cell_type": "code",
   "execution_count": 43,
   "metadata": {},
   "outputs": [],
   "source": [
    "smiles_list = ['CCO', \"CCC\"]\n"
   ]
  },
  {
   "cell_type": "code",
   "execution_count": 44,
   "metadata": {},
   "outputs": [],
   "source": [
    "testout = MPNWrapper(mpn_model)(smiles_list)"
   ]
  },
  {
   "cell_type": "code",
   "execution_count": 45,
   "metadata": {},
   "outputs": [
    {
     "data": {
      "text/plain": [
       "1"
      ]
     },
     "execution_count": 45,
     "metadata": {},
     "output_type": "execute_result"
    }
   ],
   "source": [
    "len(testout)"
   ]
  },
  {
   "cell_type": "code",
   "execution_count": 46,
   "metadata": {},
   "outputs": [
    {
     "data": {
      "text/plain": [
       "(1, 300)"
      ]
     },
     "execution_count": 46,
     "metadata": {},
     "output_type": "execute_result"
    }
   ],
   "source": [
    "testout.shape"
   ]
  },
  {
   "cell_type": "code",
   "execution_count": 52,
   "metadata": {},
   "outputs": [
    {
     "ename": "AssertionError",
     "evalue": "The model produced 1 output rows when given 10 input rows! Check the implementation of the model you provided for errors.",
     "output_type": "error",
     "traceback": [
      "\u001b[0;31m---------------------------------------------------------------------------\u001b[0m",
      "\u001b[0;31mAssertionError\u001b[0m                            Traceback (most recent call last)",
      "Cell \u001b[0;32mIn[52], line 28\u001b[0m\n\u001b[1;32m     25\u001b[0m example_input \u001b[38;5;241m=\u001b[39m np\u001b[38;5;241m.\u001b[39marray([[\u001b[38;5;28;01mTrue\u001b[39;00m] \u001b[38;5;241m*\u001b[39m \u001b[38;5;241m100\u001b[39m])  \u001b[38;5;66;03m# Example input for keep_features\u001b[39;00m\n\u001b[1;32m     27\u001b[0m \u001b[38;5;66;03m# Explain the example input\u001b[39;00m\n\u001b[0;32m---> 28\u001b[0m explanation \u001b[38;5;241m=\u001b[39m \u001b[43mexplainer\u001b[49m\u001b[43m(\u001b[49m\u001b[43mexample_input\u001b[49m\u001b[43m,\u001b[49m\u001b[43m \u001b[49m\u001b[43mmax_evals\u001b[49m\u001b[38;5;241;43m=\u001b[39;49m\u001b[38;5;241;43m400\u001b[39;49m\u001b[43m)\u001b[49m\n\u001b[1;32m     30\u001b[0m \u001b[38;5;28mprint\u001b[39m(\u001b[38;5;124m\"\u001b[39m\u001b[38;5;124mSHAP values:\u001b[39m\u001b[38;5;124m\"\u001b[39m, explanation\u001b[38;5;241m.\u001b[39mvalues)\n",
      "File \u001b[0;32m~/mambaforge/envs/chemprop_dev/lib/python3.8/site-packages/shap/explainers/_permutation.py:79\u001b[0m, in \u001b[0;36mPermutationExplainer.__call__\u001b[0;34m(self, max_evals, main_effects, error_bounds, batch_size, outputs, silent, *args)\u001b[0m\n\u001b[1;32m     75\u001b[0m \u001b[38;5;28;01mdef\u001b[39;00m \u001b[38;5;21m__call__\u001b[39m(\u001b[38;5;28mself\u001b[39m, \u001b[38;5;241m*\u001b[39margs, max_evals\u001b[38;5;241m=\u001b[39m\u001b[38;5;241m500\u001b[39m, main_effects\u001b[38;5;241m=\u001b[39m\u001b[38;5;28;01mFalse\u001b[39;00m, error_bounds\u001b[38;5;241m=\u001b[39m\u001b[38;5;28;01mFalse\u001b[39;00m, batch_size\u001b[38;5;241m=\u001b[39m\u001b[38;5;124m\"\u001b[39m\u001b[38;5;124mauto\u001b[39m\u001b[38;5;124m\"\u001b[39m,\n\u001b[1;32m     76\u001b[0m              outputs\u001b[38;5;241m=\u001b[39m\u001b[38;5;28;01mNone\u001b[39;00m, silent\u001b[38;5;241m=\u001b[39m\u001b[38;5;28;01mFalse\u001b[39;00m):\n\u001b[1;32m     77\u001b[0m \u001b[38;5;250m    \u001b[39m\u001b[38;5;124;03m\"\"\" Explain the output of the model on the given arguments.\u001b[39;00m\n\u001b[1;32m     78\u001b[0m \u001b[38;5;124;03m    \"\"\"\u001b[39;00m\n\u001b[0;32m---> 79\u001b[0m     \u001b[38;5;28;01mreturn\u001b[39;00m \u001b[38;5;28;43msuper\u001b[39;49m\u001b[43m(\u001b[49m\u001b[43m)\u001b[49m\u001b[38;5;241;43m.\u001b[39;49m\u001b[38;5;21;43m__call__\u001b[39;49m\u001b[43m(\u001b[49m\n\u001b[1;32m     80\u001b[0m \u001b[43m        \u001b[49m\u001b[38;5;241;43m*\u001b[39;49m\u001b[43margs\u001b[49m\u001b[43m,\u001b[49m\u001b[43m \u001b[49m\u001b[43mmax_evals\u001b[49m\u001b[38;5;241;43m=\u001b[39;49m\u001b[43mmax_evals\u001b[49m\u001b[43m,\u001b[49m\u001b[43m \u001b[49m\u001b[43mmain_effects\u001b[49m\u001b[38;5;241;43m=\u001b[39;49m\u001b[43mmain_effects\u001b[49m\u001b[43m,\u001b[49m\u001b[43m \u001b[49m\u001b[43merror_bounds\u001b[49m\u001b[38;5;241;43m=\u001b[39;49m\u001b[43merror_bounds\u001b[49m\u001b[43m,\u001b[49m\u001b[43m \u001b[49m\u001b[43mbatch_size\u001b[49m\u001b[38;5;241;43m=\u001b[39;49m\u001b[43mbatch_size\u001b[49m\u001b[43m,\u001b[49m\n\u001b[1;32m     81\u001b[0m \u001b[43m        \u001b[49m\u001b[43moutputs\u001b[49m\u001b[38;5;241;43m=\u001b[39;49m\u001b[43moutputs\u001b[49m\u001b[43m,\u001b[49m\u001b[43m \u001b[49m\u001b[43msilent\u001b[49m\u001b[38;5;241;43m=\u001b[39;49m\u001b[43msilent\u001b[49m\n\u001b[1;32m     82\u001b[0m \u001b[43m    \u001b[49m\u001b[43m)\u001b[49m\n",
      "File \u001b[0;32m~/mambaforge/envs/chemprop_dev/lib/python3.8/site-packages/shap/explainers/_explainer.py:267\u001b[0m, in \u001b[0;36mExplainer.__call__\u001b[0;34m(self, max_evals, main_effects, error_bounds, batch_size, outputs, silent, *args, **kwargs)\u001b[0m\n\u001b[1;32m    265\u001b[0m     feature_names \u001b[38;5;241m=\u001b[39m [[] \u001b[38;5;28;01mfor\u001b[39;00m _ \u001b[38;5;129;01min\u001b[39;00m \u001b[38;5;28mrange\u001b[39m(\u001b[38;5;28mlen\u001b[39m(args))]\n\u001b[1;32m    266\u001b[0m \u001b[38;5;28;01mfor\u001b[39;00m row_args \u001b[38;5;129;01min\u001b[39;00m show_progress(\u001b[38;5;28mzip\u001b[39m(\u001b[38;5;241m*\u001b[39margs), num_rows, \u001b[38;5;28mself\u001b[39m\u001b[38;5;241m.\u001b[39m\u001b[38;5;18m__class__\u001b[39m\u001b[38;5;241m.\u001b[39m\u001b[38;5;18m__name__\u001b[39m\u001b[38;5;241m+\u001b[39m\u001b[38;5;124m\"\u001b[39m\u001b[38;5;124m explainer\u001b[39m\u001b[38;5;124m\"\u001b[39m, silent):\n\u001b[0;32m--> 267\u001b[0m     row_result \u001b[38;5;241m=\u001b[39m \u001b[38;5;28;43mself\u001b[39;49m\u001b[38;5;241;43m.\u001b[39;49m\u001b[43mexplain_row\u001b[49m\u001b[43m(\u001b[49m\n\u001b[1;32m    268\u001b[0m \u001b[43m        \u001b[49m\u001b[38;5;241;43m*\u001b[39;49m\u001b[43mrow_args\u001b[49m\u001b[43m,\u001b[49m\u001b[43m \u001b[49m\u001b[43mmax_evals\u001b[49m\u001b[38;5;241;43m=\u001b[39;49m\u001b[43mmax_evals\u001b[49m\u001b[43m,\u001b[49m\u001b[43m \u001b[49m\u001b[43mmain_effects\u001b[49m\u001b[38;5;241;43m=\u001b[39;49m\u001b[43mmain_effects\u001b[49m\u001b[43m,\u001b[49m\u001b[43m \u001b[49m\u001b[43merror_bounds\u001b[49m\u001b[38;5;241;43m=\u001b[39;49m\u001b[43merror_bounds\u001b[49m\u001b[43m,\u001b[49m\n\u001b[1;32m    269\u001b[0m \u001b[43m        \u001b[49m\u001b[43mbatch_size\u001b[49m\u001b[38;5;241;43m=\u001b[39;49m\u001b[43mbatch_size\u001b[49m\u001b[43m,\u001b[49m\u001b[43m \u001b[49m\u001b[43moutputs\u001b[49m\u001b[38;5;241;43m=\u001b[39;49m\u001b[43moutputs\u001b[49m\u001b[43m,\u001b[49m\u001b[43m \u001b[49m\u001b[43msilent\u001b[49m\u001b[38;5;241;43m=\u001b[39;49m\u001b[43msilent\u001b[49m\u001b[43m,\u001b[49m\u001b[43m \u001b[49m\u001b[38;5;241;43m*\u001b[39;49m\u001b[38;5;241;43m*\u001b[39;49m\u001b[43mkwargs\u001b[49m\n\u001b[1;32m    270\u001b[0m \u001b[43m    \u001b[49m\u001b[43m)\u001b[49m\n\u001b[1;32m    271\u001b[0m     values\u001b[38;5;241m.\u001b[39mappend(row_result\u001b[38;5;241m.\u001b[39mget(\u001b[38;5;124m\"\u001b[39m\u001b[38;5;124mvalues\u001b[39m\u001b[38;5;124m\"\u001b[39m, \u001b[38;5;28;01mNone\u001b[39;00m))\n\u001b[1;32m    272\u001b[0m     output_indices\u001b[38;5;241m.\u001b[39mappend(row_result\u001b[38;5;241m.\u001b[39mget(\u001b[38;5;124m\"\u001b[39m\u001b[38;5;124moutput_indices\u001b[39m\u001b[38;5;124m\"\u001b[39m, \u001b[38;5;28;01mNone\u001b[39;00m))\n",
      "File \u001b[0;32m~/mambaforge/envs/chemprop_dev/lib/python3.8/site-packages/shap/explainers/_permutation.py:137\u001b[0m, in \u001b[0;36mPermutationExplainer.explain_row\u001b[0;34m(self, max_evals, main_effects, error_bounds, batch_size, outputs, silent, *row_args)\u001b[0m\n\u001b[1;32m    134\u001b[0m     i \u001b[38;5;241m+\u001b[39m\u001b[38;5;241m=\u001b[39m \u001b[38;5;241m1\u001b[39m\n\u001b[1;32m    136\u001b[0m \u001b[38;5;66;03m# evaluate the masked model\u001b[39;00m\n\u001b[0;32m--> 137\u001b[0m outputs \u001b[38;5;241m=\u001b[39m \u001b[43mfm\u001b[49m\u001b[43m(\u001b[49m\u001b[43mmasks\u001b[49m\u001b[43m,\u001b[49m\u001b[43m \u001b[49m\u001b[43mzero_index\u001b[49m\u001b[38;5;241;43m=\u001b[39;49m\u001b[38;5;241;43m0\u001b[39;49m\u001b[43m,\u001b[49m\u001b[43m \u001b[49m\u001b[43mbatch_size\u001b[49m\u001b[38;5;241;43m=\u001b[39;49m\u001b[43mbatch_size\u001b[49m\u001b[43m)\u001b[49m\n\u001b[1;32m    139\u001b[0m \u001b[38;5;28;01mif\u001b[39;00m row_values \u001b[38;5;129;01mis\u001b[39;00m \u001b[38;5;28;01mNone\u001b[39;00m:\n\u001b[1;32m    140\u001b[0m     row_values \u001b[38;5;241m=\u001b[39m np\u001b[38;5;241m.\u001b[39mzeros((\u001b[38;5;28mlen\u001b[39m(fm),) \u001b[38;5;241m+\u001b[39m outputs\u001b[38;5;241m.\u001b[39mshape[\u001b[38;5;241m1\u001b[39m:])\n",
      "File \u001b[0;32m~/mambaforge/envs/chemprop_dev/lib/python3.8/site-packages/shap/utils/_masked_model.py:66\u001b[0m, in \u001b[0;36mMaskedModel.__call__\u001b[0;34m(self, masks, zero_index, batch_size)\u001b[0m\n\u001b[1;32m     64\u001b[0m         full_masks \u001b[38;5;241m=\u001b[39m np\u001b[38;5;241m.\u001b[39mzeros((\u001b[38;5;28mint\u001b[39m(np\u001b[38;5;241m.\u001b[39msum(masks \u001b[38;5;241m>\u001b[39m\u001b[38;5;241m=\u001b[39m \u001b[38;5;241m0\u001b[39m)), \u001b[38;5;28mself\u001b[39m\u001b[38;5;241m.\u001b[39m_masker_cols), dtype\u001b[38;5;241m=\u001b[39m\u001b[38;5;28mbool\u001b[39m)\n\u001b[1;32m     65\u001b[0m         _convert_delta_mask_to_full(masks, full_masks)\n\u001b[0;32m---> 66\u001b[0m         \u001b[38;5;28;01mreturn\u001b[39;00m \u001b[38;5;28;43mself\u001b[39;49m\u001b[38;5;241;43m.\u001b[39;49m\u001b[43m_full_masking_call\u001b[49m\u001b[43m(\u001b[49m\u001b[43mfull_masks\u001b[49m\u001b[43m,\u001b[49m\u001b[43m \u001b[49m\u001b[43mzero_index\u001b[49m\u001b[38;5;241;43m=\u001b[39;49m\u001b[43mzero_index\u001b[49m\u001b[43m,\u001b[49m\u001b[43m \u001b[49m\u001b[43mbatch_size\u001b[49m\u001b[38;5;241;43m=\u001b[39;49m\u001b[43mbatch_size\u001b[49m\u001b[43m)\u001b[49m\n\u001b[1;32m     68\u001b[0m \u001b[38;5;28;01melse\u001b[39;00m:\n\u001b[1;32m     69\u001b[0m     \u001b[38;5;28;01mreturn\u001b[39;00m \u001b[38;5;28mself\u001b[39m\u001b[38;5;241m.\u001b[39m_full_masking_call(masks, batch_size\u001b[38;5;241m=\u001b[39mbatch_size)\n",
      "File \u001b[0;32m~/mambaforge/envs/chemprop_dev/lib/python3.8/site-packages/shap/utils/_masked_model.py:147\u001b[0m, in \u001b[0;36mMaskedModel._full_masking_call\u001b[0;34m(self, masks, zero_index, batch_size)\u001b[0m\n\u001b[1;32m    145\u001b[0m     joined_masked_inputs \u001b[38;5;241m=\u001b[39m \u001b[38;5;28mtuple\u001b[39m([np\u001b[38;5;241m.\u001b[39mconcatenate(v) \u001b[38;5;28;01mfor\u001b[39;00m v \u001b[38;5;129;01min\u001b[39;00m all_masked_inputs])\n\u001b[1;32m    146\u001b[0m     outputs \u001b[38;5;241m=\u001b[39m \u001b[38;5;28mself\u001b[39m\u001b[38;5;241m.\u001b[39mmodel(\u001b[38;5;241m*\u001b[39mjoined_masked_inputs)\n\u001b[0;32m--> 147\u001b[0m     \u001b[43m_assert_output_input_match\u001b[49m\u001b[43m(\u001b[49m\u001b[43mjoined_masked_inputs\u001b[49m\u001b[43m,\u001b[49m\u001b[43m \u001b[49m\u001b[43moutputs\u001b[49m\u001b[43m)\u001b[49m\n\u001b[1;32m    148\u001b[0m     all_outputs\u001b[38;5;241m.\u001b[39mappend(outputs)\n\u001b[1;32m    149\u001b[0m outputs \u001b[38;5;241m=\u001b[39m np\u001b[38;5;241m.\u001b[39mconcatenate(all_outputs)\n",
      "File \u001b[0;32m~/mambaforge/envs/chemprop_dev/lib/python3.8/site-packages/shap/utils/_masked_model.py:270\u001b[0m, in \u001b[0;36m_assert_output_input_match\u001b[0;34m(inputs, outputs)\u001b[0m\n\u001b[1;32m    269\u001b[0m \u001b[38;5;28;01mdef\u001b[39;00m \u001b[38;5;21m_assert_output_input_match\u001b[39m(inputs, outputs):\n\u001b[0;32m--> 270\u001b[0m     \u001b[38;5;28;01massert\u001b[39;00m \u001b[38;5;28mlen\u001b[39m(outputs) \u001b[38;5;241m==\u001b[39m \u001b[38;5;28mlen\u001b[39m(inputs[\u001b[38;5;241m0\u001b[39m]), \\\n\u001b[1;32m    271\u001b[0m         \u001b[38;5;124mf\u001b[39m\u001b[38;5;124m\"\u001b[39m\u001b[38;5;124mThe model produced \u001b[39m\u001b[38;5;132;01m{\u001b[39;00m\u001b[38;5;28mlen\u001b[39m(outputs)\u001b[38;5;132;01m}\u001b[39;00m\u001b[38;5;124m output rows when given \u001b[39m\u001b[38;5;132;01m{\u001b[39;00m\u001b[38;5;28mlen\u001b[39m(inputs[\u001b[38;5;241m0\u001b[39m])\u001b[38;5;132;01m}\u001b[39;00m\u001b[38;5;124m input rows! Check the implementation of the model you provided for errors.\u001b[39m\u001b[38;5;124m\"\u001b[39m\n",
      "\u001b[0;31mAssertionError\u001b[0m: The model produced 1 output rows when given 10 input rows! Check the implementation of the model you provided for errors."
     ]
    }
   ],
   "source": [
    "class MPNWrapper:\n",
    "    def __init__(self, model, smiles, features_batch):\n",
    "        self.model = model\n",
    "        self.smiles = smiles\n",
    "        self.features_batch = features_batch\n",
    "\n",
    "    def __call__(self, data):\n",
    "        # Convert data to the expected input format for the MPN model\n",
    "        batch = [[Chem.MolFromSmiles(smiles) for smiles in self.smiles]]\n",
    "        extra_keep_features_batch = data.tolist()  # Convert numpy array to list of lists\n",
    "        output = self.model(batch, features_batch=self.features_batch, shap=True,\n",
    "                            extra_keep_features_batch=extra_keep_features_batch)\n",
    "        return output.detach().cpu().numpy()\n",
    "\n",
    "# Define dummy features batch\n",
    "features_batch = [np.random.rand(1, 100) for _ in range(len(smiles_list))]  # Example feature length of 100\n",
    "\n",
    "# Create the MPN wrapper\n",
    "model_wrapper = MPNWrapper(mpn_model, smiles_list, features_batch)\n",
    "\n",
    "# Create the PermutationExplainer\n",
    "explainer = PermutationExplainer(model=model_wrapper, masker=binary_masker)\n",
    "\n",
    "# Generate example input to explain\n",
    "example_input = np.array([[True] * 100])  # Example input for keep_features\n",
    "\n",
    "# Explain the example input\n",
    "explanation = explainer(example_input, max_evals=400)\n",
    "\n",
    "print(\"SHAP values:\", explanation.values)"
   ]
  },
  {
   "cell_type": "code",
   "execution_count": 56,
   "metadata": {},
   "outputs": [
    {
     "data": {
      "text/plain": [
       "array([[3.56964059e-02, 0.00000000e+00, 0.00000000e+00, 5.23746498e-02,\n",
       "        0.00000000e+00, 3.79013494e-02, 0.00000000e+00, 0.00000000e+00,\n",
       "        0.00000000e+00, 4.74891551e-02, 3.12048331e-04, 1.65173598e-03,\n",
       "        1.96289569e-02, 2.56350115e-02, 5.89957135e-03, 0.00000000e+00,\n",
       "        1.11671025e-02, 0.00000000e+00, 1.67639051e-02, 1.62893891e-01,\n",
       "        1.66621469e-02, 9.76122320e-02, 0.00000000e+00, 6.98851841e-03,\n",
       "        0.00000000e+00, 0.00000000e+00, 3.45444120e-03, 0.00000000e+00,\n",
       "        9.08087194e-02, 0.00000000e+00, 0.00000000e+00, 6.29136851e-03,\n",
       "        1.56819134e-03, 0.00000000e+00, 0.00000000e+00, 2.52928287e-02,\n",
       "        0.00000000e+00, 0.00000000e+00, 1.36682823e-01, 3.29912417e-02,\n",
       "        4.22598124e-02, 2.80275326e-02, 1.65742654e-02, 5.25233895e-03,\n",
       "        6.13102615e-02, 2.78039668e-02, 0.00000000e+00, 0.00000000e+00,\n",
       "        1.15126707e-02, 3.95655073e-02, 1.18175847e-02, 0.00000000e+00,\n",
       "        2.29185060e-01, 0.00000000e+00, 1.06022917e-01, 1.52707145e-01,\n",
       "        6.36249036e-02, 0.00000000e+00, 3.50260623e-02, 0.00000000e+00,\n",
       "        1.38072288e-02, 1.00399196e-01, 5.91151714e-02, 0.00000000e+00,\n",
       "        1.98102556e-03, 0.00000000e+00, 0.00000000e+00, 0.00000000e+00,\n",
       "        1.42851816e-02, 0.00000000e+00, 3.49506885e-02, 0.00000000e+00,\n",
       "        7.71088526e-03, 0.00000000e+00, 2.15396836e-01, 9.73044559e-02,\n",
       "        8.25493708e-02, 3.00849173e-02, 3.73811238e-02, 0.00000000e+00,\n",
       "        1.62549578e-02, 4.55093980e-02, 1.20133935e-02, 5.28676547e-02,\n",
       "        6.35836497e-02, 4.90349531e-03, 2.00530011e-02, 0.00000000e+00,\n",
       "        7.99118802e-02, 1.51377037e-01, 7.26073235e-03, 3.84703167e-02,\n",
       "        9.69029292e-02, 0.00000000e+00, 1.11561865e-02, 1.50225228e-02,\n",
       "        1.91798562e-03, 6.80473149e-02, 5.49641363e-02, 5.16817272e-02,\n",
       "        0.00000000e+00, 2.35443309e-04, 0.00000000e+00, 0.00000000e+00,\n",
       "        1.27729073e-01, 9.17704105e-02, 5.28419130e-02, 1.32126972e-01,\n",
       "        7.76812956e-02, 0.00000000e+00, 1.71495061e-02, 1.64299026e-01,\n",
       "        0.00000000e+00, 8.00819974e-03, 2.58471817e-02, 0.00000000e+00,\n",
       "        2.70136744e-02, 0.00000000e+00, 0.00000000e+00, 5.03446944e-02,\n",
       "        1.88887734e-02, 8.54122639e-02, 1.70740560e-01, 9.53486562e-02,\n",
       "        0.00000000e+00, 0.00000000e+00, 3.90960164e-02, 2.06125784e-03,\n",
       "        8.08866508e-03, 3.03427572e-03, 9.80325509e-03, 1.27601288e-02,\n",
       "        0.00000000e+00, 8.55604783e-02, 8.85854587e-02, 0.00000000e+00,\n",
       "        0.00000000e+00, 1.12471469e-01, 0.00000000e+00, 1.28264561e-01,\n",
       "        0.00000000e+00, 5.51134944e-02, 7.87903890e-02, 2.56605204e-02,\n",
       "        2.02684011e-02, 7.85331503e-02, 1.23655945e-01, 1.90379526e-02,\n",
       "        0.00000000e+00, 2.08622172e-01, 6.38046628e-03, 2.54958600e-01,\n",
       "        9.58936587e-02, 1.59058437e-01, 8.43521357e-02, 1.29083291e-01,\n",
       "        3.62873077e-03, 8.94972682e-02, 2.32413843e-01, 1.28423378e-01,\n",
       "        5.19530149e-03, 1.65529381e-02, 0.00000000e+00, 4.37832065e-02,\n",
       "        8.23256448e-02, 0.00000000e+00, 5.21603525e-02, 0.00000000e+00,\n",
       "        1.23357974e-01, 1.54663131e-01, 1.96198568e-01, 5.46742566e-02,\n",
       "        8.78761038e-02, 1.03808634e-01, 7.06446683e-03, 0.00000000e+00,\n",
       "        0.00000000e+00, 0.00000000e+00, 1.82066634e-01, 0.00000000e+00,\n",
       "        6.72037853e-03, 0.00000000e+00, 5.35803773e-02, 1.94929130e-02,\n",
       "        2.15604946e-01, 1.06239347e-02, 4.81589772e-02, 0.00000000e+00,\n",
       "        0.00000000e+00, 1.04249395e-01, 2.09901184e-02, 0.00000000e+00,\n",
       "        2.04100832e-02, 0.00000000e+00, 0.00000000e+00, 0.00000000e+00,\n",
       "        1.55507803e-01, 2.96464510e-04, 0.00000000e+00, 2.30743829e-02,\n",
       "        2.33421251e-01, 2.05539484e-02, 5.70692122e-02, 2.62079742e-02,\n",
       "        6.42135069e-02, 0.00000000e+00, 0.00000000e+00, 0.00000000e+00,\n",
       "        0.00000000e+00, 1.51482746e-01, 0.00000000e+00, 1.45004928e-01,\n",
       "        0.00000000e+00, 0.00000000e+00, 0.00000000e+00, 5.50662689e-02,\n",
       "        1.15406416e-01, 1.15342177e-01, 1.22356594e-01, 0.00000000e+00,\n",
       "        0.00000000e+00, 0.00000000e+00, 2.71814875e-04, 1.11417852e-01,\n",
       "        5.52118830e-02, 1.20835407e-02, 5.25093712e-02, 9.72139239e-02,\n",
       "        6.59525469e-02, 2.87204119e-03, 0.00000000e+00, 4.44535352e-02,\n",
       "        1.74253471e-02, 0.00000000e+00, 8.35326966e-03, 6.23138137e-02,\n",
       "        0.00000000e+00, 5.10884039e-02, 4.23040800e-02, 0.00000000e+00,\n",
       "        1.38370529e-01, 5.73640466e-02, 6.46850886e-03, 2.40432471e-02,\n",
       "        2.69788355e-02, 0.00000000e+00, 1.45995095e-01, 3.24908756e-02,\n",
       "        1.39017448e-01, 0.00000000e+00, 9.19237174e-03, 8.36731791e-02,\n",
       "        2.85420641e-02, 1.16635166e-01, 1.08393185e-01, 0.00000000e+00,\n",
       "        4.72581945e-02, 0.00000000e+00, 3.59414965e-02, 1.46938488e-01,\n",
       "        4.02593380e-03, 0.00000000e+00, 0.00000000e+00, 6.39936104e-02,\n",
       "        1.03490613e-01, 0.00000000e+00, 1.50668481e-02, 0.00000000e+00,\n",
       "        1.70739554e-02, 2.64419708e-02, 0.00000000e+00, 1.00101285e-01,\n",
       "        6.77473173e-02, 0.00000000e+00, 4.60820496e-02, 2.34059319e-02,\n",
       "        3.36845480e-02, 0.00000000e+00, 0.00000000e+00, 1.50927022e-01,\n",
       "        0.00000000e+00, 0.00000000e+00, 0.00000000e+00, 3.60612012e-02,\n",
       "        2.57922169e-02, 0.00000000e+00, 0.00000000e+00, 0.00000000e+00,\n",
       "        4.75836433e-02, 6.17022216e-02, 0.00000000e+00, 7.59614632e-02,\n",
       "        1.09736316e-01, 0.00000000e+00, 1.46667873e-02, 3.29338573e-02,\n",
       "        2.28893664e-02, 0.00000000e+00, 9.44896601e-03, 3.58057581e-02]],\n",
       "      dtype=float32)"
      ]
     },
     "execution_count": 56,
     "metadata": {},
     "output_type": "execute_result"
    }
   ],
   "source": [
    "model_wrapper(example_input)"
   ]
  },
  {
   "cell_type": "code",
   "execution_count": 57,
   "metadata": {},
   "outputs": [
    {
     "data": {
      "text/plain": [
       "(1, 300)"
      ]
     },
     "execution_count": 57,
     "metadata": {},
     "output_type": "execute_result"
    }
   ],
   "source": [
    "model_wrapper(example_input).shape"
   ]
  },
  {
   "cell_type": "code",
   "execution_count": 58,
   "metadata": {},
   "outputs": [
    {
     "data": {
      "text/plain": [
       "array([[3.56964059e-02, 0.00000000e+00, 0.00000000e+00, 5.23746498e-02,\n",
       "        0.00000000e+00, 3.79013494e-02, 0.00000000e+00, 0.00000000e+00,\n",
       "        0.00000000e+00, 4.74891551e-02, 3.12048331e-04, 1.65173598e-03,\n",
       "        1.96289569e-02, 2.56350115e-02, 5.89957135e-03, 0.00000000e+00,\n",
       "        1.11671025e-02, 0.00000000e+00, 1.67639051e-02, 1.62893891e-01,\n",
       "        1.66621469e-02, 9.76122320e-02, 0.00000000e+00, 6.98851841e-03,\n",
       "        0.00000000e+00, 0.00000000e+00, 3.45444120e-03, 0.00000000e+00,\n",
       "        9.08087194e-02, 0.00000000e+00, 0.00000000e+00, 6.29136851e-03,\n",
       "        1.56819134e-03, 0.00000000e+00, 0.00000000e+00, 2.52928287e-02,\n",
       "        0.00000000e+00, 0.00000000e+00, 1.36682823e-01, 3.29912417e-02,\n",
       "        4.22598124e-02, 2.80275326e-02, 1.65742654e-02, 5.25233895e-03,\n",
       "        6.13102615e-02, 2.78039668e-02, 0.00000000e+00, 0.00000000e+00,\n",
       "        1.15126707e-02, 3.95655073e-02, 1.18175847e-02, 0.00000000e+00,\n",
       "        2.29185060e-01, 0.00000000e+00, 1.06022917e-01, 1.52707145e-01,\n",
       "        6.36249036e-02, 0.00000000e+00, 3.50260623e-02, 0.00000000e+00,\n",
       "        1.38072288e-02, 1.00399196e-01, 5.91151714e-02, 0.00000000e+00,\n",
       "        1.98102556e-03, 0.00000000e+00, 0.00000000e+00, 0.00000000e+00,\n",
       "        1.42851816e-02, 0.00000000e+00, 3.49506885e-02, 0.00000000e+00,\n",
       "        7.71088526e-03, 0.00000000e+00, 2.15396836e-01, 9.73044559e-02,\n",
       "        8.25493708e-02, 3.00849173e-02, 3.73811238e-02, 0.00000000e+00,\n",
       "        1.62549578e-02, 4.55093980e-02, 1.20133935e-02, 5.28676547e-02,\n",
       "        6.35836497e-02, 4.90349531e-03, 2.00530011e-02, 0.00000000e+00,\n",
       "        7.99118802e-02, 1.51377037e-01, 7.26073235e-03, 3.84703167e-02,\n",
       "        9.69029292e-02, 0.00000000e+00, 1.11561865e-02, 1.50225228e-02,\n",
       "        1.91798562e-03, 6.80473149e-02, 5.49641363e-02, 5.16817272e-02,\n",
       "        0.00000000e+00, 2.35443309e-04, 0.00000000e+00, 0.00000000e+00,\n",
       "        1.27729073e-01, 9.17704105e-02, 5.28419130e-02, 1.32126972e-01,\n",
       "        7.76812956e-02, 0.00000000e+00, 1.71495061e-02, 1.64299026e-01,\n",
       "        0.00000000e+00, 8.00819974e-03, 2.58471817e-02, 0.00000000e+00,\n",
       "        2.70136744e-02, 0.00000000e+00, 0.00000000e+00, 5.03446944e-02,\n",
       "        1.88887734e-02, 8.54122639e-02, 1.70740560e-01, 9.53486562e-02,\n",
       "        0.00000000e+00, 0.00000000e+00, 3.90960164e-02, 2.06125784e-03,\n",
       "        8.08866508e-03, 3.03427572e-03, 9.80325509e-03, 1.27601288e-02,\n",
       "        0.00000000e+00, 8.55604783e-02, 8.85854587e-02, 0.00000000e+00,\n",
       "        0.00000000e+00, 1.12471469e-01, 0.00000000e+00, 1.28264561e-01,\n",
       "        0.00000000e+00, 5.51134944e-02, 7.87903890e-02, 2.56605204e-02,\n",
       "        2.02684011e-02, 7.85331503e-02, 1.23655945e-01, 1.90379526e-02,\n",
       "        0.00000000e+00, 2.08622172e-01, 6.38046628e-03, 2.54958600e-01,\n",
       "        9.58936587e-02, 1.59058437e-01, 8.43521357e-02, 1.29083291e-01,\n",
       "        3.62873077e-03, 8.94972682e-02, 2.32413843e-01, 1.28423378e-01,\n",
       "        5.19530149e-03, 1.65529381e-02, 0.00000000e+00, 4.37832065e-02,\n",
       "        8.23256448e-02, 0.00000000e+00, 5.21603525e-02, 0.00000000e+00,\n",
       "        1.23357974e-01, 1.54663131e-01, 1.96198568e-01, 5.46742566e-02,\n",
       "        8.78761038e-02, 1.03808634e-01, 7.06446683e-03, 0.00000000e+00,\n",
       "        0.00000000e+00, 0.00000000e+00, 1.82066634e-01, 0.00000000e+00,\n",
       "        6.72037853e-03, 0.00000000e+00, 5.35803773e-02, 1.94929130e-02,\n",
       "        2.15604946e-01, 1.06239347e-02, 4.81589772e-02, 0.00000000e+00,\n",
       "        0.00000000e+00, 1.04249395e-01, 2.09901184e-02, 0.00000000e+00,\n",
       "        2.04100832e-02, 0.00000000e+00, 0.00000000e+00, 0.00000000e+00,\n",
       "        1.55507803e-01, 2.96464510e-04, 0.00000000e+00, 2.30743829e-02,\n",
       "        2.33421251e-01, 2.05539484e-02, 5.70692122e-02, 2.62079742e-02,\n",
       "        6.42135069e-02, 0.00000000e+00, 0.00000000e+00, 0.00000000e+00,\n",
       "        0.00000000e+00, 1.51482746e-01, 0.00000000e+00, 1.45004928e-01,\n",
       "        0.00000000e+00, 0.00000000e+00, 0.00000000e+00, 5.50662689e-02,\n",
       "        1.15406416e-01, 1.15342177e-01, 1.22356594e-01, 0.00000000e+00,\n",
       "        0.00000000e+00, 0.00000000e+00, 2.71814875e-04, 1.11417852e-01,\n",
       "        5.52118830e-02, 1.20835407e-02, 5.25093712e-02, 9.72139239e-02,\n",
       "        6.59525469e-02, 2.87204119e-03, 0.00000000e+00, 4.44535352e-02,\n",
       "        1.74253471e-02, 0.00000000e+00, 8.35326966e-03, 6.23138137e-02,\n",
       "        0.00000000e+00, 5.10884039e-02, 4.23040800e-02, 0.00000000e+00,\n",
       "        1.38370529e-01, 5.73640466e-02, 6.46850886e-03, 2.40432471e-02,\n",
       "        2.69788355e-02, 0.00000000e+00, 1.45995095e-01, 3.24908756e-02,\n",
       "        1.39017448e-01, 0.00000000e+00, 9.19237174e-03, 8.36731791e-02,\n",
       "        2.85420641e-02, 1.16635166e-01, 1.08393185e-01, 0.00000000e+00,\n",
       "        4.72581945e-02, 0.00000000e+00, 3.59414965e-02, 1.46938488e-01,\n",
       "        4.02593380e-03, 0.00000000e+00, 0.00000000e+00, 6.39936104e-02,\n",
       "        1.03490613e-01, 0.00000000e+00, 1.50668481e-02, 0.00000000e+00,\n",
       "        1.70739554e-02, 2.64419708e-02, 0.00000000e+00, 1.00101285e-01,\n",
       "        6.77473173e-02, 0.00000000e+00, 4.60820496e-02, 2.34059319e-02,\n",
       "        3.36845480e-02, 0.00000000e+00, 0.00000000e+00, 1.50927022e-01,\n",
       "        0.00000000e+00, 0.00000000e+00, 0.00000000e+00, 3.60612012e-02,\n",
       "        2.57922169e-02, 0.00000000e+00, 0.00000000e+00, 0.00000000e+00,\n",
       "        4.75836433e-02, 6.17022216e-02, 0.00000000e+00, 7.59614632e-02,\n",
       "        1.09736316e-01, 0.00000000e+00, 1.46667873e-02, 3.29338573e-02,\n",
       "        2.28893664e-02, 0.00000000e+00, 9.44896601e-03, 3.58057581e-02]],\n",
       "      dtype=float32)"
      ]
     },
     "execution_count": 58,
     "metadata": {},
     "output_type": "execute_result"
    }
   ],
   "source": [
    "model_wrapper(np.array([[False] * 100]))"
   ]
  },
  {
   "cell_type": "code",
   "execution_count": 59,
   "metadata": {},
   "outputs": [
    {
     "data": {
      "text/plain": [
       "array([[ True,  True,  True,  True,  True,  True,  True,  True,  True,\n",
       "         True,  True,  True,  True,  True,  True,  True,  True,  True,\n",
       "         True,  True,  True,  True,  True,  True,  True,  True,  True,\n",
       "         True,  True,  True,  True,  True,  True,  True,  True,  True,\n",
       "         True,  True,  True,  True,  True,  True,  True,  True,  True,\n",
       "         True,  True,  True,  True,  True,  True,  True,  True,  True,\n",
       "         True,  True,  True,  True,  True,  True,  True,  True,  True,\n",
       "         True,  True,  True,  True,  True,  True,  True,  True,  True,\n",
       "         True,  True,  True,  True,  True,  True,  True,  True,  True,\n",
       "         True,  True,  True,  True,  True,  True,  True,  True,  True,\n",
       "         True,  True,  True,  True,  True,  True,  True,  True,  True,\n",
       "         True,  True,  True,  True,  True,  True,  True,  True,  True,\n",
       "         True,  True,  True,  True,  True,  True,  True,  True,  True,\n",
       "         True,  True,  True,  True,  True,  True,  True,  True,  True,\n",
       "         True,  True,  True,  True,  True,  True,  True,  True,  True,\n",
       "         True,  True,  True,  True,  True,  True,  True,  True,  True,\n",
       "         True,  True,  True,  True,  True,  True,  True,  True,  True,\n",
       "         True,  True,  True,  True,  True,  True,  True,  True,  True,\n",
       "         True,  True,  True,  True,  True,  True,  True,  True,  True,\n",
       "         True,  True,  True,  True,  True,  True,  True,  True,  True,\n",
       "         True,  True,  True,  True,  True,  True,  True,  True,  True,\n",
       "         True,  True,  True,  True,  True,  True,  True,  True,  True,\n",
       "         True,  True,  True,  True,  True,  True,  True,  True,  True,\n",
       "         True,  True,  True,  True,  True,  True,  True,  True,  True,\n",
       "         True,  True,  True,  True,  True,  True,  True,  True,  True,\n",
       "         True,  True,  True,  True,  True,  True,  True,  True,  True,\n",
       "         True,  True,  True,  True,  True,  True,  True,  True,  True,\n",
       "         True,  True,  True,  True,  True,  True,  True,  True,  True,\n",
       "         True,  True,  True,  True,  True,  True,  True,  True,  True,\n",
       "         True,  True,  True,  True,  True,  True,  True,  True,  True,\n",
       "         True,  True,  True,  True,  True,  True,  True,  True,  True,\n",
       "         True,  True,  True,  True,  True,  True,  True,  True,  True,\n",
       "         True,  True,  True,  True,  True,  True,  True,  True,  True,\n",
       "         True,  True,  True]])"
      ]
     },
     "execution_count": 59,
     "metadata": {},
     "output_type": "execute_result"
    }
   ],
   "source": [
    "model_wrapper(np.array([[False] * 100])) == model_wrapper(np.array([[True] * 100]))"
   ]
  },
  {
   "cell_type": "code",
   "execution_count": null,
   "metadata": {},
   "outputs": [],
   "source": []
  },
  {
   "cell_type": "code",
   "execution_count": null,
   "metadata": {},
   "outputs": [],
   "source": []
  },
  {
   "cell_type": "code",
   "execution_count": 61,
   "metadata": {},
   "outputs": [],
   "source": [
    "# Dummy TrainArgs class for illustration\n",
    "import sys\n",
    "sys.path.insert(0, '/home/oscarwu/code/chemprop_developing')\n",
    "from chemprop.args import TrainArgs\n",
    "\n",
    "# Example SHAP Analysis with MPN\n",
    "\n",
    "# Define the TrainArgs\n",
    "args = TrainArgs()\n",
    "\n",
    "# Create the MPN model\n",
    "from chemprop.models.mpn import MPN\n",
    "mpn_model = MPN(args)\n",
    "\n",
    "class MPNWrapper:\n",
    "    def __init__(self, model, smiles, features_batch):\n",
    "        self.model = model\n",
    "        self.smiles = smiles\n",
    "        self.features_batch = features_batch\n",
    "        self.mol_feature = mol_feature_scaler.transform(mol_feature)\n",
    "        \n",
    "\n",
    "    def __call__(self, data):\n",
    "        # Convert data to the expected input format for the MPN model\n",
    "        batch = [[Chem.MolFromSmiles(smiles) for smiles in self.smiles]]\n",
    "        extra_keep_features_batch = data.tolist()  # Convert numpy array to list of lists\n",
    "        output = self.model(batch, features_batch=self.features_batch, shap=True,\n",
    "                            extra_keep_features_batch=extra_keep_features_batch)\n",
    "        \n",
    "        output = target_scaler.inverse_transform(output)\n",
    "        return output.detach().cpu().numpy()\n",
    "\n",
    "# Define dummy features batch\n",
    "features_batch = [np.random.rand(1, 100) for _ in range(len(smiles_list))]  # Example feature length of 100\n",
    "\n",
    "# Create the MPN wrapper\n",
    "model_wrapper = MPNWrapper(mpn_model, smiles_list, features_batch)\n",
    "\n",
    "# Create the PermutationExplainer\n",
    "explainer = PermutationExplainer(model=model_wrapper, masker=binary_masker)\n",
    "\n",
    "# Generate example input to explain\n",
    "example_input = np.array([[True] * 200])  # Example input for keep_features\n"
   ]
  },
  {
   "cell_type": "code",
   "execution_count": 66,
   "metadata": {},
   "outputs": [
    {
     "data": {
      "text/plain": [
       "array([[2.28082836e-02, 0.00000000e+00, 0.00000000e+00, 1.38110006e-02,\n",
       "        3.98440808e-02, 3.11706942e-02, 6.13108762e-02, 0.00000000e+00,\n",
       "        7.57831261e-02, 0.00000000e+00, 5.32255461e-03, 8.37425813e-02,\n",
       "        0.00000000e+00, 0.00000000e+00, 0.00000000e+00, 0.00000000e+00,\n",
       "        1.06118761e-01, 2.77969390e-02, 0.00000000e+00, 2.00244952e-02,\n",
       "        1.69296507e-02, 7.81310871e-02, 0.00000000e+00, 0.00000000e+00,\n",
       "        3.00733801e-02, 7.16054291e-02, 9.83800460e-03, 1.77742854e-01,\n",
       "        6.53687790e-02, 1.58211438e-03, 4.07660007e-02, 0.00000000e+00,\n",
       "        1.63837913e-02, 0.00000000e+00, 8.82048830e-02, 4.45606895e-02,\n",
       "        3.31034325e-02, 2.16282159e-03, 0.00000000e+00, 9.47360974e-03,\n",
       "        0.00000000e+00, 7.56702498e-02, 3.38848084e-02, 9.77005158e-03,\n",
       "        1.25909507e-01, 7.63905272e-02, 8.34982377e-03, 6.94973534e-03,\n",
       "        6.48947954e-02, 4.34623808e-02, 1.75422907e-01, 0.00000000e+00,\n",
       "        0.00000000e+00, 1.56332050e-02, 1.66949257e-02, 0.00000000e+00,\n",
       "        8.23097154e-02, 4.95815463e-02, 0.00000000e+00, 0.00000000e+00,\n",
       "        0.00000000e+00, 0.00000000e+00, 0.00000000e+00, 3.58804278e-02,\n",
       "        0.00000000e+00, 8.97562280e-02, 1.23464108e-01, 8.76899436e-02,\n",
       "        2.00749353e-01, 0.00000000e+00, 1.94056612e-02, 1.54890465e-02,\n",
       "        0.00000000e+00, 0.00000000e+00, 4.38825488e-02, 0.00000000e+00,\n",
       "        2.07315050e-02, 9.68304276e-02, 7.92397633e-02, 0.00000000e+00,\n",
       "        0.00000000e+00, 9.82926115e-02, 0.00000000e+00, 5.32208718e-02,\n",
       "        1.11171670e-01, 0.00000000e+00, 2.85759326e-02, 1.03543103e-01,\n",
       "        0.00000000e+00, 7.30834389e-03, 8.50409269e-02, 1.14614144e-04,\n",
       "        0.00000000e+00, 7.78175518e-02, 2.79283207e-02, 1.07829170e-02,\n",
       "        5.12963533e-02, 1.79946404e-02, 3.68290097e-02, 0.00000000e+00,\n",
       "        0.00000000e+00, 1.48940146e-01, 2.27825660e-02, 0.00000000e+00,\n",
       "        5.63361309e-02, 8.73998273e-03, 0.00000000e+00, 2.22625449e-01,\n",
       "        0.00000000e+00, 0.00000000e+00, 7.44307041e-02, 0.00000000e+00,\n",
       "        4.59429957e-02, 4.85638529e-02, 8.24529026e-03, 0.00000000e+00,\n",
       "        2.18030736e-02, 1.60675328e-02, 1.42990639e-02, 0.00000000e+00,\n",
       "        0.00000000e+00, 1.49027957e-02, 1.42812496e-02, 0.00000000e+00,\n",
       "        0.00000000e+00, 8.39787945e-02, 0.00000000e+00, 0.00000000e+00,\n",
       "        3.92296724e-02, 0.00000000e+00, 3.77577320e-02, 4.06742729e-02,\n",
       "        0.00000000e+00, 5.74428849e-02, 5.01831761e-03, 0.00000000e+00,\n",
       "        3.14650238e-02, 0.00000000e+00, 0.00000000e+00, 1.15836626e-02,\n",
       "        5.27672470e-02, 3.57837677e-02, 1.87813246e-03, 2.17116978e-02,\n",
       "        3.03658354e-03, 6.50382861e-02, 1.08940080e-02, 5.15541770e-02,\n",
       "        0.00000000e+00, 0.00000000e+00, 9.73381475e-02, 5.98579645e-02,\n",
       "        0.00000000e+00, 4.21699695e-02, 7.48891709e-03, 1.02471419e-01,\n",
       "        3.11824237e-03, 5.31884432e-02, 2.31261551e-03, 9.37100872e-02,\n",
       "        0.00000000e+00, 1.91043783e-02, 3.92336771e-03, 1.36656389e-02,\n",
       "        1.02924928e-02, 0.00000000e+00, 7.52690360e-02, 8.51717312e-03,\n",
       "        9.92533751e-04, 1.74500775e-02, 2.25018635e-02, 0.00000000e+00,\n",
       "        1.56157240e-02, 0.00000000e+00, 4.58507473e-03, 2.55850162e-02,\n",
       "        9.15351138e-02, 1.02238571e-02, 0.00000000e+00, 1.62193254e-02,\n",
       "        0.00000000e+00, 0.00000000e+00, 1.75937247e-02, 0.00000000e+00,\n",
       "        4.45189364e-02, 4.52985577e-02, 0.00000000e+00, 0.00000000e+00,\n",
       "        8.72955695e-02, 0.00000000e+00, 1.36657208e-02, 0.00000000e+00,\n",
       "        4.24040556e-02, 8.61096457e-02, 1.62013192e-02, 7.32876435e-02,\n",
       "        0.00000000e+00, 1.12892099e-01, 2.21236851e-02, 6.13330491e-02,\n",
       "        5.86967878e-02, 0.00000000e+00, 7.90747032e-02, 1.91150606e-01,\n",
       "        2.38421708e-02, 0.00000000e+00, 3.52962948e-02, 7.45183497e-04,\n",
       "        0.00000000e+00, 4.37760586e-03, 3.19789047e-03, 4.69650840e-03,\n",
       "        1.52221024e-01, 1.04585737e-02, 2.52139624e-02, 3.27474661e-02,\n",
       "        0.00000000e+00, 1.25196911e-02, 2.66865771e-02, 2.54293364e-02,\n",
       "        1.46377208e-02, 0.00000000e+00, 2.77835131e-02, 8.28312244e-03,\n",
       "        0.00000000e+00, 4.10774015e-02, 8.66703223e-03, 1.10266814e-02,\n",
       "        0.00000000e+00, 0.00000000e+00, 2.72441027e-03, 0.00000000e+00,\n",
       "        0.00000000e+00, 0.00000000e+00, 1.55757815e-02, 0.00000000e+00,\n",
       "        2.31775865e-02, 1.58324279e-02, 1.85743589e-02, 8.32577050e-02,\n",
       "        0.00000000e+00, 0.00000000e+00, 0.00000000e+00, 4.67057340e-02,\n",
       "        4.56840992e-02, 2.20501814e-02, 2.20622029e-02, 4.58599329e-02,\n",
       "        8.50705728e-02, 2.74991002e-02, 4.91290689e-02, 0.00000000e+00,\n",
       "        0.00000000e+00, 1.87835410e-01, 0.00000000e+00, 6.85824975e-02,\n",
       "        1.09996647e-03, 4.40443903e-02, 0.00000000e+00, 0.00000000e+00,\n",
       "        0.00000000e+00, 0.00000000e+00, 1.70427803e-02, 3.94779854e-02,\n",
       "        0.00000000e+00, 4.06722240e-02, 3.31172422e-02, 1.68246865e-01,\n",
       "        1.00400699e-02, 2.09426042e-02, 5.86696379e-02, 4.10711393e-02,\n",
       "        1.13890611e-01, 2.46909279e-02, 0.00000000e+00, 6.21630661e-02,\n",
       "        0.00000000e+00, 0.00000000e+00, 3.68443318e-04, 3.33792210e-04,\n",
       "        8.60016346e-02, 1.26917362e-01, 8.56631324e-02, 2.22069006e-02,\n",
       "        4.39220481e-02, 1.87725481e-02, 7.99173210e-03, 3.27257663e-02,\n",
       "        0.00000000e+00, 4.26799059e-02, 0.00000000e+00, 0.00000000e+00,\n",
       "        2.37873569e-01, 3.08466796e-02, 1.21063866e-01, 1.08091109e-01,\n",
       "        0.00000000e+00, 0.00000000e+00, 6.96274405e-03, 2.86401715e-02]],\n",
       "      dtype=float32)"
      ]
     },
     "execution_count": 66,
     "metadata": {},
     "output_type": "execute_result"
    }
   ],
   "source": [
    "model_wrapper(np.array([[False] * 500]))"
   ]
  },
  {
   "cell_type": "code",
   "execution_count": null,
   "metadata": {},
   "outputs": [],
   "source": [
    "# need to change model.py moleculemodel to adapt with an wrapper for shap\n",
    "# atom/bond feature/descriptor directly read from npz\n",
    "# mol feature pre-generate from chemprop \n",
    "# applying to scaling to model prediction outcome in call \n"
   ]
  }
 ],
 "metadata": {
  "kernelspec": {
   "display_name": "chemprop",
   "language": "python",
   "name": "python3"
  },
  "language_info": {
   "codemirror_mode": {
    "name": "ipython",
    "version": 3
   },
   "file_extension": ".py",
   "mimetype": "text/x-python",
   "name": "python",
   "nbconvert_exporter": "python",
   "pygments_lexer": "ipython3",
   "version": "3.8.19"
  }
 },
 "nbformat": 4,
 "nbformat_minor": 2
}
