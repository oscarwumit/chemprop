{
 "cells": [
  {
   "cell_type": "code",
   "execution_count": 1,
   "metadata": {},
   "outputs": [
    {
     "name": "stderr",
     "output_type": "stream",
     "text": [
      "/home/oscarwu/mambaforge/envs/chemprop/lib/python3.10/site-packages/tqdm/auto.py:22: TqdmWarning: IProgress not found. Please update jupyter and ipywidgets. See https://ipywidgets.readthedocs.io/en/stable/user_install.html\n",
      "  from .autonotebook import tqdm as notebook_tqdm\n"
     ]
    }
   ],
   "source": [
    "from typing import List, Tuple, Union\n",
    "from itertools import zip_longest\n",
    "import logging\n",
    "\n",
    "from rdkit import Chem\n",
    "import torch\n",
    "import numpy as np\n",
    "\n",
    "from chemprop.rdkit import make_mol\n",
    "\n",
    "class Featurization_parameters:\n",
    "    \"\"\"\n",
    "    A class holding molecule featurization parameters as attributes.\n",
    "    \"\"\"\n",
    "    def __init__(self) -> None:\n",
    "\n",
    "        # Atom feature sizes\n",
    "        self.MAX_ATOMIC_NUM = 100\n",
    "        self.ATOM_FEATURES = {\n",
    "            'atomic_num': list(range(self.MAX_ATOMIC_NUM)),\n",
    "            'degree': [0, 1, 2, 3, 4, 5],\n",
    "            'formal_charge': [-1, -2, 1, 2, 0],\n",
    "            'chiral_tag': [0, 1, 2, 3],\n",
    "            'num_Hs': [0, 1, 2, 3, 4],\n",
    "            'hybridization': [\n",
    "                Chem.rdchem.HybridizationType.SP,\n",
    "                Chem.rdchem.HybridizationType.SP2,\n",
    "                Chem.rdchem.HybridizationType.SP3,\n",
    "                Chem.rdchem.HybridizationType.SP3D,\n",
    "                Chem.rdchem.HybridizationType.SP3D2\n",
    "            ],\n",
    "        }\n",
    "\n",
    "        # Distance feature sizes\n",
    "        self.PATH_DISTANCE_BINS = list(range(10))\n",
    "        self.THREE_D_DISTANCE_MAX = 20\n",
    "        self.THREE_D_DISTANCE_STEP = 1\n",
    "        self.THREE_D_DISTANCE_BINS = list(range(0, self.THREE_D_DISTANCE_MAX + 1, self.THREE_D_DISTANCE_STEP))\n",
    "\n",
    "        # len(choices) + 1 to include room for uncommon values; + 2 at end for IsAromatic and mass\n",
    "        self.ATOM_FDIM = sum(len(choices) + 1 for choices in self.ATOM_FEATURES.values()) + 2\n",
    "        self.EXTRA_ATOM_FDIM = 0\n",
    "        self.BOND_FDIM = 14\n",
    "        self.EXTRA_BOND_FDIM = 0\n",
    "        self.REACTION_MODE = None\n",
    "        self.EXPLICIT_H = False\n",
    "        self.REACTION = False\n",
    "        self.ADDING_H = False\n",
    "        self.KEEP_ATOM_MAP = False\n",
    "\n",
    "# Create a global parameter object for reference throughout this module\n",
    "PARAMS = Featurization_parameters()\n",
    "\n",
    "\n",
    "def reset_featurization_parameters(logger: logging.Logger = None) -> None:\n",
    "    \"\"\"\n",
    "    Function resets feature parameter values to defaults by replacing the parameters instance.\n",
    "    \"\"\"\n",
    "    if logger is not None:\n",
    "        debug = logger.debug\n",
    "    else:\n",
    "        debug = print\n",
    "    debug('Setting molecule featurization parameters to default.')\n",
    "    global PARAMS\n",
    "    PARAMS = Featurization_parameters()\n",
    "\n",
    "\n",
    "def get_atom_fdim(overwrite_default_atom: bool = False, is_reaction: bool = False) -> int:\n",
    "    \"\"\"\n",
    "    Gets the dimensionality of the atom feature vector.\n",
    "\n",
    "    :param overwrite_default_atom: Whether to overwrite the default atom descriptors.\n",
    "    :param is_reaction: Whether to add :code:`EXTRA_ATOM_FDIM` for reaction input when :code:`REACTION_MODE` is not None.\n",
    "    :return: The dimensionality of the atom feature vector.\n",
    "    \"\"\"\n",
    "    if PARAMS.REACTION_MODE:\n",
    "        return (not overwrite_default_atom) * PARAMS.ATOM_FDIM + is_reaction * PARAMS.EXTRA_ATOM_FDIM\n",
    "    else:\n",
    "        return (not overwrite_default_atom) * PARAMS.ATOM_FDIM + PARAMS.EXTRA_ATOM_FDIM\n",
    "\n",
    "\n",
    "def set_explicit_h(explicit_h: bool) -> None:\n",
    "    \"\"\"\n",
    "    Sets whether RDKit molecules will be constructed with explicit Hs.\n",
    "\n",
    "    :param explicit_h: Boolean whether to keep explicit Hs from input.\n",
    "    \"\"\"\n",
    "    PARAMS.EXPLICIT_H = explicit_h\n",
    "\n",
    "def set_adding_hs(adding_hs: bool) -> None:\n",
    "    \"\"\"\n",
    "    Sets whether RDKit molecules will be constructed with adding the Hs to them.\n",
    "\n",
    "    :param adding_hs: Boolean whether to add Hs to the molecule.\n",
    "    \"\"\"\n",
    "    PARAMS.ADDING_H = adding_hs\n",
    "\n",
    "def set_keeping_atom_map(keeping_atom_map: bool) -> None:\n",
    "    \"\"\"\n",
    "    Sets whether RDKit molecules keep the original atom mapping.\n",
    "\n",
    "    :param keeping_atom_map: Boolean whether to keep the original atom mapping.\n",
    "    \"\"\"\n",
    "    PARAMS.KEEP_ATOM_MAP = keeping_atom_map\n",
    "\n",
    "def set_reaction(reaction: bool, mode: str) -> None:\n",
    "    \"\"\"\n",
    "    Sets whether to use a reaction or molecule as input and adapts feature dimensions.\n",
    " \n",
    "    :param reaction: Boolean whether to except reactions as input.\n",
    "    :param mode: Reaction mode to construct atom and bond feature vectors.\n",
    "\n",
    "    \"\"\"\n",
    "    PARAMS.REACTION = reaction\n",
    "    if reaction:\n",
    "        PARAMS.EXTRA_ATOM_FDIM = PARAMS.ATOM_FDIM - PARAMS.MAX_ATOMIC_NUM - 1\n",
    "        PARAMS.EXTRA_BOND_FDIM = PARAMS.BOND_FDIM\n",
    "        PARAMS.REACTION_MODE = mode\n",
    "        \n",
    "def is_explicit_h(is_mol: bool = True) -> bool:\n",
    "    r\"\"\"Returns whether to retain explicit Hs (for reactions only)\"\"\"\n",
    "    if not is_mol:\n",
    "        return PARAMS.EXPLICIT_H\n",
    "    return False\n",
    "\n",
    "\n",
    "def is_adding_hs(is_mol: bool = True) -> bool:\n",
    "    r\"\"\"Returns whether to add explicit Hs to the mol (not for reactions)\"\"\"\n",
    "    if is_mol:\n",
    "        return PARAMS.ADDING_H\n",
    "    return False\n",
    "\n",
    "\n",
    "def is_keeping_atom_map(is_mol: bool = True) -> bool:\n",
    "    r\"\"\"Returns whether to keep the original atom mapping (not for reactions)\"\"\"\n",
    "    if is_mol:\n",
    "        return PARAMS.KEEP_ATOM_MAP\n",
    "    return True\n",
    "\n",
    "\n",
    "def is_reaction(is_mol: bool = True) -> bool:\n",
    "    r\"\"\"Returns whether to use reactions as input\"\"\"\n",
    "    if is_mol:\n",
    "        return False\n",
    "    if PARAMS.REACTION: #(and not is_mol, checked above)\n",
    "        return True\n",
    "    return False\n",
    "\n",
    "\n",
    "def reaction_mode() -> str:\n",
    "    r\"\"\"Returns the reaction mode\"\"\"\n",
    "    return PARAMS.REACTION_MODE\n",
    "\n",
    "\n",
    "def set_extra_atom_fdim(extra):\n",
    "    \"\"\"Change the dimensionality of the atom feature vector.\"\"\"\n",
    "    PARAMS.EXTRA_ATOM_FDIM = extra\n",
    "\n",
    "\n",
    "def get_bond_fdim(atom_messages: bool = False,\n",
    "                  overwrite_default_bond: bool = False,\n",
    "                  overwrite_default_atom: bool = False,\n",
    "                  is_reaction: bool = False) -> int:\n",
    "    \"\"\"\n",
    "    Gets the dimensionality of the bond feature vector.\n",
    "\n",
    "    :param atom_messages: Whether atom messages are being used. If atom messages are used,\n",
    "                          then the bond feature vector only contains bond features.\n",
    "                          Otherwise it contains both atom and bond features.\n",
    "    :param overwrite_default_bond: Whether to overwrite the default bond descriptors.\n",
    "    :param overwrite_default_atom: Whether to overwrite the default atom descriptors.\n",
    "    :param is_reaction: Whether to add :code:`EXTRA_BOND_FDIM` for reaction input when :code:`REACTION_MODE:` is not None\n",
    "    :return: The dimensionality of the bond feature vector.\n",
    "    \"\"\"\n",
    "\n",
    "    if PARAMS.REACTION_MODE:\n",
    "        return (not overwrite_default_bond) * PARAMS.BOND_FDIM + is_reaction * PARAMS.EXTRA_BOND_FDIM + \\\n",
    "            (not atom_messages) * get_atom_fdim(overwrite_default_atom=overwrite_default_atom, is_reaction=is_reaction)\n",
    "    else:\n",
    "        return (not overwrite_default_bond) * PARAMS.BOND_FDIM + PARAMS.EXTRA_BOND_FDIM + \\\n",
    "            (not atom_messages) * get_atom_fdim(overwrite_default_atom=overwrite_default_atom, is_reaction=is_reaction)\n",
    "\n",
    "\n",
    "def set_extra_bond_fdim(extra):\n",
    "    \"\"\"Change the dimensionality of the bond feature vector.\"\"\"\n",
    "    PARAMS.EXTRA_BOND_FDIM = extra\n",
    "\n",
    "\n",
    "def onek_encoding_unk(value: int, choices: List[int]) -> List[int]:\n",
    "    \"\"\"\n",
    "    Creates a one-hot encoding with an extra category for uncommon values.\n",
    "\n",
    "    :param value: The value for which the encoding should be one.\n",
    "    :param choices: A list of possible values.\n",
    "    :return: A one-hot encoding of the :code:`value` in a list of length :code:`len(choices) + 1`.\n",
    "             If :code:`value` is not in :code:`choices`, then the final element in the encoding is 1.\n",
    "    \"\"\"\n",
    "    encoding = [0] * (len(choices) + 1)\n",
    "    index = choices.index(value) if value in choices else -1\n",
    "    encoding[index] = 1\n",
    "\n",
    "    return encoding\n",
    "\n",
    "\n",
    "def atom_features(atom: Chem.rdchem.Atom, functional_groups: List[int] = None) -> List[Union[bool, int, float]]:\n",
    "    \"\"\"\n",
    "    Builds a feature vector for an atom.\n",
    "\n",
    "    :param atom: An RDKit atom.\n",
    "    :param functional_groups: A k-hot vector indicating the functional groups the atom belongs to.\n",
    "    :return: A list containing the atom features.\n",
    "    \"\"\"\n",
    "    if atom is None:\n",
    "        features = [0] * PARAMS.ATOM_FDIM\n",
    "    else:\n",
    "        features = onek_encoding_unk(atom.GetAtomicNum() - 1, PARAMS.ATOM_FEATURES['atomic_num']) + \\\n",
    "            onek_encoding_unk(atom.GetTotalDegree(), PARAMS.ATOM_FEATURES['degree']) + \\\n",
    "            onek_encoding_unk(atom.GetFormalCharge(), PARAMS.ATOM_FEATURES['formal_charge']) + \\\n",
    "            onek_encoding_unk(int(atom.GetChiralTag()), PARAMS.ATOM_FEATURES['chiral_tag']) + \\\n",
    "            onek_encoding_unk(int(atom.GetTotalNumHs()), PARAMS.ATOM_FEATURES['num_Hs']) + \\\n",
    "            onek_encoding_unk(int(atom.GetHybridization()), PARAMS.ATOM_FEATURES['hybridization']) + \\\n",
    "            [1 if atom.GetIsAromatic() else 0] + \\\n",
    "            [atom.GetMass() * 0.01]  # scaled to about the same range as other features\n",
    "        if functional_groups is not None:\n",
    "            features += functional_groups\n",
    "    return features\n",
    "\n",
    "def atom_features_new(atom: Chem.rdchem.Atom, keep_features: List[bool] = [True]*8, functional_groups: List[int] = None) -> List[Union[bool, int, float]]:\n",
    "    \"\"\"\n",
    "    Builds a feature vector for an atom.\n",
    "\n",
    "    :param atom: An RDKit atom.\n",
    "    :param keep_features: A boolean vector indicating which features to keep.\n",
    "    :param functional_groups: A k-hot vector indicating the functional groups the atom belongs to.\n",
    "    :return: A list containing the atom features.\n",
    "    \"\"\"\n",
    "    if atom is None:\n",
    "        return [0] * PARAMS.ATOM_FDIM\n",
    "\n",
    "    # Define features and their corresponding keep flags\n",
    "    feature_constructors = [\n",
    "        (lambda atom: onek_encoding_unk(atom.GetAtomicNum() - 1, PARAMS.ATOM_FEATURES['atomic_num']), 0),\n",
    "        (lambda atom: onek_encoding_unk(atom.GetTotalDegree(), PARAMS.ATOM_FEATURES['degree']), 1),\n",
    "        (lambda atom: onek_encoding_unk(atom.GetFormalCharge(), PARAMS.ATOM_FEATURES['formal_charge']), 2),\n",
    "        (lambda atom: onek_encoding_unk(int(atom.GetChiralTag()), PARAMS.ATOM_FEATURES['chiral_tag']), 3),\n",
    "        (lambda atom: onek_encoding_unk(int(atom.GetTotalNumHs()), PARAMS.ATOM_FEATURES['num_Hs']), 4),\n",
    "        (lambda atom: onek_encoding_unk(int(atom.GetHybridization()), PARAMS.ATOM_FEATURES['hybridization']), 5),\n",
    "        (lambda atom: [1 if atom.GetIsAromatic() else 0], 6),\n",
    "        (lambda atom: [atom.GetMass() * 0.01], 7)\n",
    "    ]\n",
    "\n",
    "    # Build features based on keep_features\n",
    "    features = []\n",
    "    for constructor, flag_index in feature_constructors:\n",
    "        feature = constructor(atom)\n",
    "        if not keep_features[flag_index]:\n",
    "            feature = [0] * len(feature)\n",
    "        features.extend(feature)\n",
    "\n",
    "    if functional_groups is not None:\n",
    "        features.extend(functional_groups)\n",
    "\n",
    "    return features\n",
    "\n",
    "def bond_features(bond: Chem.rdchem.Bond) -> List[Union[bool, int, float]]:\n",
    "    \"\"\"\n",
    "    Builds a feature vector for a bond.\n",
    "\n",
    "    :param bond: An RDKit bond.\n",
    "    :return: A list containing the bond features.\n",
    "    \"\"\"\n",
    "    if bond is None:\n",
    "        fbond = [1] + [0] * (PARAMS.BOND_FDIM - 1)\n",
    "    else:\n",
    "        bt = bond.GetBondType()\n",
    "        fbond = [\n",
    "            0,  # bond is not None\n",
    "            bt == Chem.rdchem.BondType.SINGLE,\n",
    "            bt == Chem.rdchem.BondType.DOUBLE,\n",
    "            bt == Chem.rdchem.BondType.TRIPLE,\n",
    "            bt == Chem.rdchem.BondType.AROMATIC,\n",
    "            (bond.GetIsConjugated() if bt is not None else 0),\n",
    "            (bond.IsInRing() if bt is not None else 0)\n",
    "        ]\n",
    "        fbond += onek_encoding_unk(int(bond.GetStereo()), list(range(6)))\n",
    "    return fbond\n",
    "\n",
    "def bond_features_new(bond: Chem.rdchem.Bond, keep_features: List[bool] = [True]*4) -> List[Union[bool, int, float]]:\n",
    "    \"\"\"\n",
    "    Builds a feature vector for a bond.\n",
    "\n",
    "    :param bond: An RDKit bond.\n",
    "    :param keep_features: A boolean vector indicating which features to keep.\n",
    "    :return: A list containing the bond features.\n",
    "    \"\"\"\n",
    "    if bond is None:\n",
    "        fbond = [1] + [0] * (PARAMS.BOND_FDIM - 1)\n",
    "    else:\n",
    "        bt = bond.GetBondType()\n",
    "        fbond = [0] # bond is not None\n",
    "        bond_features_list = [\n",
    "            (lambda bond: [bt == Chem.rdchem.BondType.SINGLE], 0),\n",
    "            (lambda bond: [bt == Chem.rdchem.BondType.DOUBLE], 0),\n",
    "            (lambda bond: [bt == Chem.rdchem.BondType.TRIPLE], 0),\n",
    "            (lambda bond: [bt == Chem.rdchem.BondType.AROMATIC], 0),\n",
    "            (lambda bond: [(bond.GetIsConjugated() if bt is not None else 0)], 1),\n",
    "            (lambda bond: [(bond.IsInRing() if bt is not None else 0)], 2),\n",
    "            (lambda bond: onek_encoding_unk(int(bond.GetStereo()), list(range(6))), 3)\n",
    "        ]\n",
    "        for constructor, flag_index in bond_features_list:\n",
    "            feature = constructor(bond)\n",
    "            if not keep_features[flag_index]:\n",
    "                feature = [0] * len(feature)\n",
    "            fbond.extend(feature)\n",
    "\n",
    "    return fbond"
   ]
  },
  {
   "cell_type": "code",
   "execution_count": 5,
   "metadata": {},
   "outputs": [],
   "source": [
    "from pprint import pprint"
   ]
  },
  {
   "cell_type": "code",
   "execution_count": null,
   "metadata": {},
   "outputs": [],
   "source": [
    "# test bond feature fuction"
   ]
  },
  {
   "cell_type": "code",
   "execution_count": 98,
   "metadata": {},
   "outputs": [],
   "source": [
    "smiles = 'CCO'\n",
    "mol = Chem.MolFromSmiles(smiles)\n",
    "bond = mol.GetBondWithIdx(0)"
   ]
  },
  {
   "cell_type": "code",
   "execution_count": 100,
   "metadata": {},
   "outputs": [],
   "source": [
    "bond_feat_1 = bond_features(bond)"
   ]
  },
  {
   "cell_type": "code",
   "execution_count": 101,
   "metadata": {},
   "outputs": [
    {
     "data": {
      "text/plain": [
       "[0, True, False, False, False, False, False, 1, 0, 0, 0, 0, 0, 0]"
      ]
     },
     "execution_count": 101,
     "metadata": {},
     "output_type": "execute_result"
    }
   ],
   "source": [
    "bond_feat_1"
   ]
  },
  {
   "cell_type": "code",
   "execution_count": 103,
   "metadata": {},
   "outputs": [],
   "source": [
    "bond_feat_2 = bond_features_new(bond)"
   ]
  },
  {
   "cell_type": "code",
   "execution_count": 104,
   "metadata": {},
   "outputs": [
    {
     "data": {
      "text/plain": [
       "[0, True, False, False, False, False, False, 1, 0, 0, 0, 0, 0, 0]"
      ]
     },
     "execution_count": 104,
     "metadata": {},
     "output_type": "execute_result"
    }
   ],
   "source": [
    "bond_feat_2"
   ]
  },
  {
   "cell_type": "code",
   "execution_count": 105,
   "metadata": {},
   "outputs": [
    {
     "data": {
      "text/plain": [
       "True"
      ]
     },
     "execution_count": 105,
     "metadata": {},
     "output_type": "execute_result"
    }
   ],
   "source": [
    "bond_feat_1 == bond_feat_2"
   ]
  },
  {
   "cell_type": "code",
   "execution_count": null,
   "metadata": {},
   "outputs": [],
   "source": [
    "# test atom feature function"
   ]
  },
  {
   "cell_type": "code",
   "execution_count": 2,
   "metadata": {},
   "outputs": [],
   "source": [
    "smiles = 'CCO'\n",
    "mol = Chem.MolFromSmiles(smiles)\n",
    "atom = mol.GetAtomWithIdx(0)"
   ]
  },
  {
   "cell_type": "code",
   "execution_count": 87,
   "metadata": {},
   "outputs": [],
   "source": [
    "new_features = atom_features_new(atom)"
   ]
  },
  {
   "cell_type": "code",
   "execution_count": 88,
   "metadata": {},
   "outputs": [
    {
     "data": {
      "text/plain": [
       "133"
      ]
     },
     "execution_count": 88,
     "metadata": {},
     "output_type": "execute_result"
    }
   ],
   "source": [
    "len(new_features)"
   ]
  },
  {
   "cell_type": "code",
   "execution_count": 89,
   "metadata": {},
   "outputs": [
    {
     "data": {
      "text/plain": [
       "True"
      ]
     },
     "execution_count": 89,
     "metadata": {},
     "output_type": "execute_result"
    }
   ],
   "source": [
    "new_features == features"
   ]
  },
  {
   "cell_type": "code",
   "execution_count": 96,
   "metadata": {},
   "outputs": [],
   "source": [
    "new_features_reduced = atom_features_new(atom, keep_features=[1]*8)"
   ]
  },
  {
   "cell_type": "code",
   "execution_count": 97,
   "metadata": {},
   "outputs": [
    {
     "data": {
      "text/plain": [
       "[0,\n",
       " 0,\n",
       " 0,\n",
       " 0,\n",
       " 0,\n",
       " 1,\n",
       " 0,\n",
       " 0,\n",
       " 0,\n",
       " 0,\n",
       " 0,\n",
       " 0,\n",
       " 0,\n",
       " 0,\n",
       " 0,\n",
       " 0,\n",
       " 0,\n",
       " 0,\n",
       " 0,\n",
       " 0,\n",
       " 0,\n",
       " 0,\n",
       " 0,\n",
       " 0,\n",
       " 0,\n",
       " 0,\n",
       " 0,\n",
       " 0,\n",
       " 0,\n",
       " 0,\n",
       " 0,\n",
       " 0,\n",
       " 0,\n",
       " 0,\n",
       " 0,\n",
       " 0,\n",
       " 0,\n",
       " 0,\n",
       " 0,\n",
       " 0,\n",
       " 0,\n",
       " 0,\n",
       " 0,\n",
       " 0,\n",
       " 0,\n",
       " 0,\n",
       " 0,\n",
       " 0,\n",
       " 0,\n",
       " 0,\n",
       " 0,\n",
       " 0,\n",
       " 0,\n",
       " 0,\n",
       " 0,\n",
       " 0,\n",
       " 0,\n",
       " 0,\n",
       " 0,\n",
       " 0,\n",
       " 0,\n",
       " 0,\n",
       " 0,\n",
       " 0,\n",
       " 0,\n",
       " 0,\n",
       " 0,\n",
       " 0,\n",
       " 0,\n",
       " 0,\n",
       " 0,\n",
       " 0,\n",
       " 0,\n",
       " 0,\n",
       " 0,\n",
       " 0,\n",
       " 0,\n",
       " 0,\n",
       " 0,\n",
       " 0,\n",
       " 0,\n",
       " 0,\n",
       " 0,\n",
       " 0,\n",
       " 0,\n",
       " 0,\n",
       " 0,\n",
       " 0,\n",
       " 0,\n",
       " 0,\n",
       " 0,\n",
       " 0,\n",
       " 0,\n",
       " 0,\n",
       " 0,\n",
       " 0,\n",
       " 0,\n",
       " 0,\n",
       " 0,\n",
       " 0,\n",
       " 0,\n",
       " 0,\n",
       " 0,\n",
       " 0,\n",
       " 0,\n",
       " 1,\n",
       " 0,\n",
       " 0,\n",
       " 0,\n",
       " 0,\n",
       " 0,\n",
       " 0,\n",
       " 1,\n",
       " 0,\n",
       " 1,\n",
       " 0,\n",
       " 0,\n",
       " 0,\n",
       " 0,\n",
       " 0,\n",
       " 0,\n",
       " 0,\n",
       " 1,\n",
       " 0,\n",
       " 0,\n",
       " 0,\n",
       " 0,\n",
       " 1,\n",
       " 0,\n",
       " 0,\n",
       " 0,\n",
       " 0,\n",
       " 0.12011]"
      ]
     },
     "execution_count": 97,
     "metadata": {},
     "output_type": "execute_result"
    }
   ],
   "source": [
    "new_features_reduced"
   ]
  },
  {
   "cell_type": "code",
   "execution_count": 3,
   "metadata": {},
   "outputs": [],
   "source": [
    "features = atom_features(atom)"
   ]
  },
  {
   "cell_type": "code",
   "execution_count": 7,
   "metadata": {},
   "outputs": [
    {
     "data": {
      "text/plain": [
       "133"
      ]
     },
     "execution_count": 7,
     "metadata": {},
     "output_type": "execute_result"
    }
   ],
   "source": [
    "len(features)"
   ]
  },
  {
   "cell_type": "code",
   "execution_count": 6,
   "metadata": {},
   "outputs": [
    {
     "name": "stdout",
     "output_type": "stream",
     "text": [
      "[0,\n",
      " 0,\n",
      " 0,\n",
      " 0,\n",
      " 0,\n",
      " 1,\n",
      " 0,\n",
      " 0,\n",
      " 0,\n",
      " 0,\n",
      " 0,\n",
      " 0,\n",
      " 0,\n",
      " 0,\n",
      " 0,\n",
      " 0,\n",
      " 0,\n",
      " 0,\n",
      " 0,\n",
      " 0,\n",
      " 0,\n",
      " 0,\n",
      " 0,\n",
      " 0,\n",
      " 0,\n",
      " 0,\n",
      " 0,\n",
      " 0,\n",
      " 0,\n",
      " 0,\n",
      " 0,\n",
      " 0,\n",
      " 0,\n",
      " 0,\n",
      " 0,\n",
      " 0,\n",
      " 0,\n",
      " 0,\n",
      " 0,\n",
      " 0,\n",
      " 0,\n",
      " 0,\n",
      " 0,\n",
      " 0,\n",
      " 0,\n",
      " 0,\n",
      " 0,\n",
      " 0,\n",
      " 0,\n",
      " 0,\n",
      " 0,\n",
      " 0,\n",
      " 0,\n",
      " 0,\n",
      " 0,\n",
      " 0,\n",
      " 0,\n",
      " 0,\n",
      " 0,\n",
      " 0,\n",
      " 0,\n",
      " 0,\n",
      " 0,\n",
      " 0,\n",
      " 0,\n",
      " 0,\n",
      " 0,\n",
      " 0,\n",
      " 0,\n",
      " 0,\n",
      " 0,\n",
      " 0,\n",
      " 0,\n",
      " 0,\n",
      " 0,\n",
      " 0,\n",
      " 0,\n",
      " 0,\n",
      " 0,\n",
      " 0,\n",
      " 0,\n",
      " 0,\n",
      " 0,\n",
      " 0,\n",
      " 0,\n",
      " 0,\n",
      " 0,\n",
      " 0,\n",
      " 0,\n",
      " 0,\n",
      " 0,\n",
      " 0,\n",
      " 0,\n",
      " 0,\n",
      " 0,\n",
      " 0,\n",
      " 0,\n",
      " 0,\n",
      " 0,\n",
      " 0,\n",
      " 0,\n",
      " 0,\n",
      " 0,\n",
      " 0,\n",
      " 0,\n",
      " 1,\n",
      " 0,\n",
      " 0,\n",
      " 0,\n",
      " 0,\n",
      " 0,\n",
      " 0,\n",
      " 1,\n",
      " 0,\n",
      " 1,\n",
      " 0,\n",
      " 0,\n",
      " 0,\n",
      " 0,\n",
      " 0,\n",
      " 0,\n",
      " 0,\n",
      " 1,\n",
      " 0,\n",
      " 0,\n",
      " 0,\n",
      " 0,\n",
      " 1,\n",
      " 0,\n",
      " 0,\n",
      " 0,\n",
      " 0,\n",
      " 0.12011]\n"
     ]
    }
   ],
   "source": [
    "pprint(features)"
   ]
  },
  {
   "cell_type": "code",
   "execution_count": 9,
   "metadata": {},
   "outputs": [],
   "source": [
    "import pandas as pd"
   ]
  },
  {
   "cell_type": "code",
   "execution_count": 12,
   "metadata": {},
   "outputs": [],
   "source": [
    "atom_features= pd.read_csv(\"atom_types_hc.csv\").values[:, 1:]"
   ]
  },
  {
   "cell_type": "code",
   "execution_count": 13,
   "metadata": {},
   "outputs": [
    {
     "data": {
      "text/plain": [
       "9"
      ]
     },
     "execution_count": 13,
     "metadata": {},
     "output_type": "execute_result"
    }
   ],
   "source": [
    "int(atom_features.shape[0]-1)"
   ]
  },
  {
   "cell_type": "code",
   "execution_count": 15,
   "metadata": {},
   "outputs": [
    {
     "data": {
      "text/plain": [
       "[9, 9, 9, 9, 9, 9, 9, 9, 9, 9, 9, 9, 9, 9, 9, 9, 9, 9, 9, 9]"
      ]
     },
     "execution_count": 15,
     "metadata": {},
     "output_type": "execute_result"
    }
   ],
   "source": [
    "[9] * 20"
   ]
  },
  {
   "cell_type": "code",
   "execution_count": 21,
   "metadata": {},
   "outputs": [],
   "source": [
    "bond_list = []\n",
    "for i in range(5):\n",
    "    for k in range(3):\n",
    "        if i == k:\n",
    "            bond_list.append(k)"
   ]
  },
  {
   "cell_type": "code",
   "execution_count": 22,
   "metadata": {},
   "outputs": [
    {
     "data": {
      "text/plain": [
       "[0, 1, 2]"
      ]
     },
     "execution_count": 22,
     "metadata": {},
     "output_type": "execute_result"
    }
   ],
   "source": [
    "bond_list"
   ]
  },
  {
   "cell_type": "code",
   "execution_count": 20,
   "metadata": {},
   "outputs": [
    {
     "data": {
      "text/plain": [
       "array([[0, 1, 2, 0, 1, 2, 0, 1, 2, 0, 1, 2, 0, 1, 2]])"
      ]
     },
     "execution_count": 20,
     "metadata": {},
     "output_type": "execute_result"
    }
   ],
   "source": [
    "np.array(bond_list).reshape(1, -1)"
   ]
  },
  {
   "cell_type": "code",
   "execution_count": 83,
   "metadata": {},
   "outputs": [
    {
     "name": "stdout",
     "output_type": "stream",
     "text": [
      "SHAP values: [[ 10. -15.   0.   0.   0.]\n",
      " [  5.  -3.   0.   0.   0.]]\n"
     ]
    }
   ],
   "source": [
    "import numpy as np\n",
    "from shap import links, PermutationExplainer\n",
    "from copy import deepcopy\n",
    "\n",
    "# Simple binary masker function\n",
    "def binary_masker(binary_mask, x):\n",
    "    masked_x = deepcopy(x)\n",
    "    masked_x[binary_mask == 0] = 0\n",
    "    return np.array([masked_x])\n",
    "\n",
    "# Dummy model for illustration purposes\n",
    "class DummyModel:\n",
    "    def __call__(self, data):\n",
    "        # Simple model that sums the input data and times the fisrt element by 2\n",
    "        # return np.sum(data, axis=1, keepdims=True) + data[:, 0:1] * 2\n",
    "        return data[:, 0:1] * 5 + data[:, 1:2] * 3\n",
    "\n",
    "# Create the dummy model\n",
    "model = DummyModel()\n",
    "\n",
    "# Create the PermutationExplainer\n",
    "explainer = PermutationExplainer(model=model, masker=binary_masker)\n",
    "\n",
    "# Generate an example input to explain\n",
    "example_input = np.array([[2, -5, 0, 1, 1], [1, -1, 0, 3, 4]])\n",
    "\n",
    "# Explain the example input\n",
    "# explanation = explainer(np.array([example_input]), max_evals=200)\n",
    "explanation = explainer(example_input, max_evals=200)\n",
    "\n",
    "\n",
    "print(\"SHAP values:\", explanation.values)\n"
   ]
  },
  {
   "cell_type": "code",
   "execution_count": 112,
   "metadata": {},
   "outputs": [
    {
     "data": {
      "text/plain": [
       "array([[-5],\n",
       "       [ 2]])"
      ]
     },
     "execution_count": 112,
     "metadata": {},
     "output_type": "execute_result"
    }
   ],
   "source": [
    "DummyModel()(np.array([[2, -5, 0, 1, 1], [1, -1, 0, 3, 4]]))"
   ]
  },
  {
   "cell_type": "code",
   "execution_count": 81,
   "metadata": {},
   "outputs": [
    {
     "data": {
      "text/plain": [
       "array([[[ 2, -5,  0,  1,  1],\n",
       "        [ 1, -1,  0,  3,  4]]])"
      ]
     },
     "execution_count": 81,
     "metadata": {},
     "output_type": "execute_result"
    }
   ],
   "source": [
    "np.array([example_input])"
   ]
  },
  {
   "cell_type": "code",
   "execution_count": 63,
   "metadata": {},
   "outputs": [
    {
     "data": {
      "text/plain": [
       "array([[ 2, -5,  0,  1,  1]])"
      ]
     },
     "execution_count": 63,
     "metadata": {},
     "output_type": "execute_result"
    }
   ],
   "source": [
    "np.array([example_input])"
   ]
  },
  {
   "cell_type": "code",
   "execution_count": 69,
   "metadata": {},
   "outputs": [
    {
     "data": {
      "text/plain": [
       "array([[ 2, -5,  0,  1,  1],\n",
       "       [ 1, -1,  0,  3,  4]])"
      ]
     },
     "execution_count": 69,
     "metadata": {},
     "output_type": "execute_result"
    }
   ],
   "source": [
    "example_input"
   ]
  },
  {
   "cell_type": "code",
   "execution_count": 72,
   "metadata": {},
   "outputs": [
    {
     "data": {
      "text/plain": [
       "(2, 5)"
      ]
     },
     "execution_count": 72,
     "metadata": {},
     "output_type": "execute_result"
    }
   ],
   "source": [
    "example_input.shape"
   ]
  },
  {
   "cell_type": "code",
   "execution_count": 74,
   "metadata": {},
   "outputs": [
    {
     "data": {
      "text/plain": [
       "(5,)"
      ]
     },
     "execution_count": 74,
     "metadata": {},
     "output_type": "execute_result"
    }
   ],
   "source": [
    "np.array([2, -5, 0, 1, 1]).shape"
   ]
  },
  {
   "cell_type": "code",
   "execution_count": 76,
   "metadata": {},
   "outputs": [
    {
     "data": {
      "text/plain": [
       "(1, 5)"
      ]
     },
     "execution_count": 76,
     "metadata": {},
     "output_type": "execute_result"
    }
   ],
   "source": [
    "np.array([np.array([2, -5, 0, 1, 1])]).shape"
   ]
  },
  {
   "cell_type": "code",
   "execution_count": 106,
   "metadata": {},
   "outputs": [],
   "source": [
    "# test mask out extra features\n",
    "def mask_atom_features_extra(atom_features_extra: np.ndarray, keep_features: List[bool]) -> np.ndarray:\n",
    "    \"\"\"\n",
    "    Masks certain features in atom_features_extra based on the keep_features boolean vector.\n",
    "\n",
    "    :param atom_features_extra: A 2D numpy array with shape (num_atoms, feature_length) where feature_length is a multiple of 50.\n",
    "    :param keep_features: A boolean vector indicating which features to keep. Each feature has a length of 50.\n",
    "    :return: A masked 2D numpy array with the same shape as atom_features_extra.\n",
    "    \"\"\"\n",
    "    num_atoms, feature_length = atom_features_extra.shape\n",
    "    num_features = feature_length // 50  # Each feature has length 50\n",
    "\n",
    "    if len(keep_features) != num_features:\n",
    "        raise ValueError(\"Length of keep_features does not match the number of features in atom_features_extra.\")\n",
    "\n",
    "    # Create a mask to apply to atom_features_extra\n",
    "    mask = np.ones_like(atom_features_extra)\n",
    "\n",
    "    for i, keep in enumerate(keep_features):\n",
    "        if not keep:\n",
    "            mask[:, i*50:(i+1)*50] = 0\n",
    "\n",
    "    # Apply the mask to atom_features_extra\n",
    "    masked_features = atom_features_extra * mask\n",
    "\n",
    "    return masked_features"
   ]
  },
  {
   "cell_type": "code",
   "execution_count": 118,
   "metadata": {},
   "outputs": [
    {
     "ename": "TypeError",
     "evalue": "'numpy.float64' object cannot be interpreted as an integer",
     "output_type": "error",
     "traceback": [
      "\u001b[0;31m---------------------------------------------------------------------------\u001b[0m",
      "\u001b[0;31mTypeError\u001b[0m                                 Traceback (most recent call last)",
      "Cell \u001b[0;32mIn[118], line 62\u001b[0m\n\u001b[1;32m     59\u001b[0m example_input \u001b[38;5;241m=\u001b[39m np\u001b[38;5;241m.\u001b[39marray(smiles_list)\n\u001b[1;32m     61\u001b[0m \u001b[38;5;66;03m# Explain the example input\u001b[39;00m\n\u001b[0;32m---> 62\u001b[0m explanation \u001b[38;5;241m=\u001b[39m \u001b[43mexplainer\u001b[49m\u001b[43m(\u001b[49m\u001b[43mexample_input\u001b[49m\u001b[43m,\u001b[49m\u001b[43m \u001b[49m\u001b[43mmax_evals\u001b[49m\u001b[38;5;241;43m=\u001b[39;49m\u001b[38;5;241;43m200\u001b[39;49m\u001b[43m)\u001b[49m\n\u001b[1;32m     64\u001b[0m \u001b[38;5;28mprint\u001b[39m(\u001b[38;5;124m\"\u001b[39m\u001b[38;5;124mSHAP values:\u001b[39m\u001b[38;5;124m\"\u001b[39m, explanation\u001b[38;5;241m.\u001b[39mvalues)\n",
      "File \u001b[0;32m~/mambaforge/envs/chemprop/lib/python3.10/site-packages/shap/explainers/_permutation.py:77\u001b[0m, in \u001b[0;36mPermutationExplainer.__call__\u001b[0;34m(self, max_evals, main_effects, error_bounds, batch_size, outputs, silent, *args)\u001b[0m\n\u001b[1;32m     74\u001b[0m \u001b[38;5;28;01mdef\u001b[39;00m \u001b[38;5;21m__call__\u001b[39m(\u001b[38;5;28mself\u001b[39m, \u001b[38;5;241m*\u001b[39margs, max_evals\u001b[38;5;241m=\u001b[39m\u001b[38;5;241m500\u001b[39m, main_effects\u001b[38;5;241m=\u001b[39m\u001b[38;5;28;01mFalse\u001b[39;00m, error_bounds\u001b[38;5;241m=\u001b[39m\u001b[38;5;28;01mFalse\u001b[39;00m, batch_size\u001b[38;5;241m=\u001b[39m\u001b[38;5;124m\"\u001b[39m\u001b[38;5;124mauto\u001b[39m\u001b[38;5;124m\"\u001b[39m,\n\u001b[1;32m     75\u001b[0m              outputs\u001b[38;5;241m=\u001b[39m\u001b[38;5;28;01mNone\u001b[39;00m, silent\u001b[38;5;241m=\u001b[39m\u001b[38;5;28;01mFalse\u001b[39;00m):\n\u001b[1;32m     76\u001b[0m \u001b[38;5;250m    \u001b[39m\u001b[38;5;124;03m\"\"\"Explain the output of the model on the given arguments.\"\"\"\u001b[39;00m\n\u001b[0;32m---> 77\u001b[0m     \u001b[38;5;28;01mreturn\u001b[39;00m \u001b[38;5;28;43msuper\u001b[39;49m\u001b[43m(\u001b[49m\u001b[43m)\u001b[49m\u001b[38;5;241;43m.\u001b[39;49m\u001b[38;5;21;43m__call__\u001b[39;49m\u001b[43m(\u001b[49m\n\u001b[1;32m     78\u001b[0m \u001b[43m        \u001b[49m\u001b[38;5;241;43m*\u001b[39;49m\u001b[43margs\u001b[49m\u001b[43m,\u001b[49m\u001b[43m \u001b[49m\u001b[43mmax_evals\u001b[49m\u001b[38;5;241;43m=\u001b[39;49m\u001b[43mmax_evals\u001b[49m\u001b[43m,\u001b[49m\u001b[43m \u001b[49m\u001b[43mmain_effects\u001b[49m\u001b[38;5;241;43m=\u001b[39;49m\u001b[43mmain_effects\u001b[49m\u001b[43m,\u001b[49m\u001b[43m \u001b[49m\u001b[43merror_bounds\u001b[49m\u001b[38;5;241;43m=\u001b[39;49m\u001b[43merror_bounds\u001b[49m\u001b[43m,\u001b[49m\u001b[43m \u001b[49m\u001b[43mbatch_size\u001b[49m\u001b[38;5;241;43m=\u001b[39;49m\u001b[43mbatch_size\u001b[49m\u001b[43m,\u001b[49m\n\u001b[1;32m     79\u001b[0m \u001b[43m        \u001b[49m\u001b[43moutputs\u001b[49m\u001b[38;5;241;43m=\u001b[39;49m\u001b[43moutputs\u001b[49m\u001b[43m,\u001b[49m\u001b[43m \u001b[49m\u001b[43msilent\u001b[49m\u001b[38;5;241;43m=\u001b[39;49m\u001b[43msilent\u001b[49m\n\u001b[1;32m     80\u001b[0m \u001b[43m    \u001b[49m\u001b[43m)\u001b[49m\n",
      "File \u001b[0;32m~/mambaforge/envs/chemprop/lib/python3.10/site-packages/shap/explainers/_explainer.py:266\u001b[0m, in \u001b[0;36mExplainer.__call__\u001b[0;34m(self, max_evals, main_effects, error_bounds, batch_size, outputs, silent, *args, **kwargs)\u001b[0m\n\u001b[1;32m    264\u001b[0m     feature_names \u001b[38;5;241m=\u001b[39m [[] \u001b[38;5;28;01mfor\u001b[39;00m _ \u001b[38;5;129;01min\u001b[39;00m \u001b[38;5;28mrange\u001b[39m(\u001b[38;5;28mlen\u001b[39m(args))]\n\u001b[1;32m    265\u001b[0m \u001b[38;5;28;01mfor\u001b[39;00m row_args \u001b[38;5;129;01min\u001b[39;00m show_progress(\u001b[38;5;28mzip\u001b[39m(\u001b[38;5;241m*\u001b[39margs), num_rows, \u001b[38;5;28mself\u001b[39m\u001b[38;5;241m.\u001b[39m\u001b[38;5;18m__class__\u001b[39m\u001b[38;5;241m.\u001b[39m\u001b[38;5;18m__name__\u001b[39m\u001b[38;5;241m+\u001b[39m\u001b[38;5;124m\"\u001b[39m\u001b[38;5;124m explainer\u001b[39m\u001b[38;5;124m\"\u001b[39m, silent):\n\u001b[0;32m--> 266\u001b[0m     row_result \u001b[38;5;241m=\u001b[39m \u001b[38;5;28;43mself\u001b[39;49m\u001b[38;5;241;43m.\u001b[39;49m\u001b[43mexplain_row\u001b[49m\u001b[43m(\u001b[49m\n\u001b[1;32m    267\u001b[0m \u001b[43m        \u001b[49m\u001b[38;5;241;43m*\u001b[39;49m\u001b[43mrow_args\u001b[49m\u001b[43m,\u001b[49m\u001b[43m \u001b[49m\u001b[43mmax_evals\u001b[49m\u001b[38;5;241;43m=\u001b[39;49m\u001b[43mmax_evals\u001b[49m\u001b[43m,\u001b[49m\u001b[43m \u001b[49m\u001b[43mmain_effects\u001b[49m\u001b[38;5;241;43m=\u001b[39;49m\u001b[43mmain_effects\u001b[49m\u001b[43m,\u001b[49m\u001b[43m \u001b[49m\u001b[43merror_bounds\u001b[49m\u001b[38;5;241;43m=\u001b[39;49m\u001b[43merror_bounds\u001b[49m\u001b[43m,\u001b[49m\n\u001b[1;32m    268\u001b[0m \u001b[43m        \u001b[49m\u001b[43mbatch_size\u001b[49m\u001b[38;5;241;43m=\u001b[39;49m\u001b[43mbatch_size\u001b[49m\u001b[43m,\u001b[49m\u001b[43m \u001b[49m\u001b[43moutputs\u001b[49m\u001b[38;5;241;43m=\u001b[39;49m\u001b[43moutputs\u001b[49m\u001b[43m,\u001b[49m\u001b[43m \u001b[49m\u001b[43msilent\u001b[49m\u001b[38;5;241;43m=\u001b[39;49m\u001b[43msilent\u001b[49m\u001b[43m,\u001b[49m\u001b[43m \u001b[49m\u001b[38;5;241;43m*\u001b[39;49m\u001b[38;5;241;43m*\u001b[39;49m\u001b[43mkwargs\u001b[49m\n\u001b[1;32m    269\u001b[0m \u001b[43m    \u001b[49m\u001b[43m)\u001b[49m\n\u001b[1;32m    270\u001b[0m     values\u001b[38;5;241m.\u001b[39mappend(row_result\u001b[38;5;241m.\u001b[39mget(\u001b[38;5;124m\"\u001b[39m\u001b[38;5;124mvalues\u001b[39m\u001b[38;5;124m\"\u001b[39m, \u001b[38;5;28;01mNone\u001b[39;00m))\n\u001b[1;32m    271\u001b[0m     output_indices\u001b[38;5;241m.\u001b[39mappend(row_result\u001b[38;5;241m.\u001b[39mget(\u001b[38;5;124m\"\u001b[39m\u001b[38;5;124moutput_indices\u001b[39m\u001b[38;5;124m\"\u001b[39m, \u001b[38;5;28;01mNone\u001b[39;00m))\n",
      "File \u001b[0;32m~/mambaforge/envs/chemprop/lib/python3.10/site-packages/shap/explainers/_permutation.py:103\u001b[0m, in \u001b[0;36mPermutationExplainer.explain_row\u001b[0;34m(self, max_evals, main_effects, error_bounds, batch_size, outputs, silent, *row_args)\u001b[0m\n\u001b[1;32m    101\u001b[0m \u001b[38;5;66;03m# loop over many permutations\u001b[39;00m\n\u001b[1;32m    102\u001b[0m inds \u001b[38;5;241m=\u001b[39m fm\u001b[38;5;241m.\u001b[39mvarying_inputs()\n\u001b[0;32m--> 103\u001b[0m inds_mask \u001b[38;5;241m=\u001b[39m np\u001b[38;5;241m.\u001b[39mzeros(\u001b[38;5;28;43mlen\u001b[39;49m\u001b[43m(\u001b[49m\u001b[43mfm\u001b[49m\u001b[43m)\u001b[49m, dtype\u001b[38;5;241m=\u001b[39m\u001b[38;5;28mbool\u001b[39m)\n\u001b[1;32m    104\u001b[0m inds_mask[inds] \u001b[38;5;241m=\u001b[39m \u001b[38;5;28;01mTrue\u001b[39;00m\n\u001b[1;32m    105\u001b[0m masks \u001b[38;5;241m=\u001b[39m np\u001b[38;5;241m.\u001b[39mzeros(\u001b[38;5;241m2\u001b[39m\u001b[38;5;241m*\u001b[39m\u001b[38;5;28mlen\u001b[39m(inds)\u001b[38;5;241m+\u001b[39m\u001b[38;5;241m1\u001b[39m, dtype\u001b[38;5;241m=\u001b[39m\u001b[38;5;28mint\u001b[39m)\n",
      "\u001b[0;31mTypeError\u001b[0m: 'numpy.float64' object cannot be interpreted as an integer"
     ]
    }
   ],
   "source": [
    "# Dummy TrainArgs class for illustration\n",
    "import sys\n",
    "sys.path.insert(0, '/home/oscarwu/code/chemprop_developing')\n",
    "from chemprop.args import TrainArgs\n",
    "\n",
    "# Example SHAP Analysis with MPN\n",
    "\n",
    "# Define the TrainArgs\n",
    "args = TrainArgs()\n",
    "\n",
    "# Create the MPN model\n",
    "from chemprop.models.mpn import MPN\n",
    "mpn_model = MPN(args)\n",
    "\n",
    "# Example molecule (SMILES string)\n",
    "smiles_list = ['CCO']\n",
    "\n",
    "# # Define a batch (list of lists of molecules)\n",
    "# batch = [[Chem.MolFromSmiles(smiles)] for smiles in smiles_list]\n",
    "\n",
    "# Define dummy features batch, atom descriptors batch, and bond descriptors batch\n",
    "features_batch = [np.random.rand(1, 100) for _ in range(len(smiles_list))]  # Example feature length of 100\n",
    "atom_descriptors_batch = [np.random.rand(1, 100) for _ in range(len(smiles_list))]\n",
    "bond_descriptors_batch = [np.random.rand(1, 50) for _ in range(len(smiles_list))]\n",
    "\n",
    "# Define keep_features batches\n",
    "extra_keep_features_batch = [[True] * 100 for _ in range(len(smiles_list))]  # Keep all features\n",
    "extra_atom_keep_descriptors_batch = [[True] * 100 for _ in range(len(smiles_list))]\n",
    "extra_bond_keep_descriptors_batch = [[True] * 50 for _ in range(len(smiles_list))]\n",
    "\n",
    "# Create a SHAP explainer\n",
    "def binary_masker(binary_mask, x):\n",
    "    masked_x = deepcopy(x)\n",
    "    masked_x[binary_mask == 0] = 0\n",
    "    return np.array([masked_x])\n",
    "\n",
    "# Define a wrapper for the model to match SHAP's expected input format\n",
    "class MPNWrapper:\n",
    "    def __init__(self, model):\n",
    "        self.model = model\n",
    "\n",
    "    def __call__(self, data):\n",
    "        # Convert data to the expected input format for the MPN model\n",
    "        batch = [[Chem.MolFromSmiles(smiles) for smiles in data]]\n",
    "        features_batch = [np.random.rand(1, 100) for _ in data]\n",
    "        output = self.model(batch, features_batch=features_batch, shap=True,\n",
    "                            extra_keep_features_batch=extra_keep_features_batch,\n",
    "                            extra_atom_keep_descriptors_batch=extra_atom_keep_descriptors_batch,\n",
    "                            extra_bond_keep_descriptors_batch=extra_bond_keep_descriptors_batch)\n",
    "        return output.detach().cpu().numpy()\n",
    "\n",
    "# Create the MPN wrapper\n",
    "model_wrapper = MPNWrapper(mpn_model)\n",
    "\n",
    "# Create the PermutationExplainer\n",
    "explainer = PermutationExplainer(model=model_wrapper, masker=binary_masker)\n",
    "\n",
    "# Generate example input to explain\n",
    "example_input = np.array(smiles_list)\n",
    "\n",
    "# Explain the example input\n",
    "explanation = explainer(example_input, max_evals=200)\n",
    "\n",
    "print(\"SHAP values:\", explanation.values)\n"
   ]
  },
  {
   "cell_type": "code",
   "execution_count": 117,
   "metadata": {},
   "outputs": [
    {
     "ename": "TypeError",
     "evalue": "MPN.forward() got an unexpected keyword argument 'shap'",
     "output_type": "error",
     "traceback": [
      "\u001b[0;31m---------------------------------------------------------------------------\u001b[0m",
      "\u001b[0;31mTypeError\u001b[0m                                 Traceback (most recent call last)",
      "Cell \u001b[0;32mIn[117], line 1\u001b[0m\n\u001b[0;32m----> 1\u001b[0m \u001b[43mMPNWrapper\u001b[49m\u001b[43m(\u001b[49m\u001b[43mmpn_model\u001b[49m\u001b[43m)\u001b[49m\u001b[43m(\u001b[49m\u001b[43msmiles_list\u001b[49m\u001b[43m)\u001b[49m\n",
      "Cell \u001b[0;32mIn[115], line 46\u001b[0m, in \u001b[0;36mMPNWrapper.__call__\u001b[0;34m(self, data)\u001b[0m\n\u001b[1;32m     44\u001b[0m batch \u001b[38;5;241m=\u001b[39m [[Chem\u001b[38;5;241m.\u001b[39mMolFromSmiles(smiles) \u001b[38;5;28;01mfor\u001b[39;00m smiles \u001b[38;5;129;01min\u001b[39;00m data]]\n\u001b[1;32m     45\u001b[0m features_batch \u001b[38;5;241m=\u001b[39m [np\u001b[38;5;241m.\u001b[39mrandom\u001b[38;5;241m.\u001b[39mrand(\u001b[38;5;241m1\u001b[39m, \u001b[38;5;241m100\u001b[39m) \u001b[38;5;28;01mfor\u001b[39;00m _ \u001b[38;5;129;01min\u001b[39;00m data]\n\u001b[0;32m---> 46\u001b[0m output \u001b[38;5;241m=\u001b[39m \u001b[38;5;28;43mself\u001b[39;49m\u001b[38;5;241;43m.\u001b[39;49m\u001b[43mmodel\u001b[49m\u001b[43m(\u001b[49m\u001b[43mbatch\u001b[49m\u001b[43m,\u001b[49m\u001b[43m \u001b[49m\u001b[43mfeatures_batch\u001b[49m\u001b[38;5;241;43m=\u001b[39;49m\u001b[43mfeatures_batch\u001b[49m\u001b[43m,\u001b[49m\u001b[43m \u001b[49m\u001b[43mshap\u001b[49m\u001b[38;5;241;43m=\u001b[39;49m\u001b[38;5;28;43;01mTrue\u001b[39;49;00m\u001b[43m,\u001b[49m\n\u001b[1;32m     47\u001b[0m \u001b[43m                    \u001b[49m\u001b[43mextra_keep_features_batch\u001b[49m\u001b[38;5;241;43m=\u001b[39;49m\u001b[43mextra_keep_features_batch\u001b[49m\u001b[43m,\u001b[49m\n\u001b[1;32m     48\u001b[0m \u001b[43m                    \u001b[49m\u001b[43mextra_atom_keep_descriptors_batch\u001b[49m\u001b[38;5;241;43m=\u001b[39;49m\u001b[43mextra_atom_keep_descriptors_batch\u001b[49m\u001b[43m,\u001b[49m\n\u001b[1;32m     49\u001b[0m \u001b[43m                    \u001b[49m\u001b[43mextra_bond_keep_descriptors_batch\u001b[49m\u001b[38;5;241;43m=\u001b[39;49m\u001b[43mextra_bond_keep_descriptors_batch\u001b[49m\u001b[43m)\u001b[49m\n\u001b[1;32m     50\u001b[0m \u001b[38;5;28;01mreturn\u001b[39;00m output\u001b[38;5;241m.\u001b[39mdetach()\u001b[38;5;241m.\u001b[39mnumpy()\n",
      "File \u001b[0;32m~/mambaforge/envs/chemprop/lib/python3.10/site-packages/torch/nn/modules/module.py:1194\u001b[0m, in \u001b[0;36mModule._call_impl\u001b[0;34m(self, *input, **kwargs)\u001b[0m\n\u001b[1;32m   1190\u001b[0m \u001b[38;5;66;03m# If we don't have any hooks, we want to skip the rest of the logic in\u001b[39;00m\n\u001b[1;32m   1191\u001b[0m \u001b[38;5;66;03m# this function, and just call forward.\u001b[39;00m\n\u001b[1;32m   1192\u001b[0m \u001b[38;5;28;01mif\u001b[39;00m \u001b[38;5;129;01mnot\u001b[39;00m (\u001b[38;5;28mself\u001b[39m\u001b[38;5;241m.\u001b[39m_backward_hooks \u001b[38;5;129;01mor\u001b[39;00m \u001b[38;5;28mself\u001b[39m\u001b[38;5;241m.\u001b[39m_forward_hooks \u001b[38;5;129;01mor\u001b[39;00m \u001b[38;5;28mself\u001b[39m\u001b[38;5;241m.\u001b[39m_forward_pre_hooks \u001b[38;5;129;01mor\u001b[39;00m _global_backward_hooks\n\u001b[1;32m   1193\u001b[0m         \u001b[38;5;129;01mor\u001b[39;00m _global_forward_hooks \u001b[38;5;129;01mor\u001b[39;00m _global_forward_pre_hooks):\n\u001b[0;32m-> 1194\u001b[0m     \u001b[38;5;28;01mreturn\u001b[39;00m \u001b[43mforward_call\u001b[49m\u001b[43m(\u001b[49m\u001b[38;5;241;43m*\u001b[39;49m\u001b[38;5;28;43minput\u001b[39;49m\u001b[43m,\u001b[49m\u001b[43m \u001b[49m\u001b[38;5;241;43m*\u001b[39;49m\u001b[38;5;241;43m*\u001b[39;49m\u001b[43mkwargs\u001b[49m\u001b[43m)\u001b[49m\n\u001b[1;32m   1195\u001b[0m \u001b[38;5;66;03m# Do not call functions when jit is used\u001b[39;00m\n\u001b[1;32m   1196\u001b[0m full_backward_hooks, non_full_backward_hooks \u001b[38;5;241m=\u001b[39m [], []\n",
      "\u001b[0;31mTypeError\u001b[0m: MPN.forward() got an unexpected keyword argument 'shap'"
     ]
    }
   ],
   "source": [
    "MPNWrapper(mpn_model)(smiles_list)"
   ]
  },
  {
   "cell_type": "code",
   "execution_count": null,
   "metadata": {},
   "outputs": [],
   "source": []
  }
 ],
 "metadata": {
  "kernelspec": {
   "display_name": "chemprop",
   "language": "python",
   "name": "python3"
  },
  "language_info": {
   "codemirror_mode": {
    "name": "ipython",
    "version": 3
   },
   "file_extension": ".py",
   "mimetype": "text/x-python",
   "name": "python",
   "nbconvert_exporter": "python",
   "pygments_lexer": "ipython3",
   "version": "3.10.8"
  }
 },
 "nbformat": 4,
 "nbformat_minor": 2
}
