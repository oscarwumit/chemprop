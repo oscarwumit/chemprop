{
 "cells": [
  {
   "cell_type": "code",
   "execution_count": 1,
   "metadata": {},
   "outputs": [],
   "source": [
    "import sys\n",
    "sys.path.insert(0, '/home/oscarwu/code/chemprop_developing')\n",
    "\n",
    "import pickle as pkl\n",
    "import numpy as np\n",
    "import pandas as pd"
   ]
  },
  {
   "cell_type": "code",
   "execution_count": 2,
   "metadata": {},
   "outputs": [
    {
     "data": {
      "text/html": [
       "<div>\n",
       "<style scoped>\n",
       "    .dataframe tbody tr th:only-of-type {\n",
       "        vertical-align: middle;\n",
       "    }\n",
       "\n",
       "    .dataframe tbody tr th {\n",
       "        vertical-align: top;\n",
       "    }\n",
       "\n",
       "    .dataframe thead th {\n",
       "        text-align: right;\n",
       "    }\n",
       "</style>\n",
       "<table border=\"1\" class=\"dataframe\">\n",
       "  <thead>\n",
       "    <tr style=\"text-align: right;\">\n",
       "      <th></th>\n",
       "      <th>smiles</th>\n",
       "      <th>logSolubility</th>\n",
       "    </tr>\n",
       "  </thead>\n",
       "  <tbody>\n",
       "    <tr>\n",
       "      <th>7</th>\n",
       "      <td>CC#N</td>\n",
       "      <td>0.26</td>\n",
       "    </tr>\n",
       "  </tbody>\n",
       "</table>\n",
       "</div>"
      ],
      "text/plain": [
       "  smiles  logSolubility\n",
       "7   CC#N           0.26"
      ]
     },
     "execution_count": 2,
     "metadata": {},
     "output_type": "execute_result"
    }
   ],
   "source": [
    "# load an example\n",
    "df_smi = pd.read_csv('esol.csv')\n",
    "df_smi.iloc[[7]]"
   ]
  },
  {
   "cell_type": "code",
   "execution_count": 3,
   "metadata": {},
   "outputs": [],
   "source": [
    "smiles = df_smi.iloc[[7]]['smiles'].values.tolist()"
   ]
  },
  {
   "cell_type": "code",
   "execution_count": 4,
   "metadata": {},
   "outputs": [
    {
     "data": {
      "text/plain": [
       "['CC#N']"
      ]
     },
     "execution_count": 4,
     "metadata": {},
     "output_type": "execute_result"
    }
   ],
   "source": [
    "smiles"
   ]
  },
  {
   "cell_type": "code",
   "execution_count": 5,
   "metadata": {},
   "outputs": [],
   "source": [
    "from chemprop.features.utils import load_features, load_valid_atom_or_bond_features\n",
    "from chemprop.models.mpn import mask_features_extra_batch, mask_features_extra"
   ]
  },
  {
   "cell_type": "code",
   "execution_count": 6,
   "metadata": {},
   "outputs": [],
   "source": [
    "bond_features = [load_valid_atom_or_bond_features('esol_wb97xd_bond_RBF_features.pkl', smiles)[7]]"
   ]
  },
  {
   "cell_type": "code",
   "execution_count": 7,
   "metadata": {},
   "outputs": [],
   "source": [
    "atom_descriptors = [load_valid_atom_or_bond_features('esol_wb97xd_atom_RBF_features.pkl', smiles)[7]]"
   ]
  },
  {
   "cell_type": "code",
   "execution_count": 8,
   "metadata": {},
   "outputs": [],
   "source": [
    "mol_features = [load_features(\"esol_wb97xd_molecule_features.csv\")[7].reshape(1, -1)]"
   ]
  },
  {
   "cell_type": "code",
   "execution_count": 9,
   "metadata": {},
   "outputs": [
    {
     "name": "stdout",
     "output_type": "stream",
     "text": [
      "Loading pretrained parameter \"encoder.encoder.0.cached_zero_vector\".\n",
      "Loading pretrained parameter \"encoder.encoder.0.W_i.weight\".\n",
      "Loading pretrained parameter \"encoder.encoder.0.W_h.weight\".\n",
      "Loading pretrained parameter \"encoder.encoder.0.W_o.weight\".\n",
      "Loading pretrained parameter \"encoder.encoder.0.W_o.bias\".\n",
      "Loading pretrained parameter \"encoder.encoder.0.atom_descriptors_layer.weight\".\n",
      "Loading pretrained parameter \"encoder.encoder.0.atom_descriptors_layer.bias\".\n",
      "Loading pretrained parameter \"readout.1.weight\".\n",
      "Loading pretrained parameter \"readout.1.bias\".\n",
      "Loading pretrained parameter \"readout.4.weight\".\n",
      "Loading pretrained parameter \"readout.4.bias\".\n",
      "Loading pretrained parameter \"readout.7.weight\".\n",
      "Loading pretrained parameter \"readout.7.bias\".\n"
     ]
    }
   ],
   "source": [
    "# Example SHAP Analysis\n",
    "# Imports\n",
    "from chemprop.args import TrainArgs\n",
    "from chemprop.models.model import MoleculeModel\n",
    "\n",
    "import torch\n",
    "from chemprop.utils import load_checkpoint, load_scalers\n",
    "from chemprop.features import set_extra_bond_fdim\n",
    "\n",
    "from rdkit import Chem\n",
    "from chemprop.rdkit import make_mol\n",
    "\n",
    "# Load TrainArgs and MoleculeModel\n",
    "path = \"/home/oscarwu/code/chemprop_developing/developing/shap_v1/data/model.pt\"\n",
    "state = torch.load(path, map_location=lambda storage, loc: storage)\n",
    "train_args = TrainArgs()\n",
    "train_args.from_dict(vars(state[\"args\"]), skip_unsettable=True)\n",
    "set_extra_bond_fdim(train_args.bond_features_size)\n",
    "model = load_checkpoint(path)\n",
    "scalers = load_scalers(path)\n",
    "\n",
    "# Create a MoleculeModel Wrapper\n",
    "class MoleculeModelWrapper:\n",
    "    def __init__(self, model, train_args, scalers, smiles, shap, features_batch, \n",
    "                 atom_descriptors_batch, atom_features_batch, bond_descriptors_batch, bond_features_batch):\n",
    "        self.model = model\n",
    "        self.train_args = train_args\n",
    "        self.target_scaler, self.mol_feature_scaler, _, _, _ = scalers\n",
    "        self.smiles = smiles\n",
    "        self.shap = shap\n",
    "        if features_batch is not None:\n",
    "            self.features_batch = [self.mol_feature_scaler.transform(feat) for feat in features_batch]\n",
    "        else:\n",
    "            self.features_batch = None      \n",
    "        self.atom_descriptors_batch = atom_descriptors_batch\n",
    "        self.atom_features_batch = atom_features_batch\n",
    "        self.bond_descriptors_batch = bond_descriptors_batch\n",
    "        self.bond_features_batch = bond_features_batch\n",
    "        \n",
    "        self.batch = None\n",
    "        self.extra_keep_features_batch = None\n",
    "        self.extra_atom_keep_descriptors_batch = None\n",
    "        self.extra_bond_keep_descriptors_batch = None\n",
    "        self.extra_atom_keep_features_batch = None\n",
    "        self.extra_bond_keep_features_batch = None\n",
    "        self.chemprop_atom_keep_features = None\n",
    "        self.chemprop_bond_keep_features = None\n",
    "        \n",
    "\n",
    "    def __call__(self, feature_choices):\n",
    "        if isinstance(feature_choices, np.ndarray):\n",
    "            if len(feature_choices.shape) == 1:\n",
    "                feature_choices = feature_choices.reshape(1, -1)\n",
    "                \n",
    "        result = []\n",
    "        \n",
    "        for feature_choice in feature_choices:\n",
    "        \n",
    "            self.batch = [[make_mol(s=smi, keep_h=True, add_h=True, keep_atom_map=True)] for smi in self.smiles]\n",
    "            self.extra_keep_features_batch = [feature_choice[0:20]] # 20 extra molecular features\n",
    "            self.extra_atom_keep_descriptors_batch = [feature_choice[20:33]] # 13 atom descriptors\n",
    "            self.extra_bond_keep_descriptors_batch = None # 0 bond descriptors\n",
    "            self.extra_atom_keep_features_batch = None # 0 atom features\n",
    "            self.extra_bond_keep_features_batch = [feature_choice[33:37]] # 4 bond features\n",
    "            self.chemprop_atom_keep_features = feature_choice[37:45] # 8 chemprop atom features\n",
    "            self.chemprop_bond_keep_features = feature_choice[45:49] # 4 chemprop bond features\n",
    "            \n",
    "            # this is from forward in original MoleculeModel in model.py\n",
    "            output = self.model(batch=self.batch, \n",
    "                                features_batch=self.features_batch, \n",
    "                                atom_descriptors_batch=self.atom_descriptors_batch, \n",
    "                                atom_features_batch=self.atom_features_batch, \n",
    "                                bond_descriptors_batch=self.bond_descriptors_batch, \n",
    "                                bond_features_batch=self.bond_features_batch, \n",
    "                                constraints_batch=None,\n",
    "                                bond_types_batch=None,\n",
    "                                shap=self.shap, \n",
    "                                extra_keep_features_batch=self.extra_keep_features_batch, \n",
    "                                extra_atom_keep_descriptors_batch=self.extra_atom_keep_descriptors_batch, \n",
    "                                extra_bond_keep_descriptors_batch=self.extra_bond_keep_descriptors_batch, \n",
    "                                extra_atom_keep_features_batch=self.extra_atom_keep_features_batch, \n",
    "                                extra_bond_keep_features_batch=self.extra_bond_keep_features_batch, \n",
    "                                chemprop_atom_keep_features=self.chemprop_atom_keep_features, \n",
    "                                chemprop_bond_keep_features=self.chemprop_bond_keep_features)\n",
    "        \n",
    "            xform = self.target_scaler.inverse_transform(output.item()).item()\n",
    "            xform = np.array(xform, ndmin=2)\n",
    "            result.append(xform)\n",
    "        \n",
    "        return np.array(result).reshape(len(feature_choices), -1)\n",
    "        "
   ]
  },
  {
   "cell_type": "code",
   "execution_count": 10,
   "metadata": {},
   "outputs": [],
   "source": [
    "model_wrapper = MoleculeModelWrapper(model=model.eval(), \n",
    "                                     train_args=train_args, \n",
    "                                     scalers=scalers, \n",
    "                                     smiles=smiles, \n",
    "                                     shap=True, \n",
    "                                     features_batch=mol_features, \n",
    "                                     atom_descriptors_batch=atom_descriptors, \n",
    "                                     atom_features_batch=None, \n",
    "                                     bond_descriptors_batch=None, \n",
    "                                     bond_features_batch=bond_features)"
   ]
  },
  {
   "cell_type": "code",
   "execution_count": 11,
   "metadata": {},
   "outputs": [
    {
     "name": "stderr",
     "output_type": "stream",
     "text": [
      "IProgress not found. Please update jupyter and ipywidgets. See https://ipywidgets.readthedocs.io/en/stable/user_install.html\n"
     ]
    }
   ],
   "source": [
    "# SHAP\n",
    "from shap import PermutationExplainer\n",
    "from copy import deepcopy\n",
    "\n",
    "def binary_masker(binary_mask, x):\n",
    "    masked_x = deepcopy(x)\n",
    "    masked_x[binary_mask == 0] = 0\n",
    "    return np.array([masked_x])"
   ]
  },
  {
   "cell_type": "code",
   "execution_count": 12,
   "metadata": {},
   "outputs": [],
   "source": [
    "explainer = PermutationExplainer(model=model_wrapper, masker=binary_masker)"
   ]
  },
  {
   "cell_type": "code",
   "execution_count": 13,
   "metadata": {},
   "outputs": [],
   "source": [
    "feature_choice = np.array([[1]*49])"
   ]
  },
  {
   "cell_type": "code",
   "execution_count": 14,
   "metadata": {},
   "outputs": [],
   "source": [
    "explanation = explainer(feature_choice, max_evals=100)"
   ]
  },
  {
   "cell_type": "code",
   "execution_count": 15,
   "metadata": {},
   "outputs": [
    {
     "data": {
      "text/plain": [
       ".values =\n",
       "array([[-1.43640646e-01, -6.84858612e-02,  2.85901953e-02,\n",
       "         1.96509833e-02,  8.47005351e-02,  9.23541205e-02,\n",
       "         5.97737337e-02,  7.33205969e-02,  9.52663719e-02,\n",
       "         1.73071858e-02,  1.01696825e-01,  1.56419227e-01,\n",
       "         7.58900558e-02,  1.34595440e-01,  1.37718379e-01,\n",
       "         1.20293876e-01,  2.19930482e-02,  1.14377117e-01,\n",
       "         1.43023928e-01, -6.24533316e-02,  4.34926978e-02,\n",
       "         5.31633450e-02,  2.57224946e-02,  2.97803444e-01,\n",
       "         2.05844927e-01,  2.52376350e-02,  4.09241053e-03,\n",
       "         1.12925137e-01,  2.10068700e-04,  6.32235629e-02,\n",
       "         2.59969761e-02,  8.41512317e-03,  2.53351515e-02,\n",
       "        -1.21231080e-01,  1.36803110e-01, -7.95359079e-03,\n",
       "         4.99466642e-02,  6.72860874e-02,  6.18939734e-02,\n",
       "         2.60776004e-02,  5.55812698e-03,  1.10736833e-02,\n",
       "        -7.45870730e-03,  0.00000000e+00, -8.50917455e-04,\n",
       "        -6.96938026e-02,  0.00000000e+00,  0.00000000e+00,\n",
       "         1.61033282e-02]])\n",
       "\n",
       ".base_values =\n",
       "array([[-2.13154999]])\n",
       "\n",
       ".data =\n",
       "array([[1, 1, 1, 1, 1, 1, 1, 1, 1, 1, 1, 1, 1, 1, 1, 1, 1, 1, 1, 1, 1, 1,\n",
       "        1, 1, 1, 1, 1, 1, 1, 1, 1, 1, 1, 1, 1, 1, 1, 1, 1, 1, 1, 1, 1, 1,\n",
       "        1, 1, 1, 1, 1]])"
      ]
     },
     "execution_count": 15,
     "metadata": {},
     "output_type": "execute_result"
    }
   ],
   "source": [
    "explanation"
   ]
  },
  {
   "cell_type": "code",
   "execution_count": null,
   "metadata": {},
   "outputs": [],
   "source": []
  }
 ],
 "metadata": {
  "language_info": {
   "name": "python"
  }
 },
 "nbformat": 4,
 "nbformat_minor": 2
}
