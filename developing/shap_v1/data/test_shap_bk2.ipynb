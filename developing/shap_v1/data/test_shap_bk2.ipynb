{
 "cells": [
  {
   "cell_type": "code",
   "execution_count": 1,
   "metadata": {},
   "outputs": [],
   "source": [
    "import sys\n",
    "sys.path.insert(0, '/home/oscarwu/code/chemprop_developing')\n",
    "\n",
    "import pickle as pkl\n",
    "import numpy as np\n",
    "import pandas as pd"
   ]
  },
  {
   "cell_type": "code",
   "execution_count": 2,
   "metadata": {},
   "outputs": [
    {
     "data": {
      "text/html": [
       "<div>\n",
       "<style scoped>\n",
       "    .dataframe tbody tr th:only-of-type {\n",
       "        vertical-align: middle;\n",
       "    }\n",
       "\n",
       "    .dataframe tbody tr th {\n",
       "        vertical-align: top;\n",
       "    }\n",
       "\n",
       "    .dataframe thead th {\n",
       "        text-align: right;\n",
       "    }\n",
       "</style>\n",
       "<table border=\"1\" class=\"dataframe\">\n",
       "  <thead>\n",
       "    <tr style=\"text-align: right;\">\n",
       "      <th></th>\n",
       "      <th>smiles</th>\n",
       "      <th>logSolubility</th>\n",
       "    </tr>\n",
       "  </thead>\n",
       "  <tbody>\n",
       "    <tr>\n",
       "      <th>7</th>\n",
       "      <td>CC#N</td>\n",
       "      <td>0.26</td>\n",
       "    </tr>\n",
       "  </tbody>\n",
       "</table>\n",
       "</div>"
      ],
      "text/plain": [
       "  smiles  logSolubility\n",
       "7   CC#N           0.26"
      ]
     },
     "execution_count": 2,
     "metadata": {},
     "output_type": "execute_result"
    }
   ],
   "source": [
    "# load an example\n",
    "df_smi = pd.read_csv('esol.csv')\n",
    "df_smi.iloc[[7]]"
   ]
  },
  {
   "cell_type": "code",
   "execution_count": 3,
   "metadata": {},
   "outputs": [],
   "source": [
    "smiles = df_smi.iloc[[7]]['smiles'].values.tolist()"
   ]
  },
  {
   "cell_type": "code",
   "execution_count": 4,
   "metadata": {},
   "outputs": [
    {
     "data": {
      "text/plain": [
       "['CC#N']"
      ]
     },
     "execution_count": 4,
     "metadata": {},
     "output_type": "execute_result"
    }
   ],
   "source": [
    "smiles"
   ]
  },
  {
   "cell_type": "code",
   "execution_count": 7,
   "metadata": {},
   "outputs": [],
   "source": [
    "from chemprop.features.utils import load_features, load_valid_atom_or_bond_features\n",
    "from chemprop.models.mpn import mask_features_extra_batch, mask_features_extra"
   ]
  },
  {
   "cell_type": "code",
   "execution_count": 8,
   "metadata": {},
   "outputs": [],
   "source": [
    "bond_features = [load_valid_atom_or_bond_features('esol_wb97xd_bond_RBF_features.pkl', smiles)[7]]"
   ]
  },
  {
   "cell_type": "code",
   "execution_count": 9,
   "metadata": {},
   "outputs": [],
   "source": [
    "atom_descriptors = [load_valid_atom_or_bond_features('esol_wb97xd_atom_RBF_features.pkl', smiles)[7]]"
   ]
  },
  {
   "cell_type": "code",
   "execution_count": 10,
   "metadata": {},
   "outputs": [
    {
     "ename": "NameError",
     "evalue": "name 'atom_features' is not defined",
     "output_type": "error",
     "traceback": [
      "\u001b[0;31m---------------------------------------------------------------------------\u001b[0m",
      "\u001b[0;31mNameError\u001b[0m                                 Traceback (most recent call last)",
      "\u001b[1;32m/home/oscarwu/code/chemprop_developing/developing/shap_v1/data/test_shap.ipynb Cell 8\u001b[0m line \u001b[0;36m1\n\u001b[0;32m----> <a href='vscode-notebook-cell://ssh-remote%2Bestes.mit.edu/home/oscarwu/code/chemprop_developing/developing/shap_v1/data/test_shap.ipynb#X36sdnNjb2RlLXJlbW90ZQ%3D%3D?line=0'>1</a>\u001b[0m atom_features[\u001b[39m0\u001b[39m]\u001b[39m.\u001b[39mshape\n",
      "\u001b[0;31mNameError\u001b[0m: name 'atom_features' is not defined"
     ]
    }
   ],
   "source": [
    "atom_features[0].shape"
   ]
  },
  {
   "cell_type": "code",
   "execution_count": null,
   "metadata": {},
   "outputs": [
    {
     "data": {
      "text/plain": [
       "[array([[2.55145405e-004, 1.30985746e-003, 5.61677873e-003, ...,\n",
       "         2.95654057e-106, 8.55867443e-111, 1.98831132e-115],\n",
       "        [1.90049994e-018, 8.02235393e-017, 2.82854289e-015, ...,\n",
       "         2.95654057e-106, 8.55867443e-111, 1.98831132e-115],\n",
       "        [3.69512701e-008, 4.04123296e-007, 3.69169145e-006, ...,\n",
       "         2.95654057e-106, 8.55867443e-111, 1.98831132e-115],\n",
       "        [2.03092857e-017, 7.65751884e-016, 2.41161786e-014, ...,\n",
       "         2.95654057e-106, 8.55867443e-111, 1.98831132e-115],\n",
       "        [2.03092857e-017, 7.65751884e-016, 2.41161786e-014, ...,\n",
       "         2.95654057e-106, 8.55867443e-111, 1.98831132e-115],\n",
       "        [2.03092857e-017, 7.65751884e-016, 2.41161786e-014, ...,\n",
       "         2.95654057e-106, 8.55867443e-111, 1.98831132e-115]])]"
      ]
     },
     "execution_count": 64,
     "metadata": {},
     "output_type": "execute_result"
    }
   ],
   "source": [
    "atom_features"
   ]
  },
  {
   "cell_type": "code",
   "execution_count": null,
   "metadata": {},
   "outputs": [
    {
     "data": {
      "text/plain": [
       "numpy.ndarray"
      ]
     },
     "execution_count": 80,
     "metadata": {},
     "output_type": "execute_result"
    }
   ],
   "source": [
    "type(atom_features[0])"
   ]
  },
  {
   "cell_type": "code",
   "execution_count": 11,
   "metadata": {},
   "outputs": [],
   "source": [
    "mol_features = load_features(\"esol_wb97xd_molecule_features.csv\")[7].reshape(1, -1)"
   ]
  },
  {
   "cell_type": "code",
   "execution_count": 12,
   "metadata": {},
   "outputs": [
    {
     "data": {
      "text/plain": [
       "(1, 20)"
      ]
     },
     "execution_count": 12,
     "metadata": {},
     "output_type": "execute_result"
    }
   ],
   "source": [
    "mol_features.shape"
   ]
  },
  {
   "cell_type": "code",
   "execution_count": 13,
   "metadata": {},
   "outputs": [
    {
     "data": {
      "text/plain": [
       "array([[ 0.67249   ,  0.6725    ,  0.68771   ,  0.76879   ,  0.56122   ,\n",
       "         0.56123   ,  0.57644   ,  0.65752   ,  0.53228   ,  0.53229   ,\n",
       "         0.5475    ,  0.62858   ,  0.53228   ,  0.53229   ,  0.5475    ,\n",
       "         0.62858   ,  0.45305768, -0.13823013,  3.8165    ,  2.179     ]])"
      ]
     },
     "execution_count": 13,
     "metadata": {},
     "output_type": "execute_result"
    }
   ],
   "source": [
    "mol_features"
   ]
  },
  {
   "cell_type": "code",
   "execution_count": 14,
   "metadata": {},
   "outputs": [
    {
     "data": {
      "text/plain": [
       "numpy.ndarray"
      ]
     },
     "execution_count": 14,
     "metadata": {},
     "output_type": "execute_result"
    }
   ],
   "source": [
    "type(mol_features)"
   ]
  },
  {
   "cell_type": "code",
   "execution_count": 15,
   "metadata": {},
   "outputs": [
    {
     "data": {
      "text/plain": [
       "array([[ 0.67249   ,  0.6725    ,  0.68771   ,  0.76879   ,  0.56122   ,\n",
       "         0.56123   ,  0.57644   ,  0.65752   ,  0.53228   ,  0.53229   ,\n",
       "         0.5475    ,  0.62858   ,  0.53228   ,  0.53229   ,  0.5475    ,\n",
       "         0.62858   ,  0.45305768, -0.13823013,  3.8165    ,  2.179     ]])"
      ]
     },
     "execution_count": 15,
     "metadata": {},
     "output_type": "execute_result"
    }
   ],
   "source": [
    "mol_features"
   ]
  },
  {
   "cell_type": "code",
   "execution_count": 16,
   "metadata": {},
   "outputs": [
    {
     "data": {
      "text/plain": [
       "[array([[ 0.67249   ,  0.6725    ,  0.68771   ,  0.76879   ,  0.56122   ,\n",
       "          0.56123   ,  0.57644   ,  0.65752   ,  0.53228   ,  0.53229   ,\n",
       "          0.5475    ,  0.62858   ,  0.53228   ,  0.53229   ,  0.5475    ,\n",
       "          0.62858   ,  0.45305768, -0.13823013,  3.8165    ,  2.179     ]])]"
      ]
     },
     "execution_count": 16,
     "metadata": {},
     "output_type": "execute_result"
    }
   ],
   "source": [
    "mask_features_extra_batch([mol_features], [[True]*20], feature_length=1)"
   ]
  },
  {
   "cell_type": "code",
   "execution_count": 17,
   "metadata": {},
   "outputs": [
    {
     "data": {
      "text/plain": [
       "[array([[ 0.,  0.,  0.,  0.,  0.,  0.,  0.,  0.,  0.,  0.,  0.,  0.,  0.,\n",
       "          0.,  0.,  0.,  0., -0.,  0.,  0.]])]"
      ]
     },
     "execution_count": 17,
     "metadata": {},
     "output_type": "execute_result"
    }
   ],
   "source": [
    "mask_features_extra_batch([mol_features], [[False]*20], feature_length=1)"
   ]
  },
  {
   "cell_type": "code",
   "execution_count": 18,
   "metadata": {},
   "outputs": [
    {
     "data": {
      "text/plain": [
       "[array([[ 0.67249,  0.     ,  0.     ,  0.     ,  0.     ,  0.     ,\n",
       "          0.     ,  0.     ,  0.     ,  0.     ,  0.     ,  0.     ,\n",
       "          0.     ,  0.     ,  0.     ,  0.     ,  0.     , -0.     ,\n",
       "          0.     ,  0.     ]])]"
      ]
     },
     "execution_count": 18,
     "metadata": {},
     "output_type": "execute_result"
    }
   ],
   "source": [
    "mask_features_extra_batch([mol_features], [[True] + [False]*19], feature_length=1)"
   ]
  },
  {
   "cell_type": "code",
   "execution_count": 19,
   "metadata": {},
   "outputs": [
    {
     "data": {
      "text/plain": [
       "[array([[ 0.        ,  0.6725    ,  0.68771   ,  0.76879   ,  0.56122   ,\n",
       "          0.56123   ,  0.57644   ,  0.65752   ,  0.53228   ,  0.53229   ,\n",
       "          0.5475    ,  0.62858   ,  0.53228   ,  0.53229   ,  0.5475    ,\n",
       "          0.62858   ,  0.45305768, -0.13823013,  3.8165    ,  2.179     ]])]"
      ]
     },
     "execution_count": 19,
     "metadata": {},
     "output_type": "execute_result"
    }
   ],
   "source": [
    "mask_features_extra_batch([mol_features], [[False] + [True]*19], feature_length=1)"
   ]
  },
  {
   "cell_type": "code",
   "execution_count": 23,
   "metadata": {},
   "outputs": [
    {
     "name": "stdout",
     "output_type": "stream",
     "text": [
      "Loading pretrained parameter \"encoder.encoder.0.cached_zero_vector\".\n",
      "Loading pretrained parameter \"encoder.encoder.0.W_i.weight\".\n",
      "Loading pretrained parameter \"encoder.encoder.0.W_h.weight\".\n",
      "Loading pretrained parameter \"encoder.encoder.0.W_o.weight\".\n",
      "Loading pretrained parameter \"encoder.encoder.0.W_o.bias\".\n",
      "Loading pretrained parameter \"encoder.encoder.0.atom_descriptors_layer.weight\".\n",
      "Loading pretrained parameter \"encoder.encoder.0.atom_descriptors_layer.bias\".\n",
      "Loading pretrained parameter \"readout.1.weight\".\n",
      "Loading pretrained parameter \"readout.1.bias\".\n",
      "Loading pretrained parameter \"readout.4.weight\".\n",
      "Loading pretrained parameter \"readout.4.bias\".\n",
      "Loading pretrained parameter \"readout.7.weight\".\n",
      "Loading pretrained parameter \"readout.7.bias\".\n"
     ]
    }
   ],
   "source": [
    "# Example SHAP Analysis\n",
    "# Imports\n",
    "from chemprop.args import TrainArgs\n",
    "from chemprop.models.model import MoleculeModel\n",
    "\n",
    "import torch\n",
    "from chemprop.utils import load_checkpoint, load_scalers\n",
    "from chemprop.features import set_extra_bond_fdim\n",
    "\n",
    "# Load TrainArgs and MoleculeModel\n",
    "path = \"/home/oscarwu/code/chemprop_developing/developing/shap_v1/data/model.pt\"\n",
    "state = torch.load(path, map_location=lambda storage, loc: storage)\n",
    "train_args = TrainArgs()\n",
    "train_args.from_dict(vars(state[\"args\"]), skip_unsettable=True)\n",
    "set_extra_bond_fdim(train_args.bond_features_size)\n",
    "model = load_checkpoint(path)\n",
    "scalers = load_scalers(path)\n",
    "\n",
    "# Create a MoleculeModel Wrapper\n",
    "class MoleculeModelWrapper:\n",
    "    def __init__(self, model, train_args, scalers, smiles, shap, features_batch, \n",
    "                 atom_descriptors_batch, atom_features_batch, bond_descriptors_batch, bond_features_batch):\n",
    "        self.model = model\n",
    "        self.train_args = train_args\n",
    "        self.target_scaler, self.mol_feature_scaler, _, _, _ = scalers\n",
    "        self.smiles = smiles\n",
    "        self.shap = shap\n",
    "        self.features_batch = self.mol_feature_scaler.transform(features_batch) if features_batch is not None else None\n",
    "        self.atom_descriptors_batch = atom_descriptors_batch\n",
    "        self.atom_features_batch = atom_features_batch\n",
    "        self.bond_descriptors_batch = bond_descriptors_batch\n",
    "        self.bond_features_batch = bond_features_batch\n",
    "        \n",
    "\n",
    "    def __call__(self, feature_choice):\n",
    "        batch = [[smi] for smi in self.smiles]\n",
    "        extra_keep_features_batch = [feature_choice[0:20]] # 20 extra molecular features\n",
    "        extra_atom_keep_descriptors_batch = [feature_choice[20:33]] # 13 atom descriptors\n",
    "        extra_bond_keep_descriptors_batch = None # 0 bond descriptors\n",
    "        extra_atom_keep_features_batch = None # 0 atom features\n",
    "        extra_bond_keep_features_batch = [feature_choice[33:37]] # 4 bond features\n",
    "        chemprop_atom_keep_features = [feature_choice[37:45]] # 8 chemprop atom features\n",
    "        chemprop_bond_keep_features = [feature_choice[45:49]] # 4 chemprop bond features\n",
    "        \n",
    "        output = self.model(batch, \n",
    "                            self.features_batch, \n",
    "                            self.atom_descriptors_batch, \n",
    "                            self.atom_features_batch, \n",
    "                            self.bond_descriptors_batch, \n",
    "                            self.bond_features_batch, \n",
    "                            shap, \n",
    "                            extra_keep_features_batch, \n",
    "                            extra_atom_keep_descriptors_batch, \n",
    "                            extra_bond_keep_descriptors_batch, \n",
    "                            extra_atom_keep_features_batch, \n",
    "                            extra_bond_keep_features_batch, \n",
    "                            chemprop_atom_keep_features, \n",
    "                            chemprop_bond_keep_features)\n",
    "        \n",
    "        return self.target_scaler.inverse_transform(output).flatten()\n",
    "        "
   ]
  },
  {
   "cell_type": "code",
   "execution_count": null,
   "metadata": {},
   "outputs": [],
   "source": []
  }
 ],
 "metadata": {
  "language_info": {
   "name": "python"
  }
 },
 "nbformat": 4,
 "nbformat_minor": 2
}
